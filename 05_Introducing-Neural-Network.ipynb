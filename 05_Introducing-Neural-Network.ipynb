{
 "cells": [
  {
   "cell_type": "code",
   "execution_count": 21,
   "id": "57f96009",
   "metadata": {},
   "outputs": [],
   "source": [
    "import numpy as np\n",
    "import pandas as pd\n",
    "import matplotlib.pyplot as plt\n",
    "%matplotlib inline        \n",
    "import japanize_matplotlib   "
   ]
  },
  {
   "cell_type": "markdown",
   "id": "7ac7bcad",
   "metadata": {},
   "source": [
    "**機械学習の特徴**\n",
    "- 機械学習はデータが命\n",
    "- ニューラルネットワークやディープラーニングは、人の介入を遠ざけることができる\n",
    "- モデルの汎化性能を上げるため、訓練データで学習後、テストデータで評価する\n",
    "- 過学習（overfitting）を避けることは重要な課題である"
   ]
  },
  {
   "cell_type": "markdown",
   "id": "56ac4590",
   "metadata": {},
   "source": [
    "# ニューラルネットワークとは"
   ]
  },
  {
   "cell_type": "markdown",
   "id": "f7bb89bf",
   "metadata": {},
   "source": [
    "![](image/05_neural-network.png)"
   ]
  },
  {
   "cell_type": "markdown",
   "id": "ed923d8a",
   "metadata": {},
   "source": [
    "## 入力層・中間層・出力層"
   ]
  },
  {
   "cell_type": "markdown",
   "id": "cd94c0d0",
   "metadata": {},
   "source": [
    "最初の層を**入力層**、最後の層を**出力層** 、その間にある層を**中間層**または**隠れ層**という。"
   ]
  },
  {
   "cell_type": "markdown",
   "id": "7283e4e1",
   "metadata": {},
   "source": [
    "## 信号の伝達"
   ]
  },
  {
   "cell_type": "markdown",
   "id": "e012ffa4",
   "metadata": {},
   "source": [
    "$w$は重み、$x$は信号、$h()$は活性化関数。<br>\n",
    "$x_0w_0$について、$x_0$は常に1であり、$x_0w_0$はバイアス（$b$）である。\n",
    "\n",
    "$$a=b+w_1x_1+w_2x_2+\\cdots+w_nx_n$$\n",
    "$$y=h(a)$$"
   ]
  },
  {
   "cell_type": "markdown",
   "id": "46b08e33",
   "metadata": {},
   "source": [
    "# 活性化関数"
   ]
  },
  {
   "cell_type": "markdown",
   "id": "5c57df07",
   "metadata": {},
   "source": [
    "入力信号の総和がどのように活性化するかを決定する。<br><br>\n",
    "多層化する恩恵を受けるために、活性化関数には非線形関数を使う必要がある。<br>\n",
    "ニューラルネットワークでは滑らかに変化する関数を利用する。"
   ]
  },
  {
   "cell_type": "markdown",
   "id": "f600b87a",
   "metadata": {},
   "source": [
    "## ステップ関数"
   ]
  },
  {
   "cell_type": "markdown",
   "id": "4cc2cc9a",
   "metadata": {},
   "source": [
    "パーセプトロンではニューロン間を0か1の二値の信号が流れる。"
   ]
  },
  {
   "cell_type": "markdown",
   "id": "b8d41240",
   "metadata": {},
   "source": [
    "$$h(x)=\\begin{cases}\n",
    "    1 & (x > 0) \\\\\n",
    "    0 & (x \\leqq 0)\n",
    "  \\end{cases}$$"
   ]
  },
  {
   "cell_type": "code",
   "execution_count": 22,
   "id": "909253fd",
   "metadata": {},
   "outputs": [],
   "source": [
    "def step_function(x):\n",
    "    return np.array(x > 0, dtype=np.int_)"
   ]
  },
  {
   "cell_type": "code",
   "execution_count": 23,
   "id": "4f4cf158",
   "metadata": {},
   "outputs": [
    {
     "data": {
      "image/png": "[encoded data removed]",
      "text/plain": [
       "<Figure size 432x288 with 1 Axes>"
      ]
     },
     "metadata": {
      "needs_background": "light"
     },
     "output_type": "display_data"
    }
   ],
   "source": [
    "x = np.arange(-5.0, 5.0, 0.1) #-5.0から5.0まで0.1刻みで\n",
    "y = step_function(x)\n",
    "plt.plot(x, y)\n",
    "plt.ylim(-0.1, 1.1) #y軸の範囲指定\n",
    "plt.show()"
   ]
  },
  {
   "cell_type": "markdown",
   "id": "815c5627",
   "metadata": {},
   "source": [
    "## シグモイド関数"
   ]
  },
  {
   "cell_type": "markdown",
   "id": "880602f5",
   "metadata": {},
   "source": [
    "滑らかな関数。連続的な実数値の信号が流れるニューラルネットワークにおいて重要な関数。古くからニューラルネットワークに用いられてきた。<br>\n",
    "2クラス分類問題における出力層の活性化関数として使われることが多い。"
   ]
  },
  {
   "cell_type": "markdown",
   "id": "0c538f40",
   "metadata": {},
   "source": [
    "$$h(x)=\\frac{1}{1+e^{-x}}$$"
   ]
  },
  {
   "cell_type": "code",
   "execution_count": 24,
   "id": "e80410c2",
   "metadata": {},
   "outputs": [],
   "source": [
    "def sigmoid(x):\n",
    "    return 1 / (1 + np.exp(-x))"
   ]
  },
  {
   "cell_type": "code",
   "execution_count": 25,
   "id": "a1bda56b",
   "metadata": {},
   "outputs": [
    {
     "data": {
      "image/png": "[encoded data removed]",
      "text/plain": [
       "<Figure size 432x288 with 1 Axes>"
      ]
     },
     "metadata": {
      "needs_background": "light"
     },
     "output_type": "display_data"
    }
   ],
   "source": [
    "x = np.arange(-7.0, 7.0, 0.1)\n",
    "y = sigmoid(x)\n",
    "plt.plot(x, y)\n",
    "plt.ylim(-0.1, 1.1)\n",
    "plt.show()"
   ]
  },
  {
   "cell_type": "markdown",
   "id": "12d4f0f2",
   "metadata": {},
   "source": [
    "## tanh関数"
   ]
  },
  {
   "cell_type": "markdown",
   "id": "77d05fff",
   "metadata": {},
   "source": [
    "シグモイド関数と同じく、S字カーブを描く関数。原点対称。"
   ]
  },
  {
   "cell_type": "markdown",
   "id": "611c8a9c",
   "metadata": {},
   "source": [
    "$$h(x) =\\dfrac{e^{x}-e^{-x}}{e^{x}+e^{-x}}$$"
   ]
  },
  {
   "cell_type": "code",
   "execution_count": 26,
   "id": "f6ef045d",
   "metadata": {},
   "outputs": [],
   "source": [
    "def tanh(x):\n",
    "    return (np.exp(x) - np.exp(-x)) / (np.exp(x) + np.exp(-x))"
   ]
  },
  {
   "cell_type": "code",
   "execution_count": 27,
   "id": "6571bb6f",
   "metadata": {},
   "outputs": [
    {
     "data": {
      "text/plain": [
       "<function matplotlib.pyplot.show(close=None, block=None)>"
      ]
     },
     "execution_count": 27,
     "metadata": {},
     "output_type": "execute_result"
    },
    {
     "data": {
      "image/png": "[encoded data removed]",
      "text/plain": [
       "<Figure size 432x288 with 1 Axes>"
      ]
     },
     "metadata": {
      "needs_background": "light"
     },
     "output_type": "display_data"
    }
   ],
   "source": [
    "x = np.arange(-7.0, 7.0, 0.1)\n",
    "y = tanh(x)\n",
    "plt.plot(x, y)\n",
    "plt.ylim(-1.1, 1.1)\n",
    "plt.show"
   ]
  },
  {
   "cell_type": "markdown",
   "id": "2b5401f6",
   "metadata": {},
   "source": [
    "## ReLU関数"
   ]
  },
  {
   "cell_type": "markdown",
   "id": "0cd611f8",
   "metadata": {},
   "source": [
    "最近、ニューラルネットワークで主に用いられる関数。<br>\n",
    "0以下の入力には0を返し、0より大きい入力には入力値と同じ値を出力する。"
   ]
  },
  {
   "cell_type": "markdown",
   "id": "40f76dc5",
   "metadata": {},
   "source": [
    "$$h(x)=\\begin{cases}\n",
    "    x & (x > 0) \\\\\n",
    "    0 & (x \\leqq 0)\n",
    "  \\end{cases}$$"
   ]
  },
  {
   "cell_type": "code",
   "execution_count": 28,
   "id": "53cb6e7d",
   "metadata": {},
   "outputs": [],
   "source": [
    "def relu(x):\n",
    "    return np.maximum(0, x)"
   ]
  },
  {
   "cell_type": "code",
   "execution_count": 29,
   "id": "3b84c545",
   "metadata": {},
   "outputs": [
    {
     "data": {
      "image/png": "[encoded data removed]",
      "text/plain": [
       "<Figure size 432x288 with 1 Axes>"
      ]
     },
     "metadata": {
      "needs_background": "light"
     },
     "output_type": "display_data"
    }
   ],
   "source": [
    "x = np.arange(-5.0, 5.0, 0.1)\n",
    "y = relu(x)\n",
    "plt.plot(x, y)\n",
    "plt.show()"
   ]
  },
  {
   "cell_type": "markdown",
   "id": "9366d76e",
   "metadata": {},
   "source": [
    "## 恒等関数"
   ]
  },
  {
   "cell_type": "markdown",
   "id": "6d3c93bb",
   "metadata": {},
   "source": [
    "入力値をそのまま出力する。回帰問題の出力層の活性化関数として利用する。出力層の活性化関数は隠れ層の活性化関数$h()$とは区別して$\\sigma()$とする。"
   ]
  },
  {
   "cell_type": "markdown",
   "id": "37ec5847",
   "metadata": {},
   "source": [
    "$$h(x)=x$$"
   ]
  },
  {
   "cell_type": "code",
   "execution_count": 30,
   "id": "93d3abab",
   "metadata": {},
   "outputs": [],
   "source": [
    "def identity_function(x):\n",
    "    return x"
   ]
  },
  {
   "cell_type": "code",
   "execution_count": 31,
   "id": "d1a0de94",
   "metadata": {},
   "outputs": [
    {
     "data": {
      "image/png": "[encoded data removed]",
      "text/plain": [
       "<Figure size 432x288 with 1 Axes>"
      ]
     },
     "metadata": {
      "needs_background": "light"
     },
     "output_type": "display_data"
    }
   ],
   "source": [
    "x = np.arange(-5.0, 5.0, 0.1)\n",
    "y = identity_function(x)\n",
    "plt.plot(x, y)\n",
    "plt.show()"
   ]
  },
  {
   "cell_type": "markdown",
   "id": "8286d5bc",
   "metadata": {},
   "source": [
    "## ソフトマックス関数"
   ]
  },
  {
   "cell_type": "markdown",
   "id": "29d5e855",
   "metadata": {},
   "source": [
    "他クラス分類問題の出力層の活性化関数として利用される。出力の各ニューロンが、すべての入力信号から影響を受ける。"
   ]
  },
  {
   "cell_type": "markdown",
   "id": "ed3fcfb1",
   "metadata": {},
   "source": [
    "$$y_k=\\frac{\\exp(a_k)}{\\sum_{i=1}^{n}\\exp(a_i)}$$"
   ]
  },
  {
   "cell_type": "markdown",
   "id": "9f792b25",
   "metadata": {},
   "source": [
    "指数関数の値は容易に大きくなり、無限大（`inf`）となることもある。大きな値どうしで割り算をすると数値が不安定になるため、工夫が必要。"
   ]
  },
  {
   "cell_type": "markdown",
   "id": "abe7984d",
   "metadata": {},
   "source": [
    "$$\\begin{align}\n",
    "y_k=\\frac{\\exp(a_k)}{\\sum_{i=1}^{n}\\exp(a_i)} &= \\frac{C\\exp(a_k)}{C\\sum_{i=1}^{n}\\exp(a_i)} \\\\\\\\\n",
    "&= \\frac{\\exp(a_k+\\log C)}{\\sum_{i=1}^{n}\\exp(a_i+\\log C)} \\\\\\\\\n",
    "&= \\frac{\\exp(a_k+C')}{\\sum_{i=1}^{n}\\exp(a_i+C')}\n",
    "\\end{align}$$"
   ]
  },
  {
   "cell_type": "markdown",
   "id": "06ed5e9b",
   "metadata": {},
   "source": [
    "入力信号の最大値を引くことで、オーバーフローを防ぐ。"
   ]
  },
  {
   "cell_type": "code",
   "execution_count": 32,
   "id": "c0506868",
   "metadata": {},
   "outputs": [],
   "source": [
    "def softmax(a):\n",
    "    c = np.max(a) #入力信号の最大値を取得\n",
    "    exp_a = np.exp(a - c) #オーバーフロー対策\n",
    "    sum_exp_a = np.sum(exp_a)\n",
    "    y = exp_a / sum_exp_a\n",
    "    \n",
    "    return y"
   ]
  },
  {
   "cell_type": "code",
   "execution_count": 33,
   "id": "c3c2903d",
   "metadata": {},
   "outputs": [
    {
     "data": {
      "image/png": "[encoded data removed]",
      "text/plain": [
       "<Figure size 432x288 with 1 Axes>"
      ]
     },
     "metadata": {
      "needs_background": "light"
     },
     "output_type": "display_data"
    }
   ],
   "source": [
    "x = np.arange(-5.0, 5.0, 0.5)\n",
    "y = softmax(x)\n",
    "plt.plot(x, y)\n",
    "plt.show()"
   ]
  },
  {
   "cell_type": "markdown",
   "id": "bef8e452",
   "metadata": {},
   "source": [
    "ソフトマックス関数では、出力が0から1の実数値となり、また出力の総和は1になるため、出力結果を確率として解釈できる。"
   ]
  },
  {
   "cell_type": "code",
   "execution_count": 34,
   "id": "a2205698",
   "metadata": {},
   "outputs": [
    {
     "name": "stdout",
     "output_type": "stream",
     "text": [
      "[0.01821127 0.24519181 0.73659691]\n"
     ]
    },
    {
     "data": {
      "text/plain": [
       "1.0"
      ]
     },
     "execution_count": 34,
     "metadata": {},
     "output_type": "execute_result"
    }
   ],
   "source": [
    "a = np.array([0.3, 2.9, 4.0])\n",
    "y = softmax(a)\n",
    "print(y)\n",
    "np.sum(y)"
   ]
  },
  {
   "cell_type": "markdown",
   "id": "d88058e8",
   "metadata": {},
   "source": [
    "また指数関数 $y=e^x$ は単調に増加するため、ソフトマックス関数の適用前後で各要素の大小関係は変わらない。<br><br>\n",
    "クラス分類では、出力が一番大きいニューロンに相当するクラスを識別結果とすることや、指数関数の計算の高い計算コストのために、<br>\n",
    "分類問題の出力層のソフトマックス関数は省略するのが一般的。"
   ]
  },
  {
   "cell_type": "markdown",
   "id": "8dcbdd54",
   "metadata": {},
   "source": [
    "# 実装"
   ]
  },
  {
   "cell_type": "markdown",
   "id": "a9a3ca3b",
   "metadata": {},
   "source": [
    "## 多次元配列"
   ]
  },
  {
   "cell_type": "markdown",
   "id": "3abe31fa",
   "metadata": {},
   "source": [
    "行列の積の計算\n",
    "$$\n",
    "\\begin{pmatrix}\n",
    "1 & 2 \\\\\n",
    "3 & 4 \n",
    "\\end{pmatrix}\n",
    "\\begin{pmatrix}\n",
    "5 & 6 \\\\\n",
    "7 & 8 \n",
    "\\end{pmatrix}=\n",
    "\\begin{pmatrix}\n",
    "19 & 22 \\\\\n",
    "43 & 50 \n",
    "\\end{pmatrix}$$"
   ]
  },
  {
   "cell_type": "code",
   "execution_count": 35,
   "id": "dc68e8f8",
   "metadata": {},
   "outputs": [
    {
     "data": {
      "text/plain": [
       "array([[19, 22],\n",
       "       [43, 50]])"
      ]
     },
     "execution_count": 35,
     "metadata": {},
     "output_type": "execute_result"
    }
   ],
   "source": [
    "# Pythonで実装\n",
    "A = np.array([[1,2],[3,4]])\n",
    "B = np.array([[5,6],[7,8]])\n",
    "np.dot(A, B)"
   ]
  },
  {
   "cell_type": "markdown",
   "id": "2ff71b90",
   "metadata": {},
   "source": [
    "## ニューラルネットワークの計算"
   ]
  },
  {
   "cell_type": "markdown",
   "id": "b86c98a1",
   "metadata": {},
   "source": [
    "ニューラルネットワークの各層の計算は、行列の積としてまとめて行うことができる。"
   ]
  },
  {
   "cell_type": "markdown",
   "id": "86f7998f",
   "metadata": {},
   "source": [
    "$a_k^{(n)}$が第$n$層目、$k$番目のニューロン、<br>\n",
    "$b_k^{(n)}$が第$n$層目の、k番目のニューロンへのバイアス、<br>\n",
    "$w_{kl}^{(n)}$が第$n$層目の、前層$l$番目のニューロンから次層$k$番目のニューロンへの重み、<br>\n",
    "$x_k$がk番目の入力値（渡された値）、<br>\n",
    "$h()$が活性化関数を表すとすると、\n",
    "\n",
    "$$A^{(1)}=\\begin{pmatrix}a_1^{(1)} & a_2^{(1)} & a_3^{(1)}\\end{pmatrix},\n",
    "X=\\begin{pmatrix}x_1 & x_2\\end{pmatrix},\n",
    "B^{(1)}=\\begin{pmatrix}b_1^{(1)} & b_2^{(1)} & b_3^{(1)}\\end{pmatrix},\n",
    "W^{(1)}=\\begin{pmatrix}w_{11}^{(1)} & w_{21}^{(1)} & w_{31}^{(1)} \\\\ \n",
    "w_{12}^{(1)} & w_{22}^{(1)} & w_{32}^{(1)}\\end{pmatrix}$$\n",
    "\n",
    "として、第1層目の「重み付き和」$A^{(1)}$が得られ、$Z^{(1)}$が次層へ渡される。\n",
    "\n",
    "$$A^{(1)}=XW^{(1)}+B^{(1)}$$\n",
    "\n",
    "$$Z^{(1)}=h(A^{(1)})$$"
   ]
  },
  {
   "cell_type": "code",
   "execution_count": 36,
   "id": "b92e95d3",
   "metadata": {},
   "outputs": [
    {
     "name": "stdout",
     "output_type": "stream",
     "text": [
      "[0.3 0.7 1.1]\n",
      "[0.57444252 0.66818777 0.75026011]\n"
     ]
    }
   ],
   "source": [
    "# Pythonで実装\n",
    "X = np.array([1.0, 0.5])\n",
    "W1 = np.array([[0.1, 0.3, 0.5], [0.2, 0.4, 0.6]])\n",
    "B1 = np.array([0.1, 0.2, 0.3])\n",
    "\n",
    "A1 = np.dot(X, W1) + B1\n",
    "Z1 = sigmoid(A1)\n",
    "\n",
    "print(A1)\n",
    "print(Z1)"
   ]
  },
  {
   "cell_type": "code",
   "execution_count": 37,
   "id": "bc1012d3",
   "metadata": {},
   "outputs": [
    {
     "name": "stdout",
     "output_type": "stream",
     "text": [
      "[0.51615984 1.21402696]\n",
      "[0.62624937 0.7710107 ]\n"
     ]
    }
   ],
   "source": [
    "W2 = np.array([[0.1, 0.4], [0.2, 0.5], [0.3, 0.6]])\n",
    "B2 = np.array([0.1, 0.2])\n",
    "\n",
    "A2 = np.dot(Z1, W2) + B2\n",
    "Z2 = sigmoid(A2)\n",
    "\n",
    "print(A2)\n",
    "print(Z2)"
   ]
  },
  {
   "cell_type": "code",
   "execution_count": 38,
   "id": "77e2b1f1",
   "metadata": {},
   "outputs": [
    {
     "name": "stdout",
     "output_type": "stream",
     "text": [
      "[0.31682708 0.69627909]\n",
      "[0.31682708 0.69627909]\n"
     ]
    }
   ],
   "source": [
    "W3 = np.array([[0.1, 0.3], [0.2, 0.4]])\n",
    "B3 = np.array([0.1, 0.2])\n",
    "\n",
    "A3 = np.dot(Z2, W3) + B3\n",
    "Y = identity_function(A3)\n",
    "\n",
    "print(A3)\n",
    "print(Y)"
   ]
  },
  {
   "cell_type": "markdown",
   "id": "9dc7a47b",
   "metadata": {},
   "source": [
    "以下で、ニューラルネットワークの全体の流れを記述する。"
   ]
  },
  {
   "cell_type": "code",
   "execution_count": 39,
   "id": "e4ede6c3",
   "metadata": {},
   "outputs": [
    {
     "name": "stdout",
     "output_type": "stream",
     "text": [
      "[0.31682708 0.69627909]\n"
     ]
    }
   ],
   "source": [
    "# 3層ニューラルネットワークの実装\n",
    "def init_network():  #重みとバイアスの初期化\n",
    "    network = {}\n",
    "    network['W1'] = np.array([[0.1, 0.3, 0.5], [0.2, 0.4, 0.6]])\n",
    "    network['b1'] = np.array([0.1, 0.2, 0.3])\n",
    "    network['W2'] = np.array([[0.1, 0.4], [0.2, 0.5], [0.3, 0.6]])\n",
    "    network['b2'] = np.array([0.1, 0.2])\n",
    "    network['W3'] = np.array([[0.1, 0.3], [0.2, 0.4]])\n",
    "    network['b3'] = np.array([0.1, 0.2])\n",
    "    \n",
    "    return network\n",
    "\n",
    "def forward(network, x):  #入力から出力方向への伝達処理\n",
    "    W1, W2, W3 = network['W1'], network['W2'], network['W3']\n",
    "    b1, b2, b3 = network['b1'], network['b2'], network['b3']\n",
    "    \n",
    "    a1 = np.dot(x, W1) + b1\n",
    "    z1 = sigmoid(a1)\n",
    "    a2 = np.dot(z1, W2) + b2\n",
    "    z2 = sigmoid(a2)\n",
    "    a3 = np.dot(z2, W3) + b3\n",
    "    y = identity_function(a3)\n",
    "    \n",
    "    return y\n",
    "\n",
    "network = init_network()\n",
    "x = np.array([1.0, 0.5])\n",
    "y = forward(network, x)\n",
    "print(y)"
   ]
  },
  {
   "cell_type": "markdown",
   "id": "144cd69f",
   "metadata": {},
   "source": [
    "## 手書き数字認識"
   ]
  },
  {
   "cell_type": "markdown",
   "id": "b4fe6681",
   "metadata": {},
   "source": [
    "**load_mnist関数**\n",
    "- Parameters\n",
    "    - `normalize` : 画像のピクセル値を0.0~1.0に正規化する\n",
    "    - `one_hot_label` : Trueの場合、ラベルはone-hot配列（`[0,0,1,0,0,0,0,0,0,0]`のような配列）として返す\n",
    "    - `flatten` : 画像をNumpy配列の一次元配列に平にするかどうか\n",
    "- Returns\n",
    "    - (訓練画像, 訓練ラベル), (テスト画像, テストラベル)"
   ]
  },
  {
   "cell_type": "code",
   "execution_count": 40,
   "id": "0f6fe4d1",
   "metadata": {},
   "outputs": [
    {
     "name": "stdout",
     "output_type": "stream",
     "text": [
      "(60000, 784)\n",
      "(60000,)\n",
      "(10000, 784)\n",
      "(10000,)\n"
     ]
    }
   ],
   "source": [
    "from source.dataset01.mnist import load_mnist\n",
    "\n",
    "(x_train, t_train), (x_test, t_test) = \\\n",
    "    load_mnist(flatten=True, normalize=False)\n",
    "\n",
    "print(x_train.shape)\n",
    "print(t_train.shape)\n",
    "print(x_test.shape)\n",
    "print(t_test.shape)"
   ]
  },
  {
   "cell_type": "code",
   "execution_count": 41,
   "id": "2767ef65",
   "metadata": {},
   "outputs": [
    {
     "name": "stdout",
     "output_type": "stream",
     "text": [
      "5\n",
      "(784,)\n",
      "(28, 28)\n"
     ]
    }
   ],
   "source": [
    "from PIL import Image\n",
    "\n",
    "def img_show(img):\n",
    "    pil_img = Image.fromarray(np.uint8(img)) #Numpy画像データをPIL用データオブジェクトに変換\n",
    "    pil_img.show()\n",
    "    \n",
    "(x_train, t_train), (x_test, t_test) = load_mnist(flatten=True, normalize=False) #一次元配列にする\n",
    "\n",
    "img = x_train[0]\n",
    "label = t_train[0]\n",
    "print(label)\n",
    "\n",
    "print(img.shape)\n",
    "img = img.reshape(28, 28) #元の形状に再変形\n",
    "print(img.shape)\n",
    "\n",
    "img_show(img)"
   ]
  },
  {
   "cell_type": "markdown",
   "id": "79d4ac20",
   "metadata": {},
   "source": [
    "### 推論処理"
   ]
  },
  {
   "cell_type": "markdown",
   "id": "6f3a2474",
   "metadata": {},
   "source": [
    "推論処理を行うニューラルネットワークを実装する。<br><br>\n",
    "入力層は784個（画像サイズ）、出力層は10個（10クラス分類）、2つの隠れ層（任意）のうち、1つ目隠れ層は50個（任意）、2つ目の隠れ層は100個（任意）のニューロンで構成される。"
   ]
  },
  {
   "cell_type": "code",
   "execution_count": 42,
   "id": "254b7eeb",
   "metadata": {},
   "outputs": [],
   "source": [
    "import pickle\n",
    "\n",
    "def get_data(): #前処理\n",
    "    (x_train, t_train), (x_test, t_test) = load_mnist(normalize=True, flatten=True, one_hot_label=False)\n",
    "    return x_test, t_test\n",
    "\n",
    "\n",
    "def init_network(): #sample_weight.pklに保存の学習済み重みパラメータを読み込む\n",
    "    with open(\"pickle/sample_weight.pkl\", 'rb') as f:\n",
    "        network = pickle.load(f)\n",
    "    return network\n",
    "\n",
    "\n",
    "def predict(network, x): #順方向伝播\n",
    "    W1, W2, W3 = network['W1'], network['W2'], network['W3']\n",
    "    b1, b2, b3 = network['b1'], network['b2'], network['b3']\n",
    "\n",
    "    a1 = np.dot(x, W1) + b1\n",
    "    z1 = sigmoid(a1)\n",
    "    a2 = np.dot(z1, W2) + b2\n",
    "    z2 = sigmoid(a2)\n",
    "    a3 = np.dot(z2, W3) + b3\n",
    "    y = softmax(a3)\n",
    "\n",
    "    return y"
   ]
  },
  {
   "cell_type": "code",
   "execution_count": 43,
   "id": "437cfcf4",
   "metadata": {},
   "outputs": [
    {
     "name": "stdout",
     "output_type": "stream",
     "text": [
      "Accuracy:0.9352\n",
      "CPU times: user 1.04 s, sys: 1.6 s, total: 2.64 s\n",
      "Wall time: 1.29 s\n"
     ]
    }
   ],
   "source": [
    "%%time\n",
    "\n",
    "x, t = get_data()\n",
    "network = init_network()\n",
    "\n",
    "accuracy_cnt = 0\n",
    "\n",
    "for i in range(len(x)):\n",
    "    y = predict(network, x[i])\n",
    "    p= np.argmax(y) #最も確率の高い要素のインデックスを取得\n",
    "    if p == t[i]:\n",
    "        accuracy_cnt += 1\n",
    "\n",
    "print(\"Accuracy:\" + str(float(accuracy_cnt) / len(x)))"
   ]
  },
  {
   "cell_type": "markdown",
   "id": "bc3aaf1f",
   "metadata": {},
   "source": [
    "以下で、対応する要素数が一致することを確認する。（バイアスは省略）"
   ]
  },
  {
   "cell_type": "code",
   "execution_count": 44,
   "id": "96143595",
   "metadata": {},
   "outputs": [
    {
     "name": "stdout",
     "output_type": "stream",
     "text": [
      "(10000, 784)\n",
      "(784,)\n",
      "(784, 50)\n",
      "(50, 100)\n",
      "(100, 10)\n",
      "(10,)\n"
     ]
    }
   ],
   "source": [
    "x, _ = get_data()\n",
    "network = init_network()\n",
    "W1, W2, W3 = network['W1'], network['W2'], network['W3']\n",
    "print(x.shape)\n",
    "print(x[0].shape)\n",
    "print(W1.shape)\n",
    "print(W2.shape)\n",
    "print(W3.shape)\n",
    "print(y.shape)"
   ]
  },
  {
   "cell_type": "markdown",
   "id": "6805c607",
   "metadata": {},
   "source": [
    "$$\n",
    "\\begin{pmatrix}\n",
    "x_{1\\,1} & \\cdots & x_{1\\,784}\\end{pmatrix}\n",
    "\\begin{pmatrix}w_{1\\,1}^{(1)} & \\cdots & w_{50\\,1}^{(1)} \\\\ \n",
    "\\vdots & \\ddots & \\vdots \\\\\n",
    "w_{1\\,784}^{(1)} & \\cdots & w_{50\\,784}^{(1)}\\end{pmatrix}\n",
    "\\begin{pmatrix}w_{1\\,1}^{(2)} & \\cdots & w_{100\\,1}^{(2)} \\\\ \n",
    "\\vdots & \\ddots & \\vdots \\\\\n",
    "w_{1\\,50}^{(2)} & \\cdots & w_{100\\,50}^{(2)}\\end{pmatrix}\n",
    "\\begin{pmatrix}w_{1\\,1}^{(3)} & \\cdots & w_{10\\,1}^{(3)} \\\\ \n",
    "\\vdots & \\ddots & \\vdots \\\\\n",
    "w_{1\\,100}^{(3)} & \\cdots & w_{10\\,100}^{(3)}\\end{pmatrix}\n",
    "=\n",
    "\\begin{pmatrix}\n",
    "y_{1\\,1} & \\cdots & y_{1\\,10}\\end{pmatrix}\n",
    "$$\n",
    "\n",
    "$$784\\qquad\\qquad\\qquad784\\times50\\qquad\\qquad\\qquad50\\times100\\qquad\\qquad\\qquad100\\times10\\qquad\\qquad\\qquad10$$\n",
    "\n",
    "※バイアスは省略"
   ]
  },
  {
   "cell_type": "markdown",
   "id": "3e3d3266",
   "metadata": {},
   "source": [
    "### バッチ処理"
   ]
  },
  {
   "cell_type": "markdown",
   "id": "a3a9b7ba",
   "metadata": {},
   "source": [
    "ライブラリの多くは、大きな配列の計算を効率よく処理できるよう最適化されているため、<br>\n",
    "複数の処理をまとめて行うと、処理時間を大きく短縮することができる。（バッチ処理）<br><br>\n",
    "ここでは、100個の処理をまとめて行うために、`x`の形状を $100\\times784$ とする。"
   ]
  },
  {
   "cell_type": "markdown",
   "id": "cf677ebf",
   "metadata": {},
   "source": [
    "$$\n",
    "\\begin{pmatrix}x_{1\\,1} & \\cdots & x_{1\\,784} \\\\\n",
    "\\vdots & \\ddots & \\vdots \\\\\n",
    "x_{100\\,1} & \\cdots & x_{100\\,784}\\end{pmatrix}\n",
    "\\begin{pmatrix}w_{1\\,1}^{(1)} & \\cdots & w_{50\\,1}^{(1)} \\\\ \n",
    "\\vdots & \\ddots & \\vdots \\\\\n",
    "w_{1\\,784}^{(1)} & \\cdots & w_{50\\,784}^{(1)}\\end{pmatrix}\n",
    "\\begin{pmatrix}w_{1\\,1}^{(2)} & \\cdots & w_{100\\,1}^{(2)} \\\\ \n",
    "\\vdots & \\ddots & \\vdots \\\\\n",
    "w_{1\\,50}^{(2)} & \\cdots & w_{100\\,50}^{(2)}\\end{pmatrix}\n",
    "\\begin{pmatrix}w_{1\\,1}^{(3)} & \\cdots & w_{10\\,1}^{(3)} \\\\ \n",
    "\\vdots & \\ddots & \\vdots \\\\\n",
    "w_{1\\,100}^{(3)} & \\cdots & w_{10\\,100}^{(3)}\\end{pmatrix}\n",
    "=\n",
    "\\begin{pmatrix}y_{1\\,1} & \\cdots & y_{1\\,10} \\\\\n",
    "\\vdots & \\ddots & \\vdots \\\\\n",
    "y_{100\\,1} & \\cdots & y_{100\\,10}\\end{pmatrix}\n",
    "$$\n",
    "\n",
    "$$100\\times784\\qquad\\qquad\\qquad784\\times50\\qquad\\qquad\\qquad50\\times100\\qquad\\qquad\\qquad100\\times10\\qquad\\qquad\\qquad100\\times10$$\n",
    "\n",
    "※バイアスは省略"
   ]
  },
  {
   "cell_type": "code",
   "execution_count": 45,
   "id": "eaa157a4",
   "metadata": {},
   "outputs": [
    {
     "name": "stdout",
     "output_type": "stream",
     "text": [
      "Accuracy:0.9352\n",
      "CPU times: user 217 ms, sys: 328 ms, total: 545 ms\n",
      "Wall time: 309 ms\n"
     ]
    }
   ],
   "source": [
    "%%time\n",
    "\n",
    "x, t = get_data()\n",
    "network = init_network()\n",
    "\n",
    "batch_size = 100 #バッチの数\n",
    "accuracy_cnt = 0\n",
    "\n",
    "for i in range(0, len(x), batch_size):\n",
    "    x_batch = x[i:i+batch_size]\n",
    "    y_batch = predict(network, x_batch)\n",
    "    p= np.argmax(y_batch, axis=1)\n",
    "    accuracy_cnt += np.sum(p == t[i:i+batch_size]) #比較演算子（==）によってブーリアン配列を作成\n",
    "\n",
    "print(\"Accuracy:\" + str(float(accuracy_cnt) / len(x)))"
   ]
  },
  {
   "cell_type": "markdown",
   "id": "eefe9ac4",
   "metadata": {},
   "source": [
    "バッチ処理の方が、約4〜5倍処理が速い。"
   ]
  },
  {
   "cell_type": "markdown",
   "id": "73972d67",
   "metadata": {},
   "source": [
    "# 損失関数（loss function）"
   ]
  },
  {
   "cell_type": "markdown",
   "id": "6ca2bab6",
   "metadata": {},
   "source": [
    "モデルの悪さを表す関数で、モデルの正確性の評価のために用いる。<br>\n",
    "\n",
    "最適なパラメータを探索する際、損失関数の値が小さくなるような場所を探す。<br>\n",
    "損失関数も対する微分の値が、0となるところで、パラメータ更新は終わる（03_Applied_Mathematics「最急降下法」）。"
   ]
  },
  {
   "cell_type": "markdown",
   "id": "19b83d81",
   "metadata": {},
   "source": [
    "認識精度（断続的）をそのまま正確性を表す指標としてしまうと、微分の値がほとんど全ての場所で0になってしまい、正しく計算されないので、損失関数（連続的）を利用する。"
   ]
  },
  {
   "cell_type": "markdown",
   "id": "4f98e4a8",
   "metadata": {},
   "source": [
    "## 二乗和誤差（sum of squared error）"
   ]
  },
  {
   "cell_type": "markdown",
   "id": "83567810",
   "metadata": {},
   "source": [
    "$$E=\\dfrac{1}{2}\\sum _{k}\\left( y_{k}-t_{k}\\right) ^{2}$$\n",
    "$y_k$:出力結果、$t_k$:教師データ、$k$:データ次元数"
   ]
  },
  {
   "cell_type": "code",
   "execution_count": 46,
   "id": "9e78eab6",
   "metadata": {},
   "outputs": [
    {
     "name": "stdout",
     "output_type": "stream",
     "text": [
      "0.09750000000000003\n",
      "0.5975\n"
     ]
    }
   ],
   "source": [
    "def sum_squared_error(y, t): #y、tはNumpy配列\n",
    "    return 0.5 * np.sum((y - t)**2)\n",
    "\n",
    "#2が正解\n",
    "t = [0, 0, 1, 0, 0, 0, 0, 0, 0, 0] #one-hot表現\n",
    "\n",
    "#2の確率が最大\n",
    "y1 = [0.1, 0.05, 0.6, 0.0, 0.05, 0.1, 0.0, 0.1, 0.0, 0.0]\n",
    "print(sum_squared_error(np.array(y1), np.array(t)))\n",
    "\n",
    "#7の確率が最大\n",
    "y2 = [0.1, 0.05, 0.1, 0.0, 0.05, 0.1, 0.0, 0.6, 0.0, 0.0]\n",
    "print(sum_squared_error(np.array(y2), np.array(t)))"
   ]
  },
  {
   "cell_type": "markdown",
   "id": "c62f6ea8",
   "metadata": {},
   "source": [
    "正しく正解を予想した1つ目の二乗和誤差の方が小さく、出力結果は教師データにより適合していることを示す。"
   ]
  },
  {
   "cell_type": "markdown",
   "id": "b04496fe",
   "metadata": {},
   "source": [
    "## 交差エントロピー誤差（cross entropy error）"
   ]
  },
  {
   "cell_type": "markdown",
   "id": "16050cc9",
   "metadata": {},
   "source": [
    "$$E=-\\sum _{k}t_{k}\\log y_{k}$$\n",
    "$y_k$:出力結果、$t_k$:教師データ（one-hot表現）、$k$:データ次元数"
   ]
  },
  {
   "cell_type": "markdown",
   "id": "990c72a3",
   "metadata": {},
   "source": [
    "$t_k$について、正解ラベルでないインデックスは$0$だから、このとき $t_{k}\\log y_{k}=0$<br>\n",
    "正解ラベルのインデックスは$1$だから、このとき $t_{k}\\log y_{k}=\\log y_k$<br><br>\n",
    "すなわち、「正解ラベルに対応する出力の自然対数に$-1$をかけた値」に等しい。"
   ]
  },
  {
   "cell_type": "code",
   "execution_count": 47,
   "id": "3d509147",
   "metadata": {},
   "outputs": [
    {
     "name": "stdout",
     "output_type": "stream",
     "text": [
      "0.510825457099338\n",
      "2.302584092994546\n"
     ]
    }
   ],
   "source": [
    "def cross_entropy_error(y, t):\n",
    "    delta = 1e-7 # 1*10**(-7) = 0.0000001\n",
    "    return -np.sum(t * np.log(y + delta)) #np.log(0)は-inf（負の無限大）になるため、微小な値deltaを加える\n",
    "\n",
    "#2が正解\n",
    "t = [0, 0, 1, 0, 0, 0, 0, 0, 0, 0] #one-hot表現\n",
    "\n",
    "#2の確率が最大\n",
    "y1 = [0.1, 0.05, 0.6, 0.0, 0.05, 0.1, 0.0, 0.1, 0.0, 0.0]\n",
    "print(cross_entropy_error(np.array(y1), np.array(t)))\n",
    "\n",
    "#7の確率が最大\n",
    "y2 = [0.1, 0.05, 0.1, 0.0, 0.05, 0.1, 0.0, 0.6, 0.0, 0.0]\n",
    "print(cross_entropy_error(np.array(y2), np.array(t)))"
   ]
  },
  {
   "cell_type": "markdown",
   "id": "4b4b9a35",
   "metadata": {},
   "source": [
    "正解ラベルに対応するインデックスの出力数値が大きい、1つ目の損失関数の方が小さく、出力結果は教師データにより適合していることを示す。"
   ]
  },
  {
   "cell_type": "markdown",
   "id": "86225517",
   "metadata": {},
   "source": [
    "# ミニバッチ学習"
   ]
  },
  {
   "cell_type": "markdown",
   "id": "0c0e2dc7",
   "metadata": {},
   "source": [
    "大きなデータの場合、全データを対象に処理をすると時間がかかりすぎ、現実的でない。<br>\n",
    "そのために、一部を選び出し、全体の近似とする。"
   ]
  },
  {
   "cell_type": "markdown",
   "id": "8c370138",
   "metadata": {},
   "source": [
    "以下では、データがバッチとしてまとめて入力される場合と、データがひとつの場合の両方に対応した、交差エントロピー誤差計算の実装をする。"
   ]
  },
  {
   "cell_type": "code",
   "execution_count": 48,
   "id": "56b9f352",
   "metadata": {},
   "outputs": [],
   "source": [
    "def cross_entropy_error(y, t):\n",
    "    if y.ndim == 1:\n",
    "        t = t.reshape(1, t.size)\n",
    "        y = y.reshape(1, y.size)\n",
    "    \n",
    "    batch_size = y.shape[0]\n",
    "    return -np.sum(t * np.log(y + 1e-7)) / batch_size"
   ]
  },
  {
   "cell_type": "markdown",
   "id": "2ec9c632",
   "metadata": {},
   "source": [
    "教師データがラベル（one-hot表現ではなく「2」や「7」など）で与えられたときは、以下のように実装する。"
   ]
  },
  {
   "cell_type": "code",
   "execution_count": 49,
   "id": "2ce130cf",
   "metadata": {},
   "outputs": [],
   "source": [
    "def cross_entropy_error(y, t):\n",
    "    if y.ndim == 1:\n",
    "        t = t.reshape(1, t.size)\n",
    "        y = y.reshape(1, y.size)\n",
    "    \n",
    "    batch_size = y.shape[0]\n",
    "    return -np.sum(np.log(y[np.arange(batch_size), t] + 1e-7)) / batch_size"
   ]
  },
  {
   "cell_type": "markdown",
   "id": "88596bd7",
   "metadata": {},
   "source": [
    "# ニューラルネットワークに対する勾配"
   ]
  },
  {
   "cell_type": "markdown",
   "id": "910fe65c",
   "metadata": {},
   "source": [
    "$$W=\\begin{pmatrix} w_{11} & w_{2} & w_{13} \\\\ w_{21} & w_{22} & w_{23} \\end{pmatrix}$$\n",
    "\n",
    "$$\\dfrac{\\partial L}{\\partial W}=\\begin{pmatrix} \\dfrac{\\partial L}{\\partial w _{11}} & \\dfrac{\\partial L}{\\partial w_{12}} & \\dfrac{\\partial L}{\\partial w_{13}} \\\\\n",
    "\\dfrac{\\partial L}{\\partial w_{21}} & \\dfrac{\\partial L}{\\partial w_{22}} & \\dfrac{\\partial L}{\\partial w_{23}} \\end{pmatrix}$$\n",
    "$W$:重み、$L$:損失関数、$\\dfrac{\\partial L}{\\partial W}$:勾配"
   ]
  },
  {
   "cell_type": "code",
   "execution_count": 50,
   "id": "b7b3a617",
   "metadata": {},
   "outputs": [],
   "source": [
    "from source.common01.functions import softmax, cross_entropy_error\n",
    "from source.common01.gradient import numerical_gradient\n",
    "\n",
    "\n",
    "class simpleNet:\n",
    "    def __init__(self):\n",
    "        self.W = np.random.randn(2,3) #形状2×3の重みパラメータをひとつだけインスタンス変数として持つ\n",
    "\n",
    "    def predict(self, x):\n",
    "        return np.dot(x, self.W)\n",
    "\n",
    "    def loss(self, x, t):\n",
    "        z = self.predict(x)\n",
    "        y = softmax(z)\n",
    "        loss = cross_entropy_error(y, t)\n",
    "\n",
    "        return loss"
   ]
  },
  {
   "cell_type": "markdown",
   "id": "d43b881e",
   "metadata": {},
   "source": [
    "`simpleNet`クラスには、予測メソッド`predict(x)`と、損失関数を求めるメソッド`loss(x, t)`がある。"
   ]
  },
  {
   "cell_type": "code",
   "execution_count": 51,
   "id": "cda47df7",
   "metadata": {},
   "outputs": [
    {
     "name": "stdout",
     "output_type": "stream",
     "text": [
      "[[-0.03905876  0.01545276  0.52971001]\n",
      " [-0.46102582 -0.95070393  2.56754151]]\n",
      "\n",
      "[-0.43835849 -0.84636188  2.62861337]\n",
      "2\n",
      "\n",
      "0.07466620800165799\n"
     ]
    }
   ],
   "source": [
    "net = simpleNet()\n",
    "print(net.W) #重みパラメータ\n",
    "print()\n",
    "\n",
    "x = np.array([0.6, 0.9])\n",
    "p = net.predict(x)\n",
    "print(p)\n",
    "print(np.argmax(p)) #最大値のインデックス\n",
    "print()\n",
    "\n",
    "t = np.array([0, 0, 1]) #正解ラベル\n",
    "print(net.loss(x, t))"
   ]
  },
  {
   "cell_type": "markdown",
   "id": "17b35ccc",
   "metadata": {},
   "source": [
    "勾配を求める。"
   ]
  },
  {
   "cell_type": "code",
   "execution_count": 52,
   "id": "3378afc4",
   "metadata": {},
   "outputs": [
    {
     "name": "stdout",
     "output_type": "stream",
     "text": [
      "[[ 0.02592717  0.01724096 -0.04316813]\n",
      " [ 0.03889075  0.02586144 -0.06475219]]\n"
     ]
    }
   ],
   "source": [
    "def f(W):\n",
    "    return net.loss(x, t)\n",
    "\n",
    "dW = numerical_gradient(f, net.W)\n",
    "print(dW)"
   ]
  },
  {
   "cell_type": "markdown",
   "id": "dacf1240",
   "metadata": {},
   "source": [
    "簡単な関数は、`lambda`を使って記述できる。"
   ]
  },
  {
   "cell_type": "code",
   "execution_count": 53,
   "id": "377d34b7",
   "metadata": {},
   "outputs": [
    {
     "name": "stdout",
     "output_type": "stream",
     "text": [
      "[[ 0.02592717  0.01724096 -0.04316813]\n",
      " [ 0.03889075  0.02586144 -0.06475219]]\n"
     ]
    }
   ],
   "source": [
    "f = lambda w: net.loss(x, t)\n",
    "dW = numerical_gradient(f, net.W)\n",
    "print(dW)"
   ]
  },
  {
   "cell_type": "markdown",
   "id": "a743917e",
   "metadata": {},
   "source": [
    "# 学習アルゴリズム"
   ]
  },
  {
   "cell_type": "markdown",
   "id": "b8c19825",
   "metadata": {},
   "source": [
    "**TwoLayerNetクラスのメソッド**\n",
    "\n",
    "| メソッド | 説明 | 引数 |\n",
    "|:------|:----|:----|\n",
    "| `init(self, input_size, hidden_size, output_size)` |初期化|入力ニューロン数, 中間ニューロン数, 出力ニューロン数|\n",
    "| `predict(self, x)` |認識（推論）|画像データ|\n",
    "| `loss(self, x, t`) |損失関数|画像データ, 正解ラベル|\n",
    "| `accuracy(self, x, t)` |認識精度|画像データ, 正解ラベル|\n",
    "| `numerical_gradient(self, x, t)` |重みパラメータに対する勾配を求める|画像データ, 正解ラベル|\n",
    "| `gradient(self, x, t)` |誤差逆伝播法|画像データ, 正解ラベル|"
   ]
  },
  {
   "cell_type": "code",
   "execution_count": 54,
   "id": "5281808d",
   "metadata": {},
   "outputs": [],
   "source": [
    "import numpy as np\n",
    "from source.common01.layers import *\n",
    "from source.common01.gradient import numerical_gradient\n",
    "from collections import OrderedDict\n",
    "\n",
    "\n",
    "class TwoLayerNet:\n",
    "\n",
    "    def __init__(self, input_size, hidden_size, output_size, weight_init_std = 0.01):\n",
    "        # 重みの初期化\n",
    "        self.params = {}\n",
    "        self.params['W1'] = weight_init_std * np.random.randn(input_size, hidden_size)\n",
    "        self.params['b1'] = np.zeros(hidden_size)\n",
    "        self.params['W2'] = weight_init_std * np.random.randn(hidden_size, output_size) \n",
    "        self.params['b2'] = np.zeros(output_size)\n",
    "\n",
    "        # レイヤの生成\n",
    "        self.layers = OrderedDict()\n",
    "        self.layers['Affine1'] = Affine(self.params['W1'], self.params['b1'])\n",
    "        self.layers['Relu1'] = Relu()\n",
    "        self.layers['Affine2'] = Affine(self.params['W2'], self.params['b2'])\n",
    "\n",
    "        self.lastLayer = SoftmaxWithLoss()\n",
    "        \n",
    "    def predict(self, x):\n",
    "        for layer in self.layers.values():\n",
    "            x = layer.forward(x)\n",
    "        \n",
    "        return x\n",
    "        \n",
    "    # x:入力データ, t:教師データ\n",
    "    def loss(self, x, t):\n",
    "        y = self.predict(x)\n",
    "        return self.lastLayer.forward(y, t)\n",
    "    \n",
    "    def accuracy(self, x, t):\n",
    "        y = self.predict(x)\n",
    "        y = np.argmax(y, axis=1)\n",
    "        if t.ndim != 1 : t = np.argmax(t, axis=1)\n",
    "        \n",
    "        accuracy = np.sum(y == t) / float(x.shape[0])\n",
    "        return accuracy\n",
    "        \n",
    "    # x:入力データ, t:教師データ\n",
    "    def numerical_gradient(self, x, t):\n",
    "        loss_W = lambda W: self.loss(x, t)\n",
    "        \n",
    "        grads = {}\n",
    "        grads['W1'] = numerical_gradient(loss_W, self.params['W1'])\n",
    "        grads['b1'] = numerical_gradient(loss_W, self.params['b1'])\n",
    "        grads['W2'] = numerical_gradient(loss_W, self.params['W2'])\n",
    "        grads['b2'] = numerical_gradient(loss_W, self.params['b2'])\n",
    "        \n",
    "        return grads\n",
    "        \n",
    "    def gradient(self, x, t):\n",
    "        # forward\n",
    "        self.loss(x, t)\n",
    "\n",
    "        # backward\n",
    "        dout = 1\n",
    "        dout = self.lastLayer.backward(dout)\n",
    "        \n",
    "        layers = list(self.layers.values())\n",
    "        layers.reverse()\n",
    "        for layer in layers:\n",
    "            dout = layer.backward(dout)\n",
    "\n",
    "        # 設定\n",
    "        grads = {}\n",
    "        grads['W1'], grads['b1'] = self.layers['Affine1'].dW, self.layers['Affine1'].db\n",
    "        grads['W2'], grads['b2'] = self.layers['Affine2'].dW, self.layers['Affine2'].db\n",
    "\n",
    "        return grads"
   ]
  },
  {
   "cell_type": "markdown",
   "id": "36bc2fa1",
   "metadata": {},
   "source": [
    "`numerical_gradient`は数値微分によりパラメータの勾配を計算する。<br>\n",
    "`gradient`は誤差逆伝播法によりパラメータの勾配を計算する（次章）。<br><br>\n",
    "誤差逆伝播法による結果は、数値微分による結果と**ほぼ同じ**であり、**高速**に処理できる利点がある。<br>\n",
    "以下では、誤差逆伝播法（次章で詳しく）を利用する。"
   ]
  },
  {
   "cell_type": "markdown",
   "id": "9565efd0",
   "metadata": {},
   "source": [
    "1エポックは、学習において訓練データを全て使い切ったときの回数に対応する。<br>\n",
    "10000個の訓練データに対して100個のミニバッチで学習する場合、確率的勾配降下法を100回繰り返すと、全ての訓練データを見たことになる。<br>\n",
    "この場合、100回=1エポックとなる。\n",
    "\n",
    "汎化性能を獲得できているか、過学習を起こしていないかを確認するため、テストデータに対しての認識精度もとても大切である。<br>\n",
    "1エポックごとに、訓練データとテストデータの認識精度を記録する。"
   ]
  },
  {
   "cell_type": "code",
   "execution_count": 55,
   "id": "33861e3d",
   "metadata": {},
   "outputs": [
    {
     "name": "stdout",
     "output_type": "stream",
     "text": [
      "train acc, test acc | 0.09785, 0.0979\n",
      "train acc, test acc | 0.9029833333333334, 0.9056\n",
      "train acc, test acc | 0.9242166666666667, 0.9268\n",
      "train acc, test acc | 0.9319333333333333, 0.933\n",
      "train acc, test acc | 0.9450333333333333, 0.9438\n",
      "train acc, test acc | 0.9510666666666666, 0.9478\n",
      "train acc, test acc | 0.9548333333333333, 0.9522\n",
      "train acc, test acc | 0.9600833333333333, 0.9564\n",
      "train acc, test acc | 0.9635166666666667, 0.9586\n",
      "train acc, test acc | 0.9662166666666666, 0.9629\n",
      "train acc, test acc | 0.9676166666666667, 0.9611\n",
      "train acc, test acc | 0.9709333333333333, 0.9652\n",
      "train acc, test acc | 0.9725166666666667, 0.9677\n",
      "train acc, test acc | 0.9742166666666666, 0.9679\n",
      "train acc, test acc | 0.9756666666666667, 0.9683\n",
      "train acc, test acc | 0.9767666666666667, 0.9686\n",
      "train acc, test acc | 0.9778833333333333, 0.9687\n",
      "Done\n"
     ]
    }
   ],
   "source": [
    "from source.dataset01.mnist import load_mnist\n",
    "\n",
    "# データの読み込み\n",
    "(x_train, t_train), (x_test, t_test) = load_mnist(normalize=True, one_hot_label=True)\n",
    "train_size = x_train.shape[0]\n",
    "\n",
    "network = TwoLayerNet(input_size=784, hidden_size=50, output_size=10)\n",
    "\n",
    "#ハイパーパラメータ\n",
    "iters_num = 10000  # 繰り返しの回数を適宜設定する\n",
    "batch_size = 100\n",
    "learning_rate = 0.1\n",
    "\n",
    "train_loss_list = []\n",
    "train_acc_list = []\n",
    "test_acc_list = []\n",
    "iter_per_epoch = max(train_size / batch_size, 1) #iエポックあたりの繰り返し数\n",
    "\n",
    "for i in range(iters_num):\n",
    "    #ミニバッチの取得\n",
    "    batch_mask = np.random.choice(train_size, batch_size)\n",
    "    x_batch = x_train[batch_mask]\n",
    "    t_batch = t_train[batch_mask]\n",
    "    \n",
    "    # 勾配の計算\n",
    "    #grad = network.numerical_gradient(x_batch, t_batch) #数値微分 #低速\n",
    "    grad = network.gradient(x_batch, t_batch) #誤差逆伝播法 #高速\n",
    "    \n",
    "    # パラメータの更新\n",
    "    for key in ('W1', 'b1', 'W2', 'b2'):\n",
    "        network.params[key] -= learning_rate * grad[key]\n",
    "    \n",
    "    loss = network.loss(x_batch, t_batch)\n",
    "    train_loss_list.append(loss)\n",
    "    \n",
    "    #1エポックごとに認識精度を計算\n",
    "    if i % iter_per_epoch == 0:\n",
    "        train_acc = network.accuracy(x_train, t_train)\n",
    "        test_acc = network.accuracy(x_test, t_test)\n",
    "        train_acc_list.append(train_acc)\n",
    "        test_acc_list.append(test_acc)\n",
    "        print(\"train acc, test acc | \" + str(train_acc) + \", \" + str(test_acc))\n",
    "    \n",
    "print(\"Done\")"
   ]
  },
  {
   "cell_type": "code",
   "execution_count": 56,
   "id": "d52590bc",
   "metadata": {},
   "outputs": [
    {
     "data": {
      "image/png": "[encoded data removed]",
      "text/plain": [
       "<Figure size 432x288 with 1 Axes>"
      ]
     },
     "metadata": {
      "needs_background": "light"
     },
     "output_type": "display_data"
    }
   ],
   "source": [
    "# グラフの描画\n",
    "markers = {'train': 'o', 'test': 's'}\n",
    "x = np.arange(len(train_acc_list))\n",
    "plt.plot(x, train_acc_list, label='train acc')\n",
    "plt.plot(x, test_acc_list, label='test acc', linestyle='--')\n",
    "plt.xlabel(\"epochs\")\n",
    "plt.ylabel(\"accuracy\")\n",
    "plt.ylim(0, 1.0)\n",
    "plt.legend(loc='lower right')\n",
    "plt.show()"
   ]
  },
  {
   "cell_type": "markdown",
   "id": "708a7143",
   "metadata": {},
   "source": [
    "エポックが進むにつれて、認識精度は向上している。<br>\n",
    "また訓練データとテストデータの精度には差がほとんどなく、過学習が起きていない。"
   ]
  },
  {
   "cell_type": "code",
   "execution_count": null,
   "id": "ab314875",
   "metadata": {},
   "outputs": [],
   "source": []
  }
 ],
 "metadata": {
  "kernelspec": {
   "display_name": "Python 3",
   "language": "python",
   "name": "python3"
  },
  "language_info": {
   "codemirror_mode": {
    "name": "ipython",
    "version": 3
   },
   "file_extension": ".py",
   "mimetype": "text/x-python",
   "name": "python",
   "nbconvert_exporter": "python",
   "pygments_lexer": "ipython3",
   "version": "3.8.8"
  },
  "toc": {
   "base_numbering": 1,
   "nav_menu": {},
   "number_sections": true,
   "sideBar": true,
   "skip_h1_title": false,
   "title_cell": "Table of Contents",
   "title_sidebar": "Contents",
   "toc_cell": false,
   "toc_position": {
    "height": "calc(100% - 180px)",
    "left": "10px",
    "top": "150px",
    "width": "338.8235168457031px"
   },
   "toc_section_display": true,
   "toc_window_display": true
  }
 },
 "nbformat": 4,
 "nbformat_minor": 5
}
