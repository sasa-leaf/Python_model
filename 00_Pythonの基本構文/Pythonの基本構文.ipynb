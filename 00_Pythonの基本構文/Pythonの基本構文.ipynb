{
 "cells": [
  {
   "cell_type": "markdown",
   "id": "3ae19f04",
   "metadata": {},
   "source": [
    "# 基本事項"
   ]
  },
  {
   "cell_type": "markdown",
   "id": "f6dd2398",
   "metadata": {},
   "source": [
    "## コメント・文字列・数値"
   ]
  },
  {
   "cell_type": "markdown",
   "id": "6b27b519",
   "metadata": {},
   "source": [
    "コメントは行頭に`#`をつける。その行の`#`以降はコード実行時に無視される。"
   ]
  },
  {
   "cell_type": "code",
   "execution_count": 34,
   "id": "4df15b0c",
   "metadata": {},
   "outputs": [
    {
     "name": "stdout",
     "output_type": "stream",
     "text": [
      "Hello, Python\n"
     ]
    }
   ],
   "source": [
    "#メモにどうぞ。\n",
    "print(\"Hello, Python\") #説明を残すことは大事。"
   ]
  },
  {
   "cell_type": "markdown",
   "id": "a433ec26",
   "metadata": {},
   "source": [
    "文字列は `\"`ダブルクォーテーション`\"` または `'`シングルクォーテーション`'` で囲む。数値は囲まない。"
   ]
  },
  {
   "cell_type": "code",
   "execution_count": 35,
   "id": "f8c00649",
   "metadata": {},
   "outputs": [
    {
     "name": "stdout",
     "output_type": "stream",
     "text": [
      "Hello, Python\n",
      "Hello, Python\n",
      "10\n"
     ]
    }
   ],
   "source": [
    "print(\"Hello, Python\")\n",
    "print('Hello, Python')\n",
    "print(10)"
   ]
  },
  {
   "cell_type": "code",
   "execution_count": 36,
   "id": "d4cd8697",
   "metadata": {},
   "outputs": [
    {
     "name": "stdout",
     "output_type": "stream",
     "text": [
      "10 + 5\n",
      "15\n"
     ]
    }
   ],
   "source": [
    "print('10 + 5')\n",
    "print(10 + 5)"
   ]
  },
  {
   "cell_type": "markdown",
   "id": "4def4b80",
   "metadata": {},
   "source": [
    "`%%time`で処理の時間を計測できる。"
   ]
  },
  {
   "cell_type": "code",
   "execution_count": 37,
   "id": "0accfbb8",
   "metadata": {},
   "outputs": [
    {
     "name": "stdout",
     "output_type": "stream",
     "text": [
      "10 + 5\n",
      "15\n",
      "CPU times: user 118 µs, sys: 87 µs, total: 205 µs\n",
      "Wall time: 119 µs\n"
     ]
    }
   ],
   "source": [
    "%%time\n",
    "print('10 + 5')\n",
    "print(10 + 5)"
   ]
  },
  {
   "cell_type": "markdown",
   "id": "563377eb",
   "metadata": {},
   "source": [
    "## 変数"
   ]
  },
  {
   "cell_type": "markdown",
   "id": "1abc9640",
   "metadata": {},
   "source": [
    "変数名は、大文字と小文字は区別される。どんな型でも入れられる。"
   ]
  },
  {
   "cell_type": "code",
   "execution_count": 38,
   "id": "88dd4e97",
   "metadata": {},
   "outputs": [
    {
     "name": "stdout",
     "output_type": "stream",
     "text": [
      "var\n",
      "Var\n"
     ]
    }
   ],
   "source": [
    "var = \"var\"\n",
    "Var = \"Var\"\n",
    "print(var)\n",
    "print(Var)"
   ]
  },
  {
   "cell_type": "code",
   "execution_count": 39,
   "id": "0d9c65bc",
   "metadata": {},
   "outputs": [
    {
     "name": "stdout",
     "output_type": "stream",
     "text": [
      "221\n",
      "218\n",
      "660\n",
      "55.0\n"
     ]
    }
   ],
   "source": [
    "x = 220\n",
    "print(x + 1)\n",
    "print(x - 2)\n",
    "print(x * 3)\n",
    "print(x / 4)"
   ]
  },
  {
   "cell_type": "code",
   "execution_count": 40,
   "id": "dc6214e9",
   "metadata": {},
   "outputs": [
    {
     "name": "stdout",
     "output_type": "stream",
     "text": [
      "abc\n",
      "6\n"
     ]
    }
   ],
   "source": [
    "y = \"abc\" #文字列を入れられる。\n",
    "print(y)\n",
    "y = 6     #続けて数値も入れられる。\n",
    "print(y)"
   ]
  },
  {
   "cell_type": "code",
   "execution_count": 41,
   "id": "a997e726",
   "metadata": {},
   "outputs": [
    {
     "name": "stdout",
     "output_type": "stream",
     "text": [
      "今日は6\n"
     ]
    }
   ],
   "source": [
    "var1 = '今日は{}'      #{}で空白\n",
    "var2 = var1.format(6) #formatで代入\n",
    "print(var2)"
   ]
  },
  {
   "cell_type": "markdown",
   "id": "053786c1",
   "metadata": {},
   "source": [
    "# データ型"
   ]
  },
  {
   "cell_type": "markdown",
   "id": "a1e2ee75",
   "metadata": {},
   "source": [
    "## データ型の確認"
   ]
  },
  {
   "cell_type": "markdown",
   "id": "2e373964",
   "metadata": {},
   "source": [
    "文字列`str`、整数`int`、不動小数点`float`、ブール`bool`、配列`list`、辞書`dictionary`、など。　`type()`でデータ型を確認。"
   ]
  },
  {
   "cell_type": "markdown",
   "id": "9388d6fb",
   "metadata": {},
   "source": [
    "### `str`"
   ]
  },
  {
   "cell_type": "markdown",
   "id": "439a5df7",
   "metadata": {},
   "source": [
    "型の確認"
   ]
  },
  {
   "cell_type": "code",
   "execution_count": 42,
   "id": "91ae68b0",
   "metadata": {},
   "outputs": [
    {
     "data": {
      "text/plain": [
       "str"
      ]
     },
     "execution_count": 42,
     "metadata": {},
     "output_type": "execute_result"
    }
   ],
   "source": [
    "str1 = \"abc\" #文字列はクォーテーションで囲む。\n",
    "type(str1)"
   ]
  },
  {
   "cell_type": "markdown",
   "id": "3e496eab",
   "metadata": {},
   "source": [
    "結合と反復"
   ]
  },
  {
   "cell_type": "code",
   "execution_count": 43,
   "id": "aa96ed61",
   "metadata": {},
   "outputs": [
    {
     "name": "stdout",
     "output_type": "stream",
     "text": [
      "hello world\n",
      "hello hello hello \n"
     ]
    }
   ],
   "source": [
    "str2 = \"hello \"\n",
    "str3 = \"world\"\n",
    "print(str2 + str3) #結合\n",
    "print(str2 * 3)    #反復"
   ]
  },
  {
   "cell_type": "markdown",
   "id": "7e605041",
   "metadata": {},
   "source": [
    "改行を含む文字列"
   ]
  },
  {
   "cell_type": "code",
   "execution_count": 44,
   "id": "369826ce",
   "metadata": {},
   "outputs": [
    {
     "name": "stdout",
     "output_type": "stream",
     "text": [
      "Hello,\n",
      "Python\n",
      "Hello,\n",
      "Python\n"
     ]
    }
   ],
   "source": [
    "print(\"\"\"Hello,\n",
    "Python\"\"\") #三連ダブルクォーテーション\n",
    "print(\"Hello,\\nPython\") #\\n"
   ]
  },
  {
   "cell_type": "markdown",
   "id": "2d50a91b",
   "metadata": {},
   "source": [
    "### `int`・`float`"
   ]
  },
  {
   "cell_type": "markdown",
   "id": "d9130dfb",
   "metadata": {},
   "source": [
    "intは整数、floatは小数点を含む。"
   ]
  },
  {
   "cell_type": "code",
   "execution_count": 45,
   "id": "137b21b5",
   "metadata": {},
   "outputs": [
    {
     "name": "stdout",
     "output_type": "stream",
     "text": [
      "<class 'int'>\n",
      "<class 'float'>\n"
     ]
    }
   ],
   "source": [
    "int1 = 6\n",
    "print(type(int1))\n",
    "\n",
    "float1 = 3.14\n",
    "print(type(float1))"
   ]
  },
  {
   "cell_type": "markdown",
   "id": "d0759033",
   "metadata": {},
   "source": [
    "演算"
   ]
  },
  {
   "cell_type": "code",
   "execution_count": 46,
   "id": "be998ffd",
   "metadata": {},
   "outputs": [
    {
     "name": "stdout",
     "output_type": "stream",
     "text": [
      "7\n",
      "3\n",
      "10\n",
      "2.5\n"
     ]
    }
   ],
   "source": [
    "print(5 + 2) #加\n",
    "print(5 - 2) #減\n",
    "print(5 * 2) #乗\n",
    "print(5 / 2) #除"
   ]
  },
  {
   "cell_type": "code",
   "execution_count": 47,
   "id": "7ef4d6ed",
   "metadata": {},
   "outputs": [
    {
     "name": "stdout",
     "output_type": "stream",
     "text": [
      "25\n",
      "3\n",
      "1\n",
      "5\n"
     ]
    }
   ],
   "source": [
    "print(5 ** 2)        #累乗\n",
    "print(10 // 3)       #除　切り捨て\n",
    "print(10 % 3)        #余り\n",
    "print((20 - 5) // 3) #優先順位の変更"
   ]
  },
  {
   "cell_type": "markdown",
   "id": "7c941757",
   "metadata": {},
   "source": [
    "### `bool`"
   ]
  },
  {
   "cell_type": "markdown",
   "id": "41019a88",
   "metadata": {},
   "source": [
    "`True`か`False`で定義される。"
   ]
  },
  {
   "cell_type": "code",
   "execution_count": 48,
   "id": "d3ac85a5",
   "metadata": {},
   "outputs": [
    {
     "name": "stdout",
     "output_type": "stream",
     "text": [
      "True\n",
      "False\n",
      "<class 'bool'>\n",
      "<class 'bool'>\n"
     ]
    }
   ],
   "source": [
    "a = 3\n",
    "b = 2\n",
    "c = a > b\n",
    "d = a < b\n",
    "print(c)\n",
    "print(d)\n",
    "print(type(c))\n",
    "print(type(d))"
   ]
  },
  {
   "cell_type": "markdown",
   "id": "945fac40",
   "metadata": {},
   "source": [
    "### `list`"
   ]
  },
  {
   "cell_type": "markdown",
   "id": "15112d86",
   "metadata": {},
   "source": [
    "複数の要素を含む。`[]`で囲む。カンマで区切る。"
   ]
  },
  {
   "cell_type": "code",
   "execution_count": 49,
   "id": "d4a743d3",
   "metadata": {},
   "outputs": [
    {
     "data": {
      "text/plain": [
       "list"
      ]
     },
     "execution_count": 49,
     "metadata": {},
     "output_type": "execute_result"
    }
   ],
   "source": [
    "list1 = ['abc',6,2.5,'123',True,'aiu']\n",
    "type(list1)"
   ]
  },
  {
   "cell_type": "markdown",
   "id": "ccd4dfb9",
   "metadata": {},
   "source": [
    "~~~python\n",
    "list[ 開始値: 終了値: ステップ数]\n",
    "~~~"
   ]
  },
  {
   "cell_type": "code",
   "execution_count": 50,
   "id": "28f8b2f9",
   "metadata": {},
   "outputs": [
    {
     "name": "stdout",
     "output_type": "stream",
     "text": [
      "abc\n",
      "True\n",
      "[6, 2.5]\n",
      "['abc', 6, 2.5, '123']\n",
      "[True, 'aiu']\n",
      "['abc', 2.5, True]\n"
     ]
    }
   ],
   "source": [
    "print(list1[0])      #左から0番目（最初が0番目）\n",
    "print(list1[-2])     #右から2番目（最後が1番目）\n",
    "print(list1[1:3])    #左から1番目から、左から3番目の1つ左まで\n",
    "print(list1[:-2])    #最初から、右から2番目の1つ左まで\n",
    "print(list1[-2:])    #右から2番目から、最後まで\n",
    "print(list1[0:-1:2]) #左から0番目から、右から1番目までの1つ左まで、2つおきに"
   ]
  },
  {
   "cell_type": "code",
   "execution_count": 51,
   "id": "8750dd8f",
   "metadata": {},
   "outputs": [
    {
     "name": "stdout",
     "output_type": "stream",
     "text": [
      "['abc', 6, 2.5, '123', True, 'aiu', 10]\n",
      "[False, 6, 2.5, '123', True, 'aiu', 10]\n",
      "[False, 2.5, '123', True, 'aiu', 10]\n"
     ]
    }
   ],
   "source": [
    "list1.append(10) #最後に追加\n",
    "print(list1)\n",
    "list1[0] = False #変更\n",
    "print(list1)\n",
    "list1.remove(6)  #削除\n",
    "print(list1)"
   ]
  },
  {
   "cell_type": "markdown",
   "id": "5edde333",
   "metadata": {},
   "source": [
    "### `tuple`"
   ]
  },
  {
   "cell_type": "markdown",
   "id": "9fcaa547",
   "metadata": {},
   "source": [
    "listと違い、要素を変更できない。"
   ]
  },
  {
   "cell_type": "code",
   "execution_count": 52,
   "id": "e3d9b5b3",
   "metadata": {},
   "outputs": [
    {
     "name": "stdout",
     "output_type": "stream",
     "text": [
      "<class 'tuple'>\n",
      "<class 'tuple'>\n",
      "<class 'str'>\n"
     ]
    }
   ],
   "source": [
    "tuple1 = ('shinji', 'kawasaki', 80) #()で囲んで定義する\n",
    "tuple2 = 'shinji', 'kawasaki', 80   #囲まなくても定義できる\n",
    "tuple3 = ('Python')                 #1要素のタプル？\n",
    "\n",
    "print(type(tuple1))\n",
    "print(type(tuple2))\n",
    "print(type(tuple3))"
   ]
  },
  {
   "cell_type": "code",
   "execution_count": 53,
   "id": "094b4a81",
   "metadata": {},
   "outputs": [
    {
     "name": "stdout",
     "output_type": "stream",
     "text": [
      "<class 'tuple'>\n",
      "<class 'tuple'>\n"
     ]
    }
   ],
   "source": [
    "tuple4 = ('Python',) #カンマをつけると1要素のタプルになる\n",
    "tuple5 = 'Python',   #カンマをつけると1要素のタプルになる\n",
    "\n",
    "print(type(tuple4))\n",
    "print(type(tuple5))"
   ]
  },
  {
   "cell_type": "code",
   "execution_count": 54,
   "id": "08f74e31",
   "metadata": {},
   "outputs": [
    {
     "data": {
      "text/plain": [
       "('kawasaki', 80)"
      ]
     },
     "execution_count": 54,
     "metadata": {},
     "output_type": "execute_result"
    }
   ],
   "source": [
    "tuple1[1:3] #[]をつけて要素にアクセス"
   ]
  },
  {
   "cell_type": "markdown",
   "id": "75eb3c37",
   "metadata": {},
   "source": [
    "代入はできない\n",
    "~~~python\n",
    "tuple[1] = 'Python'\n",
    ">>>TypeError\n",
    "~~~"
   ]
  },
  {
   "cell_type": "markdown",
   "id": "d000d108",
   "metadata": {},
   "source": [
    "### `dictionary`"
   ]
  },
  {
   "cell_type": "markdown",
   "id": "f06bb3bc",
   "metadata": {},
   "source": [
    "`{}`で囲む。`:`でセットにする。"
   ]
  },
  {
   "cell_type": "code",
   "execution_count": 55,
   "id": "f2bbb92c",
   "metadata": {},
   "outputs": [
    {
     "data": {
      "text/plain": [
       "dict"
      ]
     },
     "execution_count": 55,
     "metadata": {},
     "output_type": "execute_result"
    }
   ],
   "source": [
    "dict1 = {'k1':\"abc\",'k2':True,'k3':list1}\n",
    "type(dict1)"
   ]
  },
  {
   "cell_type": "code",
   "execution_count": 56,
   "id": "039a97fd",
   "metadata": {},
   "outputs": [
    {
     "name": "stdout",
     "output_type": "stream",
     "text": [
      "abc\n",
      "{'k1': 'abc', 'k2': True, 'k3': [False, 2.5, '123', True, 'aiu', 10], 'k4': 3}\n"
     ]
    }
   ],
   "source": [
    "print(dict1['k1']) #キー文字列で値にアクセス\n",
    "dict1['k4'] = 3    #追加\n",
    "print(dict1)"
   ]
  },
  {
   "cell_type": "markdown",
   "id": "6d8aeb2a",
   "metadata": {},
   "source": [
    "## 型変換（キャスト）"
   ]
  },
  {
   "cell_type": "markdown",
   "id": "18321f1b",
   "metadata": {},
   "source": [
    "異なる型を連結するときは型変換する。"
   ]
  },
  {
   "cell_type": "code",
   "execution_count": 57,
   "id": "c5165542",
   "metadata": {},
   "outputs": [
    {
     "name": "stdout",
     "output_type": "stream",
     "text": [
      "abc\n",
      "123\n",
      "6\n",
      "abc123\n",
      "129.0\n",
      "abc6\n"
     ]
    }
   ],
   "source": [
    "print(str1)\n",
    "print(list1[2])\n",
    "print(int1)\n",
    "\n",
    "print(str1 + list1[2])        #文字列型同士の連結はそのまま\n",
    "\n",
    "print(int1 + float(list1[2])) #数値型にそろえて計算する。intとfloatは連結可能。\n",
    "print(str1 + str(int1))       #文字列型にそろえる。"
   ]
  },
  {
   "cell_type": "markdown",
   "id": "4943000d",
   "metadata": {},
   "source": [
    "# 制御構造"
   ]
  },
  {
   "cell_type": "markdown",
   "id": "3140b4d9",
   "metadata": {},
   "source": [
    "比較演算子"
   ]
  },
  {
   "cell_type": "markdown",
   "id": "d50a5511",
   "metadata": {},
   "source": [
    "| 条件式 | 意味 |\n",
    "|:------:|:----:|\n",
    "| > |左辺の方が大きい|\n",
    "| < |右辺の方が大きい|\n",
    "| >= |左辺の方が大きいか等しい|\n",
    "| <= |右辺の方が大きいか等しい|\n",
    "| == |両辺は等しい|\n",
    "| != |両辺は等しくない|"
   ]
  },
  {
   "cell_type": "code",
   "execution_count": 58,
   "id": "3bd047de",
   "metadata": {},
   "outputs": [
    {
     "name": "stdout",
     "output_type": "stream",
     "text": [
      "True\n",
      "False\n",
      "True\n",
      "False\n",
      "False\n",
      "True\n"
     ]
    }
   ],
   "source": [
    "x = 4\n",
    "y = 3\n",
    "print(x > y)  #xよりyの方が小さい\n",
    "print(x < y)  #xよりyの方が大きい\n",
    "print(x >= y) #xよりyの方が小さいか等しい\n",
    "print(x <= y) #xよりyの方が大きいか等しい\n",
    "print(x == y) #xとyは等しい\n",
    "print(x != y) #xとyは等しくない"
   ]
  },
  {
   "cell_type": "markdown",
   "id": "543c95ea",
   "metadata": {},
   "source": [
    "## 条件分岐（if文）"
   ]
  },
  {
   "cell_type": "markdown",
   "id": "f1a8580f",
   "metadata": {},
   "source": [
    "条件に当てはまるかどうかで処理を分ける。"
   ]
  },
  {
   "cell_type": "markdown",
   "id": "c1b20bbf",
   "metadata": {},
   "source": [
    "~~~python\n",
    "if 条件A:\n",
    "    条件AがTrueなら実行\n",
    "elif 条件B:\n",
    "    条件AがFalseかつ、条件BがTrueなら実行\n",
    "else:\n",
    "    条件A、BともにFalseなら実行\n",
    "~~~"
   ]
  },
  {
   "cell_type": "code",
   "execution_count": 59,
   "id": "dd51e777",
   "metadata": {},
   "outputs": [
    {
     "name": "stdout",
     "output_type": "stream",
     "text": [
      "Good.\n"
     ]
    }
   ],
   "source": [
    "score = 80\n",
    "if score == 100:\n",
    "    print(\"Perfect.\")\n",
    "elif score > 70:\n",
    "    print(\"Good.\")\n",
    "else:\n",
    "    print(\"Bad.\")"
   ]
  },
  {
   "cell_type": "markdown",
   "id": "04ad2ea0",
   "metadata": {},
   "source": [
    "## ループ"
   ]
  },
  {
   "cell_type": "markdown",
   "id": "62f2dba5",
   "metadata": {},
   "source": [
    "### for文"
   ]
  },
  {
   "cell_type": "markdown",
   "id": "270df690",
   "metadata": {},
   "source": [
    "複数回同じコードを実行する。"
   ]
  },
  {
   "cell_type": "code",
   "execution_count": 60,
   "id": "9fe836d8",
   "metadata": {},
   "outputs": [
    {
     "name": "stdout",
     "output_type": "stream",
     "text": [
      "h\n",
      "e\n",
      "l\n",
      "l\n",
      "o\n"
     ]
    }
   ],
   "source": [
    "for char in \"hello\": #for ループ内変数 in リスト名:\n",
    "    print(char)      #実行する処理"
   ]
  },
  {
   "cell_type": "markdown",
   "id": "11b44c7a",
   "metadata": {},
   "source": [
    "`enumerate()`でインデックス番号も取得する。"
   ]
  },
  {
   "cell_type": "code",
   "execution_count": 61,
   "id": "5ba8c143",
   "metadata": {},
   "outputs": [
    {
     "name": "stdout",
     "output_type": "stream",
     "text": [
      "(0, 'h')\n",
      "(1, 'e')\n",
      "(2, 'l')\n",
      "(3, 'l')\n",
      "(4, 'o')\n"
     ]
    }
   ],
   "source": [
    "for char in enumerate(\"hello\"):\n",
    "    print(char)"
   ]
  },
  {
   "cell_type": "markdown",
   "id": "df20feb1",
   "metadata": {},
   "source": [
    "listの要素を順番に取得する。"
   ]
  },
  {
   "cell_type": "code",
   "execution_count": 62,
   "id": "63c5bf0a",
   "metadata": {
    "scrolled": true
   },
   "outputs": [
    {
     "name": "stdout",
     "output_type": "stream",
     "text": [
      "20\n",
      "40\n",
      "60\n",
      "88\n"
     ]
    }
   ],
   "source": [
    "data = [20, 40, 60, 88]\n",
    "for d in data:\n",
    "    print(d)"
   ]
  },
  {
   "cell_type": "code",
   "execution_count": 63,
   "id": "202a006e",
   "metadata": {},
   "outputs": [
    {
     "name": "stdout",
     "output_type": "stream",
     "text": [
      "208\n"
     ]
    }
   ],
   "source": [
    "sum_d = 0\n",
    "for d in data:\n",
    "    sum_d += d   # sum_d = sum_d + dを省略した書き方。\n",
    "else:\n",
    "    print(sum_d) # ループが終わったら1回処理したいものが処理できる。"
   ]
  },
  {
   "cell_type": "markdown",
   "id": "912bce48",
   "metadata": {},
   "source": [
    "~~~python\n",
    "range( 開始値, 終了値, ステップ数)\n",
    "~~~"
   ]
  },
  {
   "cell_type": "code",
   "execution_count": 64,
   "id": "0d2a7981",
   "metadata": {},
   "outputs": [
    {
     "name": "stdout",
     "output_type": "stream",
     "text": [
      "0\n",
      "1\n",
      "2\n",
      "4\n",
      "5\n"
     ]
    }
   ],
   "source": [
    "for i in range(6):\n",
    "    if i == 3:\n",
    "        continue #continueは一回スキップ\n",
    "    print(i)"
   ]
  },
  {
   "cell_type": "code",
   "execution_count": 65,
   "id": "34eaeadd",
   "metadata": {},
   "outputs": [
    {
     "name": "stdout",
     "output_type": "stream",
     "text": [
      "0\n",
      "1\n",
      "2\n"
     ]
    }
   ],
   "source": [
    "for i in range(10):\n",
    "    if i == 3:\n",
    "        break #breakは処理を中断\n",
    "    print(i)    "
   ]
  },
  {
   "cell_type": "code",
   "execution_count": 66,
   "id": "573ed2fb",
   "metadata": {},
   "outputs": [
    {
     "name": "stdout",
     "output_type": "stream",
     "text": [
      "[10, 15, 20, 25, 30, 35, 40, 45, 50]\n"
     ]
    }
   ],
   "source": [
    "print(list(range(10,51,5))) #rangeを使ってlistを記述"
   ]
  },
  {
   "cell_type": "code",
   "execution_count": 67,
   "id": "91334e48",
   "metadata": {},
   "outputs": [
    {
     "name": "stdout",
     "output_type": "stream",
     "text": [
      "[1, 4, 9, 16, 25, 36, 49, 64, 81, 100]\n",
      "{1, 4, 9, 16, 25}\n",
      "{2: 1, 4: 4, 6: 9, 8: 16, 10: 25, 12: 36, 14: 49, 16: 64, 18: 81, 20: 100}\n",
      "(0, 1, 2, 3, 4)\n"
     ]
    }
   ],
   "source": [
    "# リスト内包表記\n",
    "result = [x**2 for x in range(1,11)]\n",
    "print(result)\n",
    "\n",
    "# セット内包表記\n",
    "s = {x**2 for x in range(1,6)}\n",
    "print(s)\n",
    "\n",
    "# 辞書内包表記\n",
    "d = {x*2:x**2 for x in range(1,11)}\n",
    "print(d)\n",
    "\n",
    "# タプル内包表記\n",
    "t = tuple([x for x in range(5)]) #tuple()でキャストする必要がある。\n",
    "print(t)"
   ]
  },
  {
   "cell_type": "markdown",
   "id": "f4b5d5f6",
   "metadata": {},
   "source": [
    "辞書型データのループ"
   ]
  },
  {
   "cell_type": "code",
   "execution_count": 68,
   "id": "1663065b",
   "metadata": {},
   "outputs": [
    {
     "name": "stdout",
     "output_type": "stream",
     "text": [
      "key: k1 value: abc\n",
      "key: k2 value: True\n",
      "key: k3 value: [False, 2.5, '123', True, 'aiu', 10]\n",
      "key: k4 value: 3\n"
     ]
    }
   ],
   "source": [
    "for key, value in dict1.items():\n",
    "     print(\"key: {} value: {}\".format(key, value))"
   ]
  },
  {
   "cell_type": "markdown",
   "id": "fc376230",
   "metadata": {},
   "source": [
    "### while文"
   ]
  },
  {
   "cell_type": "markdown",
   "id": "80b55217",
   "metadata": {},
   "source": [
    "特定条件を満たすまでループする。"
   ]
  },
  {
   "cell_type": "code",
   "execution_count": 69,
   "id": "602c29c0",
   "metadata": {},
   "outputs": [
    {
     "name": "stdout",
     "output_type": "stream",
     "text": [
      "0\n",
      "1\n",
      "2\n",
      "3\n",
      "4\n",
      "5\n",
      "6\n",
      "7\n",
      "8\n",
      "9\n"
     ]
    }
   ],
   "source": [
    "n = 0\n",
    "while n < 10:\n",
    "    print(n)\n",
    "    n += 1"
   ]
  },
  {
   "cell_type": "markdown",
   "id": "14742e1b",
   "metadata": {},
   "source": [
    "## 標準入力"
   ]
  },
  {
   "cell_type": "markdown",
   "id": "eafe7b36",
   "metadata": {},
   "source": [
    "`input()`で入力値（文字列）を受け取る。"
   ]
  },
  {
   "cell_type": "code",
   "execution_count": 70,
   "id": "8bbbe35d",
   "metadata": {},
   "outputs": [
    {
     "name": "stdout",
     "output_type": "stream",
     "text": [
      "名前を入力してください\n",
      "sa\n",
      "あなたの名前はsaです\n"
     ]
    }
   ],
   "source": [
    "print(\"名前を入力してください\")\n",
    "name = input()\n",
    "print(\"あなたの名前は\"+name+\"です\")"
   ]
  },
  {
   "cell_type": "markdown",
   "id": "756e8a48",
   "metadata": {},
   "source": [
    "文字列以外の型にしたいときはキャストする。"
   ]
  },
  {
   "cell_type": "code",
   "execution_count": 71,
   "id": "3dc211b2",
   "metadata": {},
   "outputs": [
    {
     "name": "stdout",
     "output_type": "stream",
     "text": [
      "二乗したい整数値を入力してください\n",
      "5\n",
      "求める値は25です\n"
     ]
    }
   ],
   "source": [
    "print(\"二乗したい整数値を入力してください\")\n",
    "number = input()\n",
    "result = int(number) ** 2            #int型にキャスト\n",
    "print(\"求める値は\"+str(result)+\"です\") #str型にキャスト"
   ]
  },
  {
   "cell_type": "markdown",
   "id": "0989783a",
   "metadata": {},
   "source": [
    "# 関数"
   ]
  },
  {
   "cell_type": "markdown",
   "id": "08294383",
   "metadata": {},
   "source": [
    "独自関数では、プログラマが自由に名前と処理を考え定義する。コードが簡潔になる。"
   ]
  },
  {
   "cell_type": "markdown",
   "id": "6b272158",
   "metadata": {},
   "source": [
    "## 関数の定義"
   ]
  },
  {
   "cell_type": "code",
   "execution_count": 72,
   "id": "4c5b753c",
   "metadata": {},
   "outputs": [
    {
     "name": "stdout",
     "output_type": "stream",
     "text": [
      "hello!\n"
     ]
    }
   ],
   "source": [
    "def hello():\n",
    "    print(\"hello!\")\n",
    "hello()\n",
    "\n",
    "def test():\n",
    "    pass #何も処理しない"
   ]
  },
  {
   "cell_type": "markdown",
   "id": "88f62559",
   "metadata": {},
   "source": [
    "## 引数とreturn"
   ]
  },
  {
   "cell_type": "markdown",
   "id": "e0f855d4",
   "metadata": {},
   "source": [
    "`return`を使うと、関数に渡さないでも返り値(戻り値)に対して更に何かしらの処理を行うことが出来る。"
   ]
  },
  {
   "cell_type": "code",
   "execution_count": 73,
   "id": "50c519f2",
   "metadata": {},
   "outputs": [
    {
     "name": "stdout",
     "output_type": "stream",
     "text": [
      "16\n"
     ]
    }
   ],
   "source": [
    "def a(a,b):\n",
    "    return a + b\n",
    "\n",
    "def b(a,b):\n",
    "    return a * b\n",
    "\n",
    "x = a(2,2) # xに4が代入\n",
    "y = b(x, x)  # 4 * 4\n",
    "\n",
    "print(y) # 16"
   ]
  },
  {
   "cell_type": "code",
   "execution_count": 74,
   "id": "a37dda9e",
   "metadata": {},
   "outputs": [
    {
     "name": "stdout",
     "output_type": "stream",
     "text": [
      "100\n",
      "10\n"
     ]
    }
   ],
   "source": [
    "def power(x):\n",
    "    return x*x\n",
    "\n",
    "def absolute(x):\n",
    "    if (x < 0):\n",
    "        return -x\n",
    "    else:\n",
    "        return x\n",
    "\n",
    "print(power(10)) #自乗\n",
    "print(absolute(-10)) #絶対値"
   ]
  },
  {
   "cell_type": "markdown",
   "id": "20f0349e",
   "metadata": {},
   "source": [
    "引数のデフォルト値"
   ]
  },
  {
   "cell_type": "code",
   "execution_count": 75,
   "id": "23dcb5c2",
   "metadata": {},
   "outputs": [
    {
     "name": "stdout",
     "output_type": "stream",
     "text": [
      "10\n",
      "15\n",
      "3\n",
      "5\n"
     ]
    }
   ],
   "source": [
    "def func(a, b=5): #予め設定した値がデフォルト値\n",
    "    print(a)\n",
    "    print(b)\n",
    "\n",
    "func(10,15)\n",
    "func(3)"
   ]
  },
  {
   "cell_type": "markdown",
   "id": "27162e60",
   "metadata": {},
   "source": [
    "## ローカル変数・グローバル変数"
   ]
  },
  {
   "cell_type": "markdown",
   "id": "5f703958",
   "metadata": {},
   "source": [
    "ローカル変数（関数の内部で定義した変数）とグローバル変数（関数の外部で定義した変数）がある。"
   ]
  },
  {
   "cell_type": "code",
   "execution_count": 76,
   "id": "3e8bbe89",
   "metadata": {},
   "outputs": [
    {
     "ename": "NameError",
     "evalue": "name 'x2' is not defined",
     "output_type": "error",
     "traceback": [
      "\u001b[0;31m---------------------------------------------------------------------------\u001b[0m",
      "\u001b[0;31mNameError\u001b[0m                                 Traceback (most recent call last)",
      "\u001b[0;32m<ipython-input-76-65a8666a47f9>\u001b[0m in \u001b[0;36m<module>\u001b[0;34m\u001b[0m\n\u001b[1;32m      4\u001b[0m     \u001b[0mprint\u001b[0m\u001b[0;34m(\u001b[0m\u001b[0mresult\u001b[0m\u001b[0;34m)\u001b[0m\u001b[0;34m\u001b[0m\u001b[0;34m\u001b[0m\u001b[0m\n\u001b[1;32m      5\u001b[0m \u001b[0;34m\u001b[0m\u001b[0m\n\u001b[0;32m----> 6\u001b[0;31m \u001b[0mprint\u001b[0m\u001b[0;34m(\u001b[0m\u001b[0mx2\u001b[0m\u001b[0;34m)\u001b[0m \u001b[0;31m#エラー\u001b[0m\u001b[0;34m\u001b[0m\u001b[0;34m\u001b[0m\u001b[0m\n\u001b[0m\u001b[1;32m      7\u001b[0m \u001b[0madd\u001b[0m\u001b[0;34m(\u001b[0m\u001b[0;36m5\u001b[0m\u001b[0;34m)\u001b[0m\u001b[0;34m\u001b[0m\u001b[0;34m\u001b[0m\u001b[0m\n",
      "\u001b[0;31mNameError\u001b[0m: name 'x2' is not defined"
     ]
    }
   ],
   "source": [
    "def add(x1):\n",
    "    x2 = 10 #ローカル変数\n",
    "    result = x1 + x2\n",
    "    print(result)\n",
    "\n",
    "print(x2) #エラー\n",
    "add(5)"
   ]
  },
  {
   "cell_type": "code",
   "execution_count": 77,
   "id": "cd6287ca",
   "metadata": {},
   "outputs": [
    {
     "name": "stdout",
     "output_type": "stream",
     "text": [
      "10\n",
      "15\n"
     ]
    }
   ],
   "source": [
    "x2 = 10 #グローバル変数\n",
    "def add(x1,x2):\n",
    "    result = x1 + x2\n",
    "    print(result)\n",
    "\n",
    "print(x2) #エラーは発生しない\n",
    "add(5, x2)"
   ]
  },
  {
   "cell_type": "markdown",
   "id": "b9595f81",
   "metadata": {},
   "source": [
    "`global`を利用して関数内でグローバル変数にアクセスできる。"
   ]
  },
  {
   "cell_type": "code",
   "execution_count": 78,
   "id": "9bec49c9",
   "metadata": {},
   "outputs": [
    {
     "name": "stdout",
     "output_type": "stream",
     "text": [
      "グローバル\n",
      "ローカルに変更\n"
     ]
    }
   ],
   "source": [
    "glb = 'グローバル'\n",
    "\n",
    "def func1():\n",
    "    glb = 'ローカル' #グローバル変数glbを関数内部で変更できていない\n",
    "\n",
    "def func2():\n",
    "    global glb  #グローバル変数glbを関数内部で変更\n",
    "    glb = 'ローカルに変更'\n",
    "\n",
    "func1() #グローバル変数glbを関数内部で変更できていない\n",
    "print(glb)\n",
    "\n",
    "func2() #グローバル変数glbを関数内部で変更\n",
    "print(glb) "
   ]
  },
  {
   "cell_type": "code",
   "execution_count": 79,
   "id": "509726ea",
   "metadata": {},
   "outputs": [
    {
     "name": "stdout",
     "output_type": "stream",
     "text": [
      "('グローバル変数', 'ローカル変数')\n"
     ]
    }
   ],
   "source": [
    "var1 = 'グローバル変数'\n",
    "\n",
    "def sample():\n",
    "    var2 = 'ローカル変数'\n",
    "    return (var1, var2)\n",
    "\n",
    "print(sample())"
   ]
  },
  {
   "cell_type": "markdown",
   "id": "3a41982d",
   "metadata": {},
   "source": [
    "# ライブラリ"
   ]
  },
  {
   "cell_type": "markdown",
   "id": "4e58f24c",
   "metadata": {},
   "source": [
    "ライブラリ（モジュール）はPythonコードをまとめたファイル。importして使う。"
   ]
  },
  {
   "cell_type": "code",
   "execution_count": 80,
   "id": "05c41c56",
   "metadata": {},
   "outputs": [
    {
     "name": "stdout",
     "output_type": "stream",
     "text": [
      "0.5403023058681398\n",
      "0.5403023058681398\n",
      "0.8414709848078965\n",
      "0.5403023058681398\n",
      "0.5403023058681398\n"
     ]
    }
   ],
   "source": [
    "import math          #importでインポート\n",
    "import sys, os       #カンマで区切る #PEP8規約違反のため非推奨\n",
    "\n",
    "from math import cos #mathの中のcosだけインポート\n",
    "print(cos(1))\n",
    "\n",
    "from math import *   #mathモジュール内の全てのメンバをインポート\n",
    "print(cos(1))\n",
    "print(sin(1))\n",
    "\n",
    "import math          #mathをインポートして\n",
    "print(math.cos(1))   #cosを使う。\n",
    "\n",
    "import math as m     #mathをmとしてインポート\n",
    "print(m.cos(1))"
   ]
  },
  {
   "cell_type": "markdown",
   "id": "9362bead",
   "metadata": {},
   "source": [
    "独自で作成したモジュール（同じディレクトリ内にある。）をインポートする。"
   ]
  },
  {
   "cell_type": "code",
   "execution_count": 81,
   "id": "4dc72baf",
   "metadata": {},
   "outputs": [
    {
     "name": "stdout",
     "output_type": "stream",
     "text": [
      "吉\n"
     ]
    }
   ],
   "source": [
    "from fortune import get_fortune as gf\n",
    "print(gf())"
   ]
  },
  {
   "cell_type": "code",
   "execution_count": 82,
   "id": "e2e512fc",
   "metadata": {},
   "outputs": [
    {
     "name": "stdout",
     "output_type": "stream",
     "text": [
      "今日の運勢は…  凶\n"
     ]
    }
   ],
   "source": [
    "from lucky import luck\n",
    "luck()"
   ]
  },
  {
   "cell_type": "markdown",
   "id": "83f4d081",
   "metadata": {},
   "source": [
    "ライブラリ・モジュールの場所を調べる。"
   ]
  },
  {
   "cell_type": "code",
   "execution_count": 83,
   "id": "0c2a489d",
   "metadata": {},
   "outputs": [
    {
     "name": "stdout",
     "output_type": "stream",
     "text": [
      "/opt/anaconda3/lib/python3.8/os.py\n"
     ]
    }
   ],
   "source": [
    "import os\n",
    "print( os.__file__ )"
   ]
  },
  {
   "cell_type": "markdown",
   "id": "015dc989",
   "metadata": {},
   "source": [
    "# クラス"
   ]
  },
  {
   "cell_type": "markdown",
   "id": "d9324a0f",
   "metadata": {},
   "source": [
    "クラスとはデータ構造を作る仕組みで、クラスを使うと新しいデータ型を作ることができる。"
   ]
  },
  {
   "cell_type": "code",
   "execution_count": 84,
   "id": "b99d7548",
   "metadata": {
    "scrolled": false
   },
   "outputs": [
    {
     "name": "stdout",
     "output_type": "stream",
     "text": [
      "A\n",
      "B\n"
     ]
    }
   ],
   "source": [
    "class SampleClass:      #クラス名の最初の文字は大文字で、また複数の単語の頭文字は大文字にするのが普通\n",
    "    pass                #passで空のクラスを作成\n",
    "\n",
    "sample = SampleClass()  # 変数名 = クラス名() でインスタンス化\n",
    "sample2 = SampleClass() # クラスからつくられたデータをインスタンスと呼ぶ\n",
    "\n",
    "sample.name = \"A\"\n",
    "sample2.name = \"B\"      # さまざなな属性（クラスが内包するデータのこと）を作ることができる。\n",
    "\n",
    "print(sample.name)\n",
    "print(sample2.name)"
   ]
  },
  {
   "cell_type": "markdown",
   "id": "02229e92",
   "metadata": {},
   "source": [
    "## メソッド"
   ]
  },
  {
   "cell_type": "markdown",
   "id": "3013e3de",
   "metadata": {},
   "source": [
    "メソッドとは、クラスに定義された関数のこと"
   ]
  },
  {
   "cell_type": "code",
   "execution_count": 85,
   "id": "622f1bad",
   "metadata": {},
   "outputs": [
    {
     "name": "stdout",
     "output_type": "stream",
     "text": [
      "hello, Python\n"
     ]
    }
   ],
   "source": [
    "class SampleClass:\n",
    "    def set_name(self, name):\n",
    "        self.name = name # 受け取った引数（name）をSampleClassのインスタンス変数（self.name）に格納する。\n",
    "        \n",
    "    def hello(self):\n",
    "        print(\"hello, {}\".format(self.name)) #{}にself.nameを代入\n",
    "\n",
    "sample = SampleClass()\n",
    "sample.set_name(\"Python\") # selfはインスタンス自身を示すものなので、nameに当たるPythonだけの引数だけでよい。\n",
    "sample.hello()"
   ]
  },
  {
   "cell_type": "markdown",
   "id": "a9e6b002",
   "metadata": {},
   "source": [
    "### コンストラクタ（初期化メソッド）"
   ]
  },
  {
   "cell_type": "markdown",
   "id": "d646a547",
   "metadata": {},
   "source": [
    "- コンストラクタは対象のクラスのインスタンスを初期化するために利用\n",
    "- インスタンスが作成された時に一度だけ呼び出される\n",
    "- インスタンスを作る時に初期値を与えたい時に便利\n",
    "\n",
    "\n",
    "- コンストラクタは`__init__`で定義する\n",
    "- クラスの中の関数の第一引数には`self`と指定する（`self`はインスタンス自身を指す）\n",
    "\n",
    "~~~python\n",
    "class クラス名:\n",
    "    def __init__(self, 引数):\n",
    "        self.インスタンス変数 = 引数\n",
    "        コンストラクタで行う処理\n",
    "    \n",
    "    def 関数名(self, 引数):\n",
    "        関数で行う処理\n",
    "   \n",
    "変数名 = クラス名(引数)\n",
    "~~~"
   ]
  },
  {
   "cell_type": "code",
   "execution_count": 86,
   "id": "70aec233",
   "metadata": {},
   "outputs": [
    {
     "name": "stdout",
     "output_type": "stream",
     "text": [
      "コンストラクタが呼ばれました\n",
      "コンストラクタが呼ばれました\n",
      "Hello Sample User\n",
      "Hello python\n"
     ]
    }
   ],
   "source": [
    "class User:\n",
    "    def __init__(self, name): # コンストラクタはnameという引数を取り、インスタンス変数であるself.nameを初期化している\n",
    "        self.name = name\n",
    "        print(\"コンストラクタが呼ばれました\")\n",
    "\n",
    "    def hello(self):          #メソッド（クラスに定義された関数）\n",
    "        print(\"Hello \" + self.name)\n",
    "\n",
    "user = User(\"Sample User\")    # userというインスタンスを生成\n",
    "py = User(\"python\")\n",
    "\n",
    "user.hello()\n",
    "py.hello()"
   ]
  },
  {
   "cell_type": "markdown",
   "id": "46472338",
   "metadata": {},
   "source": [
    "## 継承"
   ]
  },
  {
   "cell_type": "markdown",
   "id": "f0f3f4b3",
   "metadata": {},
   "source": [
    "継承とは、既存のクラスをもとに新しいクラスを作る仕組みのこと。<br>子クラスは、親クラスの機能が備わっているため、子クラスを定義する際には新しく追加したい機能を定義するだけで済む。"
   ]
  },
  {
   "cell_type": "code",
   "execution_count": 87,
   "id": "4660adb2",
   "metadata": {
    "scrolled": true
   },
   "outputs": [
    {
     "name": "stdout",
     "output_type": "stream",
     "text": [
      "Hello tani\n",
      "\n",
      "SuperHello tani\n",
      "Hello tani\n"
     ]
    }
   ],
   "source": [
    "# 親クラス/基底クラス/スーパークラス\n",
    "class User:\n",
    "    def __init__(self, name):  # コンストラクタ\n",
    "        self.name = name\n",
    "\n",
    "    def hello(self):           # helloメソッド（メソッドはクラス内で定義された関数のこと）\n",
    "        print(\"Hello \" + self.name)\n",
    "\n",
    "# 子クラス/派生クラス/サブクラス\n",
    "class SuperUser(User):         # ()の中に基底クラスを書く\n",
    "    def __init__(self, name):\n",
    "        super().__init__(name) # super()で親クラスのメソッドを呼び出し\n",
    " \n",
    "    def hello(self):           # メソッドのオーバーライド（上書き）\n",
    "        print(\"SuperHello \" + self.name)\n",
    "        super().hello()        # super()で親クラスのメソッドを呼び出し\n",
    "        \n",
    "s = User(\"tani\")\n",
    "t = SuperUser(\"tani\")\n",
    "\n",
    "s.hello()\n",
    "print()\n",
    "t.hello() #オーバーライドされている"
   ]
  },
  {
   "cell_type": "markdown",
   "id": "d1614e0a",
   "metadata": {},
   "source": [
    "### 多重継承"
   ]
  },
  {
   "cell_type": "markdown",
   "id": "0e053a73",
   "metadata": {},
   "source": [
    "多重継承とは、複数の親クラスから継承すること。"
   ]
  },
  {
   "cell_type": "code",
   "execution_count": 88,
   "id": "3076a739",
   "metadata": {},
   "outputs": [
    {
     "name": "stdout",
     "output_type": "stream",
     "text": [
      "SuperHello tani\n",
      "Hello tani\n",
      "SuperBye tani\n",
      "Bye tani\n"
     ]
    }
   ],
   "source": [
    "# 親クラス/基底クラス/スーパークラス\n",
    "class Base1:\n",
    "    def __init__(self, name):  # コンストラクタ\n",
    "        self.name = name\n",
    "\n",
    "    def hello(self):           # helloメソッド（メソッドはクラス内で定義された関数のこと）\n",
    "        print(\"Hello \" + self.name)\n",
    "\n",
    "# 親クラス/基底クラス/スーパークラス\n",
    "class Base2:\n",
    "    def __init__(self, name):  # コンストラクタ\n",
    "        self.name = name\n",
    "\n",
    "    def bye(self):             # helloメソッド（メソッドはクラス内で定義された関数のこと）\n",
    "        print(\"Bye \" + self.name)\n",
    "        \n",
    "# 子クラス/派生クラス/サブクラス\n",
    "class SuperUser(Base1,Base2):  # ()の中に基底クラスを書く\n",
    "    def __init__(self, name):\n",
    "        super().__init__(name) # super()で親クラスのメソッドを呼び出し\n",
    " \n",
    "    def hello(self):\n",
    "        print(\"SuperHello \" + self.name)\n",
    "        super().hello()        # Base1クラスのメソッドを呼び出し\n",
    "        \n",
    "    def bye(self):\n",
    "        print(\"SuperBye \" + self.name)\n",
    "        super().bye()          # Base2クラスのメソッドを呼び出し\n",
    "        \n",
    "g = SuperUser(\"tani\")\n",
    "g.hello()\n",
    "g.bye()"
   ]
  },
  {
   "cell_type": "markdown",
   "id": "4805740e",
   "metadata": {},
   "source": [
    "# オブジェクト指向"
   ]
  },
  {
   "cell_type": "markdown",
   "id": "5d892334",
   "metadata": {},
   "source": [
    "- 「ある役割を持ったモノ」ごとにクラス（プログラム全体の設計図）を分割し、モノとモノとの関係性を定義していくことでシステムを作り上げようとするシステム構成の考え方のこと。\n",
    "- オブジェクト指向では、プログラム管理が容易になり、開発の効率や保守性を上げることができる。<br>Pythonでは、オブジェクト指向を利用可能。"
   ]
  },
  {
   "cell_type": "code",
   "execution_count": null,
   "id": "dea61beb",
   "metadata": {},
   "outputs": [],
   "source": []
  }
 ],
 "metadata": {
  "kernelspec": {
   "display_name": "Python 3",
   "language": "python",
   "name": "python3"
  },
  "language_info": {
   "codemirror_mode": {
    "name": "ipython",
    "version": 3
   },
   "file_extension": ".py",
   "mimetype": "text/x-python",
   "name": "python",
   "nbconvert_exporter": "python",
   "pygments_lexer": "ipython3",
   "version": "3.8.8"
  },
  "toc": {
   "base_numbering": 1,
   "nav_menu": {},
   "number_sections": true,
   "sideBar": true,
   "skip_h1_title": false,
   "title_cell": "Table of Contents",
   "title_sidebar": "Contents",
   "toc_cell": false,
   "toc_position": {
    "height": "calc(100% - 180px)",
    "left": "10px",
    "top": "150px",
    "width": "338.8235168457031px"
   },
   "toc_section_display": true,
   "toc_window_display": true
  }
 },
 "nbformat": 4,
 "nbformat_minor": 5
}
