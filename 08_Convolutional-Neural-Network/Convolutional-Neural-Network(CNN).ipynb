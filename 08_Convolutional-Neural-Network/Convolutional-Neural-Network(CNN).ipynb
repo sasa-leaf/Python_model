{
 "cells": [
  {
   "cell_type": "code",
   "execution_count": 2,
   "id": "766447c0",
   "metadata": {},
   "outputs": [],
   "source": [
    "import numpy as np\n",
    "import matplotlib.pyplot as plt"
   ]
  },
  {
   "cell_type": "markdown",
   "id": "1c1f7cce",
   "metadata": {},
   "source": [
    "# 畳み込みニューラルネットワーク（CNN）とは"
   ]
  },
  {
   "cell_type": "markdown",
   "id": "a402480c",
   "metadata": {},
   "source": [
    "- 全結合ニューラルネットワーク 「Affine - ReLU」\n",
    ">1. Affineレイヤ（**全結合層**）\n",
    ">2. 隣接する全てのニューロン間で結合がある（fully-connected）\n",
    ">3. データの形に関わらず、1次元に変形するため、データ形状に関する、空間的な情報を生かすことができない。<br><br>\n",
    "- CNN 「Convolution - ReLU - （Pooling）」\n",
    ">1. Convolutionレイヤ（**畳み込み層**）、Poolingレイヤ（**プーリング層**）\n",
    ">2. 出力層に近いところは「Affine - ReLU」、出力層は「Affine - Softmax」\n",
    ">3. **画像**などの形状があるデータを正しく理解できる可能性がある"
   ]
  },
  {
   "cell_type": "markdown",
   "id": "83b571db",
   "metadata": {},
   "source": [
    "![画像を表示できません。](image.png)\n",
    "上段：全結合層によるニューラルネットワーク、下段：CNNによるニューラルネットワーク"
   ]
  },
  {
   "cell_type": "markdown",
   "id": "183fd3a2",
   "metadata": {},
   "source": [
    "# 畳み込み層"
   ]
  },
  {
   "cell_type": "markdown",
   "id": "d70ad49f",
   "metadata": {},
   "source": [
    "畳み込み層の入出力データを**特徴マップ**（**feature map**）、入力データを**入力特徴マップ**（**input feature map**）、出力データを**出力特徴マップ**（**output feature map**）という"
   ]
  },
  {
   "cell_type": "markdown",
   "id": "b66a9ff6",
   "metadata": {},
   "source": [
    "## 2次元畳み込み演算"
   ]
  },
  {
   "cell_type": "markdown",
   "id": "34906a0c",
   "metadata": {},
   "source": [
    "Cocvolutionレイヤ（畳み込み層）では、画像処理のフィルター演算に相当する「**畳み込み演算**」を行う"
   ]
  },
  {
   "cell_type": "markdown",
   "id": "cfb57791",
   "metadata": {},
   "source": [
    "![画像を表示できません。](image2.png)\n",
    "1. ウィンドウ（赤四角）内のそれぞれの場所で、フィルター（カーネル）の要素と入力の対応する要素を乗算\n",
    "2. 和を求める（1と2をまとめて**積和演算**という）\n",
    "3. ウィンドウを一定間隔でスライドさせ、同様に計算"
   ]
  },
  {
   "cell_type": "markdown",
   "id": "caf2c3e8",
   "metadata": {},
   "source": [
    "### パディング・ストライド"
   ]
  },
  {
   "cell_type": "markdown",
   "id": "f8c78836",
   "metadata": {},
   "source": [
    "ゼロパディング：主に出力サイズ調整のため、周囲を任意幅のピクセルの0で埋める<br>\n",
    "ストライド：フィルタを適用する位置の間隔"
   ]
  },
  {
   "cell_type": "markdown",
   "id": "2b2d6138",
   "metadata": {},
   "source": [
    "![画像を表示できません。](image3.png)\n",
    "これは、パディング幅1、ストライド2の例。<br>\n",
    "基本的に、出力データは進むにつれて小さくなっていくので、パディングによりサイズを大きくするなどする。"
   ]
  },
  {
   "cell_type": "markdown",
   "id": "683794e1",
   "metadata": {},
   "source": [
    "### サイズの関係"
   ]
  },
  {
   "cell_type": "markdown",
   "id": "e3deeec6",
   "metadata": {},
   "source": [
    "$$OH=\\dfrac{H+2P-FH}{S}+1$$\n",
    "\n",
    "$$OW=\\dfrac{W+2P-FW}{S}+1$$\n",
    "\n",
    "入力サイズ$(H,W)$　フィルターサイズ$(FH,FW)$　出力サイズ$(OH,OW)$　パディング$P$　ストライド$S$"
   ]
  },
  {
   "cell_type": "markdown",
   "id": "a2ca381f",
   "metadata": {},
   "source": [
    "$OH$、$OW$は自然数の値になるようにパディングやストライドを調整する必要がある。<br>\n",
    "ディープラーニングの場合、自然数値を取らない時は、最も近い整数に丸めて先へ進む場合がある。"
   ]
  },
  {
   "cell_type": "markdown",
   "id": "969083a0",
   "metadata": {},
   "source": [
    "## 3次元畳み込み演算"
   ]
  },
  {
   "cell_type": "markdown",
   "id": "68524d55",
   "metadata": {},
   "source": [
    "![画像を表示できません。](image4.png)\n",
    "チャンネル方向に特徴マップが増えた。ブロックで表すとわかりやすい。"
   ]
  },
  {
   "cell_type": "markdown",
   "id": "65f3ea7e",
   "metadata": {},
   "source": [
    "### バッチ処理"
   ]
  },
  {
   "cell_type": "markdown",
   "id": "344f6a1e",
   "metadata": {},
   "source": [
    "![画像を表示できません。](image5.png)\n",
    "畳み込み演算でも、N個のデータをまとめて与えてバッチ処理ができる。CNNでは、4次元のデータが流れる。"
   ]
  },
  {
   "cell_type": "markdown",
   "id": "d20a4b1f",
   "metadata": {},
   "source": [
    "# プーリング層"
   ]
  },
  {
   "cell_type": "markdown",
   "id": "c0345fb1",
   "metadata": {},
   "source": [
    "プーリングは、縦・横方向の空間を小さくする演算。<br>\n",
    "対象領域から最大値をとるMaxプーリング、平均値をとるAverageプーリングなどがある。<br>\n",
    "一般に、ウィンドウサイズとストライドは同じ値に設定する。\n",
    "- **学習パラメータがない**（最大値もしくは平均値を取るだけなどの処理）\n",
    "- **チャンネル数は変化しない**（チャンネルごとに独立して計算）\n",
    "- **微小な位置変化にロバスト（頑健）**（入力値の小さなズレに対し、同じような結果を返す）"
   ]
  },
  {
   "cell_type": "markdown",
   "id": "33ba0f3f",
   "metadata": {},
   "source": [
    "![画像を表示できません。](image6.png)\n",
    "ストライド3で３×３のMaxプーリング"
   ]
  },
  {
   "cell_type": "markdown",
   "id": "d43e7e60",
   "metadata": {},
   "source": [
    "# レイヤの実装"
   ]
  },
  {
   "cell_type": "markdown",
   "id": "b0a40dcd",
   "metadata": {},
   "source": [
    "## `im2col`データ展開"
   ]
  },
  {
   "cell_type": "markdown",
   "id": "e0e804e0",
   "metadata": {},
   "source": [
    "- `im2col`はバッチも含めた4次元データを2次元に変換する。\n",
    "- `Numpy`で`for`文を使うと処理が遅くなるため、フィルター（重み）にとって都合の良いように入力データ展開をする`im2col`を利用する。\n",
    "- メモリを多く消費するが、線形代数ライブラリを有効活用できる。"
   ]
  },
  {
   "cell_type": "markdown",
   "id": "9edfe9b4",
   "metadata": {},
   "source": [
    "![画像を表示できません。](image7.png)"
   ]
  },
  {
   "cell_type": "markdown",
   "id": "bda4b8f4",
   "metadata": {},
   "source": [
    "`im2col`によって変換した2次元データと、一列に展開した重みの行列計算をする。"
   ]
  },
  {
   "cell_type": "code",
   "execution_count": 3,
   "id": "783405d9",
   "metadata": {},
   "outputs": [],
   "source": [
    "def im2col(input_data, filter_h, filter_w, stride=1, pad=0):\n",
    "\n",
    "    N, C, H, W = input_data.shape\n",
    "    out_h = (H + 2*pad - filter_h)//stride + 1\n",
    "    out_w = (W + 2*pad - filter_w)//stride + 1\n",
    "\n",
    "    img = np.pad(input_data, [(0,0), (0,0), (pad, pad), (pad, pad)], 'constant')\n",
    "    col = np.zeros((N, C, filter_h, filter_w, out_h, out_w))\n",
    "\n",
    "    for y in range(filter_h):\n",
    "        y_max = y + stride*out_h\n",
    "        for x in range(filter_w):\n",
    "            x_max = x + stride*out_w\n",
    "            col[:, :, y, x, :, :] = img[:, :, y:y_max:stride, x:x_max:stride]\n",
    "\n",
    "    col = col.transpose(0, 4, 5, 1, 2, 3).reshape(N*out_h*out_w, -1)\n",
    "    return col"
   ]
  },
  {
   "cell_type": "markdown",
   "id": "5e351d4d",
   "metadata": {},
   "source": [
    "また、レイヤの逆伝播の際には`im2col`の逆の操作が必要であるため、`col2im`を以下で実装する。"
   ]
  },
  {
   "cell_type": "code",
   "execution_count": 4,
   "id": "5a1d2970",
   "metadata": {},
   "outputs": [],
   "source": [
    "def col2im(col, input_shape, filter_h, filter_w, stride=1, pad=0):\n",
    "\n",
    "    N, C, H, W = input_shape\n",
    "    out_h = (H + 2*pad - filter_h)//stride + 1\n",
    "    out_w = (W + 2*pad - filter_w)//stride + 1\n",
    "    col = col.reshape(N, out_h, out_w, C, filter_h, filter_w).transpose(0, 3, 4, 5, 1, 2)\n",
    "\n",
    "    img = np.zeros((N, C, H + 2*pad + stride - 1, W + 2*pad + stride - 1))\n",
    "    for y in range(filter_h):\n",
    "        y_max = y + stride*out_h\n",
    "        for x in range(filter_w):\n",
    "            x_max = x + stride*out_w\n",
    "            img[:, :, y:y_max:stride, x:x_max:stride] += col[:, :, y, x, :, :]\n",
    "\n",
    "    return img[:, :, pad:H + pad, pad:W + pad]"
   ]
  },
  {
   "cell_type": "markdown",
   "id": "667d569f",
   "metadata": {},
   "source": [
    "## Convolutionレイヤ"
   ]
  },
  {
   "cell_type": "code",
   "execution_count": 5,
   "id": "4c206484",
   "metadata": {},
   "outputs": [],
   "source": [
    "class Convolution:\n",
    "    def __init__(self, W, b, stride=1, pad=0):\n",
    "        self.W = W\n",
    "        self.b = b\n",
    "        self.stride = stride\n",
    "        self.pad = pad\n",
    "        \n",
    "        # 中間データ（backward時に使用）\n",
    "        self.x = None   \n",
    "        self.col = None\n",
    "        self.col_W = None\n",
    "        \n",
    "        # 重み・バイアスパラメータの勾配\n",
    "        self.dW = None\n",
    "        self.db = None\n",
    "\n",
    "    def forward(self, x):\n",
    "        FN, C, FH, FW = self.W.shape\n",
    "        N, C, H, W = x.shape\n",
    "        out_h = 1 + int((H + 2*self.pad - FH) / self.stride)\n",
    "        out_w = 1 + int((W + 2*self.pad - FW) / self.stride)\n",
    "\n",
    "        col = im2col(x, FH, FW, self.stride, self.pad)\n",
    "        col_W = self.W.reshape(FN, -1).T # フィルターの展開\n",
    "        out = np.dot(col, col_W) + self.b\n",
    "        out = out.reshape(N, out_h, out_w, -1).transpose(0, 3, 1, 2)\n",
    "\n",
    "        self.x = x\n",
    "        self.col = col\n",
    "        self.col_W = col_W\n",
    "\n",
    "        return out\n",
    "\n",
    "    def backward(self, dout):\n",
    "        FN, C, FH, FW = self.W.shape\n",
    "        dout = dout.transpose(0,2,3,1).reshape(-1, FN)\n",
    "\n",
    "        self.db = np.sum(dout, axis=0)\n",
    "        self.dW = np.dot(self.col.T, dout)\n",
    "        self.dW = self.dW.transpose(1, 0).reshape(FN, C, FH, FW)\n",
    "\n",
    "        dcol = np.dot(dout, self.col_W.T)\n",
    "        dx = col2im(dcol, self.x.shape, FH, FW, self.stride, self.pad)\n",
    "\n",
    "        return dx"
   ]
  },
  {
   "cell_type": "markdown",
   "id": "8035ca4f",
   "metadata": {},
   "source": [
    "**`reshape(xx, -1)`**\n",
    "- 多次元配列の辻褄が合うようにまとまる\n",
    "\n",
    "**`transpose()`**\n",
    "- 0から始まるインデックスを指定すると、多次元配列の順番の軸を入れ替える"
   ]
  },
  {
   "cell_type": "markdown",
   "id": "09ee4cff",
   "metadata": {},
   "source": [
    "## Poolingレイヤ"
   ]
  },
  {
   "cell_type": "markdown",
   "id": "ad71afdd",
   "metadata": {},
   "source": [
    "![画像を表示できません。](image8.png)\n",
    "`im2col`でデータを展開し、展開した行列に対し、行ごとに最大値を求め、適切な形状に変形する。"
   ]
  },
  {
   "cell_type": "code",
   "execution_count": 6,
   "id": "275e0a93",
   "metadata": {},
   "outputs": [],
   "source": [
    "class Pooling:\n",
    "    def __init__(self, pool_h, pool_w, stride=2, pad=0):\n",
    "        self.pool_h = pool_h\n",
    "        self.pool_w = pool_w\n",
    "        self.stride = stride\n",
    "        self.pad = pad\n",
    "        \n",
    "        self.x = None\n",
    "        self.arg_max = None\n",
    "\n",
    "    def forward(self, x):\n",
    "        N, C, H, W = x.shape\n",
    "        out_h = int(1 + (H - self.pool_h) / self.stride)\n",
    "        out_w = int(1 + (W - self.pool_w) / self.stride)\n",
    "\n",
    "        col = im2col(x, self.pool_h, self.pool_w, self.stride, self.pad)\n",
    "        col = col.reshape(-1, self.pool_h*self.pool_w)\n",
    "\n",
    "        arg_max = np.argmax(col, axis=1)\n",
    "        out = np.max(col, axis=1)\n",
    "        out = out.reshape(N, out_h, out_w, C).transpose(0, 3, 1, 2)\n",
    "\n",
    "        self.x = x\n",
    "        self.arg_max = arg_max\n",
    "\n",
    "        return out\n",
    "\n",
    "    def backward(self, dout):\n",
    "        dout = dout.transpose(0, 2, 3, 1)\n",
    "        \n",
    "        pool_size = self.pool_h * self.pool_w\n",
    "        dmax = np.zeros((dout.size, pool_size))\n",
    "        dmax[np.arange(self.arg_max.size), self.arg_max.flatten()] = dout.flatten()\n",
    "        dmax = dmax.reshape(dout.shape + (pool_size,)) \n",
    "        \n",
    "        dcol = dmax.reshape(dmax.shape[0] * dmax.shape[1] * dmax.shape[2], -1)\n",
    "        dx = col2im(dcol, self.x.shape, self.pool_h, self.pool_w, self.stride, self.pad)\n",
    "        \n",
    "        return dx"
   ]
  },
  {
   "cell_type": "markdown",
   "id": "01c639af",
   "metadata": {},
   "source": [
    "# CNNの実装"
   ]
  },
  {
   "cell_type": "markdown",
   "id": "cdc3235d",
   "metadata": {},
   "source": [
    "「Convolution - ReLU - Pooling - Affine - ReLU - Affine - Softmax」の構成のCNNを実装する。"
   ]
  },
  {
   "cell_type": "code",
   "execution_count": 7,
   "id": "ec8cf4f9",
   "metadata": {},
   "outputs": [],
   "source": [
    "import pickle\n",
    "from collections import OrderedDict\n",
    "from common.layers import *\n",
    "from common.gradient import numerical_gradient\n",
    "\n",
    "\n",
    "class SimpleConvNet:\n",
    "    \"\"\"\n",
    "    input_size : 入力サイズ（MNISTの場合は784）\n",
    "    hidden_size_list : 隠れ層のニューロンの数のリスト（e.g. [100, 100, 100]）\n",
    "    output_size : 出力サイズ（MNISTの場合は10）\n",
    "    activation : 'relu' or 'sigmoid'\n",
    "    weight_init_std : 重みの標準偏差を指定（e.g. 0.01）\n",
    "        'relu'または'he'を指定した場合は「Heの初期値」を設定\n",
    "        'sigmoid'または'xavier'を指定した場合は「Xavierの初期値」を設定\n",
    "    \"\"\"\n",
    "    def __init__(self, input_dim=(1, 28, 28), \n",
    "                 conv_param={'filter_num':30, 'filter_size':5, 'pad':0, 'stride':1},\n",
    "                 hidden_size=100, output_size=10, weight_init_std=0.01):\n",
    "        filter_num = conv_param['filter_num']\n",
    "        filter_size = conv_param['filter_size']\n",
    "        filter_pad = conv_param['pad']\n",
    "        filter_stride = conv_param['stride']\n",
    "        input_size = input_dim[1]\n",
    "        conv_output_size = (input_size - filter_size + 2*filter_pad) / filter_stride + 1\n",
    "        pool_output_size = int(filter_num * (conv_output_size/2) * (conv_output_size/2))\n",
    "\n",
    "        # 重みの初期化\n",
    "        self.params = {}\n",
    "        self.params['W1'] = weight_init_std * \\\n",
    "                            np.random.randn(filter_num, input_dim[0], filter_size, filter_size)\n",
    "        self.params['b1'] = np.zeros(filter_num)\n",
    "        self.params['W2'] = weight_init_std * \\\n",
    "                            np.random.randn(pool_output_size, hidden_size)\n",
    "        self.params['b2'] = np.zeros(hidden_size)\n",
    "        self.params['W3'] = weight_init_std * \\\n",
    "                            np.random.randn(hidden_size, output_size)\n",
    "        self.params['b3'] = np.zeros(output_size)\n",
    "\n",
    "        # レイヤの生成\n",
    "        self.layers = OrderedDict()\n",
    "        self.layers['Conv1'] = Convolution(self.params['W1'], self.params['b1'],\n",
    "                                           conv_param['stride'], conv_param['pad'])\n",
    "        self.layers['Relu1'] = Relu()\n",
    "        self.layers['Pool1'] = Pooling(pool_h=2, pool_w=2, stride=2)\n",
    "        self.layers['Affine1'] = Affine(self.params['W2'], self.params['b2'])\n",
    "        self.layers['Relu2'] = Relu()\n",
    "        self.layers['Affine2'] = Affine(self.params['W3'], self.params['b3'])\n",
    "\n",
    "        self.last_layer = SoftmaxWithLoss()\n",
    "\n",
    "    def predict(self, x):\n",
    "        for layer in self.layers.values():\n",
    "            x = layer.forward(x)\n",
    "\n",
    "        return x\n",
    "\n",
    "    def loss(self, x, t):\n",
    "        \"\"\"損失関数を求める\n",
    "        引数のxは入力データ、tは教師ラベル\n",
    "        \"\"\"\n",
    "        y = self.predict(x)\n",
    "        return self.last_layer.forward(y, t)\n",
    "\n",
    "    def accuracy(self, x, t, batch_size=100):\n",
    "        if t.ndim != 1 : t = np.argmax(t, axis=1)\n",
    "        \n",
    "        acc = 0.0\n",
    "        \n",
    "        for i in range(int(x.shape[0] / batch_size)):\n",
    "            tx = x[i*batch_size:(i+1)*batch_size]\n",
    "            tt = t[i*batch_size:(i+1)*batch_size]\n",
    "            y = self.predict(tx)\n",
    "            y = np.argmax(y, axis=1)\n",
    "            acc += np.sum(y == tt) \n",
    "        \n",
    "        return acc / x.shape[0]\n",
    "\n",
    "    def numerical_gradient(self, x, t):\n",
    "        \"\"\"勾配を求める（数値微分）\n",
    "\n",
    "        Parameters\n",
    "        ----------\n",
    "        x : 入力データ\n",
    "        t : 教師ラベル\n",
    "\n",
    "        Returns\n",
    "        -------\n",
    "        各層の勾配を持ったディクショナリ変数\n",
    "            grads['W1']、grads['W2']、...は各層の重み\n",
    "            grads['b1']、grads['b2']、...は各層のバイアス\n",
    "        \"\"\"\n",
    "        loss_w = lambda w: self.loss(x, t)\n",
    "\n",
    "        grads = {}\n",
    "        for idx in (1, 2, 3):\n",
    "            grads['W' + str(idx)] = numerical_gradient(loss_w, self.params['W' + str(idx)])\n",
    "            grads['b' + str(idx)] = numerical_gradient(loss_w, self.params['b' + str(idx)])\n",
    "\n",
    "        return grads\n",
    "\n",
    "    def gradient(self, x, t):\n",
    "        \"\"\"勾配を求める（誤差逆伝搬法）\n",
    "\n",
    "        Parameters\n",
    "        ----------\n",
    "        x : 入力データ\n",
    "        t : 教師ラベル\n",
    "\n",
    "        Returns\n",
    "        -------\n",
    "        各層の勾配を持ったディクショナリ変数\n",
    "            grads['W1']、grads['W2']、...は各層の重み\n",
    "            grads['b1']、grads['b2']、...は各層のバイアス\n",
    "        \"\"\"\n",
    "        # forward\n",
    "        self.loss(x, t)\n",
    "\n",
    "        # backward\n",
    "        dout = 1\n",
    "        dout = self.last_layer.backward(dout)\n",
    "\n",
    "        layers = list(self.layers.values())\n",
    "        layers.reverse()\n",
    "        for layer in layers:\n",
    "            dout = layer.backward(dout)\n",
    "\n",
    "        # 設定\n",
    "        grads = {}\n",
    "        grads['W1'], grads['b1'] = self.layers['Conv1'].dW, self.layers['Conv1'].db\n",
    "        grads['W2'], grads['b2'] = self.layers['Affine1'].dW, self.layers['Affine1'].db\n",
    "        grads['W3'], grads['b3'] = self.layers['Affine2'].dW, self.layers['Affine2'].db\n",
    "\n",
    "        return grads\n",
    "        \n",
    "    def save_params(self, file_name=\"params.pkl\"):\n",
    "        params = {}\n",
    "        for key, val in self.params.items():\n",
    "            params[key] = val\n",
    "        with open(file_name, 'wb') as f:\n",
    "            pickle.dump(params, f)\n",
    "\n",
    "    def load_params(self, file_name=\"params.pkl\"):\n",
    "        with open(file_name, 'rb') as f:\n",
    "            params = pickle.load(f)\n",
    "        for key, val in params.items():\n",
    "            self.params[key] = val\n",
    "\n",
    "        for i, key in enumerate(['Conv1', 'Affine1', 'Affine2']):\n",
    "            self.layers[key].W = self.params['W' + str(i+1)]\n",
    "            self.layers[key].b = self.params['b' + str(i+1)]"
   ]
  },
  {
   "cell_type": "code",
   "execution_count": 8,
   "id": "eb8bc02b",
   "metadata": {},
   "outputs": [
    {
     "name": "stdout",
     "output_type": "stream",
     "text": [
      "=== epoch:1, train acc:0.174, test acc:0.215 ===\n",
      "=== epoch:2, train acc:0.953, test acc:0.95 ===\n",
      "=== epoch:3, train acc:0.975, test acc:0.98 ===\n",
      "=== epoch:4, train acc:0.983, test acc:0.979 ===\n",
      "=== epoch:5, train acc:0.982, test acc:0.983 ===\n",
      "=== epoch:6, train acc:0.983, test acc:0.984 ===\n",
      "=== epoch:7, train acc:0.987, test acc:0.988 ===\n",
      "=== epoch:8, train acc:0.989, test acc:0.986 ===\n",
      "=== epoch:9, train acc:0.992, test acc:0.985 ===\n",
      "=== epoch:10, train acc:0.997, test acc:0.987 ===\n",
      "=== epoch:11, train acc:0.997, test acc:0.987 ===\n",
      "=== epoch:12, train acc:0.993, test acc:0.988 ===\n",
      "=== epoch:13, train acc:0.994, test acc:0.985 ===\n",
      "=== epoch:14, train acc:0.999, test acc:0.985 ===\n",
      "=== epoch:15, train acc:0.999, test acc:0.988 ===\n",
      "=== epoch:16, train acc:0.993, test acc:0.986 ===\n",
      "=== epoch:17, train acc:0.998, test acc:0.986 ===\n",
      "=== epoch:18, train acc:0.997, test acc:0.989 ===\n",
      "=== epoch:19, train acc:0.998, test acc:0.988 ===\n",
      "=== epoch:20, train acc:0.997, test acc:0.988 ===\n",
      "=============== Final Test Accuracy ===============\n",
      "test acc:0.9883\n",
      "Saved Network Parameters!\n"
     ]
    },
    {
     "data": {
      "image/png": "[encoded data removed]",
      "text/plain": [
       "<Figure size 432x288 with 1 Axes>"
      ]
     },
     "metadata": {
      "needs_background": "light"
     },
     "output_type": "display_data"
    }
   ],
   "source": [
    "from dataset.mnist import load_mnist\n",
    "from common.trainer import Trainer\n",
    "\n",
    "# データの読み込み\n",
    "(x_train, t_train), (x_test, t_test) = load_mnist(flatten=False)\n",
    "\n",
    "max_epochs = 20\n",
    "\n",
    "network = SimpleConvNet(input_dim=(1,28,28), \n",
    "                        conv_param = {'filter_num': 30, 'filter_size': 5, 'pad': 0, 'stride': 1},\n",
    "                        hidden_size=100, output_size=10, weight_init_std=0.01)\n",
    "                        \n",
    "trainer = Trainer(network, x_train, t_train, x_test, t_test,\n",
    "                  epochs=max_epochs, mini_batch_size=100,\n",
    "                  optimizer='Adam', optimizer_param={'lr': 0.001},\n",
    "                  evaluate_sample_num_per_epoch=1000)\n",
    "trainer.train()\n",
    "\n",
    "# パラメータの保存\n",
    "network.save_params(\"params.pkl\")\n",
    "print(\"Saved Network Parameters!\")\n",
    "\n",
    "# グラフの描画\n",
    "markers = {'train': 'o', 'test': 's'}\n",
    "x = np.arange(max_epochs)\n",
    "plt.plot(x, trainer.train_acc_list, marker='o', label='train', markevery=2)\n",
    "plt.plot(x, trainer.test_acc_list, marker='s', label='test', markevery=2)\n",
    "plt.xlabel(\"epochs\")\n",
    "plt.ylabel(\"accuracy\")\n",
    "plt.ylim(0, 1.0)\n",
    "plt.legend(loc='lower right')\n",
    "plt.show()"
   ]
  },
  {
   "cell_type": "markdown",
   "id": "8eee6f8f",
   "metadata": {},
   "source": [
    "# CNNの可視化"
   ]
  },
  {
   "cell_type": "markdown",
   "id": "e3e08165",
   "metadata": {},
   "source": [
    "以下は、1層目の可視化。学習前のフィルターはランダムに初期化されているが、学習を終えたフィルターは規則性がある。<br>\n",
    "白から黒へグラデーションするフィルターや、塊のある領域（blob）を持つフィルターへ更新されている。<br>\n",
    "これは、エッジに反応するフィルターへ更新されていることを示す。"
   ]
  },
  {
   "cell_type": "code",
   "execution_count": 9,
   "id": "9815aa0d",
   "metadata": {},
   "outputs": [
    {
     "name": "stdout",
     "output_type": "stream",
     "text": [
      "========== 学習前 ==========\n"
     ]
    },
    {
     "data": {
      "image/png": "[encoded data removed]",
      "text/plain": [
       "<Figure size 432x288 with 30 Axes>"
      ]
     },
     "metadata": {},
     "output_type": "display_data"
    },
    {
     "name": "stdout",
     "output_type": "stream",
     "text": [
      "========== 学習後 ==========\n"
     ]
    },
    {
     "data": {
      "image/png": "[encoded data removed]",
      "text/plain": [
       "<Figure size 432x288 with 30 Axes>"
      ]
     },
     "metadata": {},
     "output_type": "display_data"
    }
   ],
   "source": [
    "def filter_show(filters, nx=8, margin=3, scale=10):\n",
    "    \"\"\"\n",
    "    c.f. https://gist.github.com/aidiary/07d530d5e08011832b12#file-draw_weight-py\n",
    "    \"\"\"\n",
    "    FN, C, FH, FW = filters.shape\n",
    "    ny = int(np.ceil(FN / nx))\n",
    "\n",
    "    fig = plt.figure()\n",
    "    fig.subplots_adjust(left=0, right=1, bottom=0, top=1, hspace=0.05, wspace=0.05)\n",
    "\n",
    "    for i in range(FN):\n",
    "        ax = fig.add_subplot(ny, nx, i+1, xticks=[], yticks=[])\n",
    "        ax.imshow(filters[i, 0], cmap=plt.cm.gray_r, interpolation='nearest')\n",
    "    plt.show()\n",
    "\n",
    "\n",
    "network = SimpleConvNet()\n",
    "# ランダム初期化後の重み\n",
    "print(\"========== 学習前 ==========\")\n",
    "filter_show(network.params['W1'])\n",
    "\n",
    "# 学習後の重み\n",
    "network.load_params(\"params.pkl\")\n",
    "print(\"========== 学習後 ==========\")\n",
    "filter_show(network.params['W1'])"
   ]
  },
  {
   "cell_type": "markdown",
   "id": "8a60f598",
   "metadata": {},
   "source": [
    "CNNでは、層が深くなるに従って抽出される情報はより抽象化されていく。<br>\n",
    "例えば、最初の層は単純なエッジに反応し、続いてテクスチャに反応し、そしてより複雑な物体のパーツに反応するようになるといった具合。"
   ]
  },
  {
   "cell_type": "markdown",
   "id": "c619c561",
   "metadata": {},
   "source": [
    "# 代表的なCNN"
   ]
  },
  {
   "cell_type": "markdown",
   "id": "8ea930e8",
   "metadata": {},
   "source": [
    "## LeNet"
   ]
  },
  {
   "cell_type": "markdown",
   "id": "ca7ecf36",
   "metadata": {},
   "source": [
    "![画像を表示できません。](image9.png)\n",
    "引用：LeCun, Yann, et al. \"Object recognition with gradient-based learning.\" Shape, contour and grouping in computer vision. Springer, Berlin, Heidelberg, 1999. 319-345."
   ]
  },
  {
   "cell_type": "markdown",
   "id": "af04984f",
   "metadata": {},
   "source": [
    "1998年に提案された、手書き数字を認識するネットワークで、初めてのCNN。<br>\n",
    "現在主流のCNNとは異なり、活性化関数はReLUではなくSigmoid、Maxプーリングではなくsubsamplingによる中間データサイズ縮小が行われている。"
   ]
  },
  {
   "cell_type": "markdown",
   "id": "727daa5c",
   "metadata": {},
   "source": [
    "## AlexNet"
   ]
  },
  {
   "cell_type": "markdown",
   "id": "16e802c4",
   "metadata": {},
   "source": [
    "LeNetと異なる点は以下。\n",
    "- 活性化関数がReLU\n",
    "- LRN（Local Response Normalization）という局所的正規化を用いる\n",
    "- Dropoutを使用する\n",
    "\n",
    "\n",
    "\n",
    "LeNetから約20年の間、ビッグデータ入手が容易になったことや、大量並列計算を得意とするGPUの普及など、コンピュータ技術に大きな進歩があった。\n",
    "AlexNetの基本構造はLeNetと大きくは変わらないが、ディープラーニングの発展の大きな原動力になった。"
   ]
  },
  {
   "cell_type": "code",
   "execution_count": null,
   "id": "1c620563",
   "metadata": {},
   "outputs": [],
   "source": []
  }
 ],
 "metadata": {
  "kernelspec": {
   "display_name": "Python 3",
   "language": "python",
   "name": "python3"
  },
  "language_info": {
   "codemirror_mode": {
    "name": "ipython",
    "version": 3
   },
   "file_extension": ".py",
   "mimetype": "text/x-python",
   "name": "python",
   "nbconvert_exporter": "python",
   "pygments_lexer": "ipython3",
   "version": "3.8.8"
  },
  "toc": {
   "base_numbering": 1,
   "nav_menu": {},
   "number_sections": true,
   "sideBar": true,
   "skip_h1_title": false,
   "title_cell": "Table of Contents",
   "title_sidebar": "Contents",
   "toc_cell": false,
   "toc_position": {
    "height": "calc(100% - 180px)",
    "left": "10px",
    "top": "150px",
    "width": "291px"
   },
   "toc_section_display": true,
   "toc_window_display": true
  }
 },
 "nbformat": 4,
 "nbformat_minor": 5
}
