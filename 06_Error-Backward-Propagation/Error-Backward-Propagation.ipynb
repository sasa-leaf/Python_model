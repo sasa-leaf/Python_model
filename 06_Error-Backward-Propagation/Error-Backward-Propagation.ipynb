{
 "cells": [
  {
   "cell_type": "markdown",
   "id": "d9173b4f",
   "metadata": {},
   "source": [
    "# 逆伝播のイメージ"
   ]
  },
  {
   "cell_type": "markdown",
   "id": "028d188c",
   "metadata": {},
   "source": [
    "以下は、計算グラフによる逆伝播のイメージ。"
   ]
  },
  {
   "cell_type": "markdown",
   "id": "936bbde0",
   "metadata": {},
   "source": [
    "![画像を表示できません。](image.jpeg)"
   ]
  },
  {
   "cell_type": "markdown",
   "id": "c4256b47",
   "metadata": {},
   "source": [
    "## 連鎖律"
   ]
  },
  {
   "cell_type": "markdown",
   "id": "995ed01e",
   "metadata": {},
   "source": [
    "$$\\dfrac{\\partial L}{\\partial x}=\\dfrac{\\partial L}{\\partial t} \\dfrac{\\partial t}{\\partial x}$$"
   ]
  },
  {
   "cell_type": "markdown",
   "id": "99d35a24",
   "metadata": {},
   "source": [
    "$x$ に関する$L$の微分は、「 $t$ に関する$L$の微分」と「 $x$ に関する $t$ の微分」の積で表すことができる。<br>\n",
    "逆方向に、局所的な微分の値を乗算していくことで、それぞれの変数の微分の値が得られる。"
   ]
  },
  {
   "cell_type": "markdown",
   "id": "5acde43c",
   "metadata": {},
   "source": [
    "## 加算ノード"
   ]
  },
  {
   "cell_type": "markdown",
   "id": "dbb36c11",
   "metadata": {},
   "source": [
    "$L=x+y+z$ について<br>\n",
    "$$\\dfrac{\\partial L}{\\partial x}=1,\\quad \\dfrac{\\partial L}{\\partial y}=1,\\quad \\dfrac{\\partial L}{\\partial z}=1$$"
   ]
  },
  {
   "cell_type": "markdown",
   "id": "cc13fafb",
   "metadata": {},
   "source": [
    "上流から伝わった値に、1を乗算して下流に流す。すなわち伝わった微分の値を次のノードへ流すだけ。"
   ]
  },
  {
   "cell_type": "markdown",
   "id": "70822d83",
   "metadata": {},
   "source": [
    "## 乗算ノード"
   ]
  },
  {
   "cell_type": "markdown",
   "id": "ebe3c2ec",
   "metadata": {},
   "source": [
    "$L=xyz$ について\n",
    "$$\\dfrac{\\partial L}{\\partial x}=yz,\\quad \\dfrac{\\partial L}{\\partial y}=zx,\\quad \\dfrac{\\partial L}{\\partial z}=xy$$"
   ]
  },
  {
   "cell_type": "markdown",
   "id": "5085cac4",
   "metadata": {},
   "source": [
    "上流から伝わった値に、順伝播の際の入力信号のうち、自分の値を除いた値の積を乗算して下流に流す。"
   ]
  },
  {
   "cell_type": "markdown",
   "id": "50ecb3d9",
   "metadata": {},
   "source": [
    "# レイヤの実装"
   ]
  },
  {
   "cell_type": "markdown",
   "id": "c187b188",
   "metadata": {},
   "source": [
    "## 逆伝播のイメージ"
   ]
  },
  {
   "cell_type": "markdown",
   "id": "64e5d1c5",
   "metadata": {},
   "source": [
    "上のイメージをPythonで実装する。"
   ]
  },
  {
   "cell_type": "markdown",
   "id": "7801a0a2",
   "metadata": {},
   "source": [
    "### 加算レイヤ"
   ]
  },
  {
   "cell_type": "code",
   "execution_count": 1,
   "id": "b164dcf6",
   "metadata": {},
   "outputs": [],
   "source": [
    "class AddLayer:\n",
    "    def __init__(self):\n",
    "        pass\n",
    "    \n",
    "    def forward(self, x, y):\n",
    "        out = x + y\n",
    "        return out\n",
    "    \n",
    "    def backward(self, dout):\n",
    "        dx = dout * 1\n",
    "        dy = dout * 1\n",
    "        return dx, dy"
   ]
  },
  {
   "cell_type": "markdown",
   "id": "560eb82d",
   "metadata": {},
   "source": [
    "### 乗算レイヤ"
   ]
  },
  {
   "cell_type": "code",
   "execution_count": 2,
   "id": "fd62cd2f",
   "metadata": {},
   "outputs": [],
   "source": [
    "class MulLayer:\n",
    "    def __init__(self):\n",
    "        self.x = None\n",
    "        self.y = None\n",
    "\n",
    "    def forward(self, x, y):\n",
    "        self.x = x\n",
    "        self.y = y\n",
    "        out = x * y\n",
    "        return out\n",
    "    \n",
    "    def backward(self, dout):\n",
    "        dx = dout * self.y\n",
    "        dy = dout * self.x\n",
    "        return dx, dy"
   ]
  },
  {
   "cell_type": "markdown",
   "id": "46afe30b",
   "metadata": {},
   "source": [
    "### 行列乗算レイヤ"
   ]
  },
  {
   "cell_type": "code",
   "execution_count": 1,
   "id": "d3562135",
   "metadata": {},
   "outputs": [],
   "source": [
    "class MatMul:\n",
    "    def __init__(self, W):\n",
    "        self.params = [W]\n",
    "        self.grads = [np.zeros_like(W)]\n",
    "        self.x = None\n",
    "\n",
    "    def forward(self, x):\n",
    "        W, = self.params\n",
    "        out = np.dot(x, W)\n",
    "        self.x = x\n",
    "        return out\n",
    "\n",
    "    def backward(self, dout):\n",
    "        W, = self.params\n",
    "        dx = np.dot(dout, W.T)\n",
    "        dW = np.dot(self.x.T, dout)\n",
    "        self.grads[0][...] = dW # Numpy配列上のメモリ位置を固定した上で、要素を上書き\n",
    "        return dx"
   ]
  },
  {
   "cell_type": "markdown",
   "id": "4ad8ad1c",
   "metadata": {},
   "source": [
    "### 実装"
   ]
  },
  {
   "cell_type": "code",
   "execution_count": 3,
   "id": "ff745b41",
   "metadata": {},
   "outputs": [
    {
     "name": "stdout",
     "output_type": "stream",
     "text": [
      "price: 715\n",
      "dApple: 2.2\n",
      "dApple_num: 110\n",
      "dOrange: 3.3000000000000003\n",
      "dOrange_num: 165\n",
      "dTax: 650\n"
     ]
    }
   ],
   "source": [
    "apple = 100\n",
    "apple_num = 2\n",
    "orange = 150\n",
    "orange_num = 3\n",
    "tax = 1.1\n",
    "\n",
    "# layer\n",
    "mul_apple_layer = MulLayer()\n",
    "mul_orange_layer = MulLayer()\n",
    "add_apple_orange_layer = AddLayer()\n",
    "mul_tax_layer = MulLayer()\n",
    "\n",
    "# forward\n",
    "apple_price = mul_apple_layer.forward(apple, apple_num)  # (1)\n",
    "orange_price = mul_orange_layer.forward(orange, orange_num)  # (2)\n",
    "all_price = add_apple_orange_layer.forward(apple_price, orange_price)  # (3)\n",
    "price = mul_tax_layer.forward(all_price, tax)  # (4)\n",
    "\n",
    "# backward\n",
    "dprice = 1\n",
    "dall_price, dtax = mul_tax_layer.backward(dprice)  # (4)\n",
    "dapple_price, dorange_price = add_apple_orange_layer.backward(dall_price)  # (3)\n",
    "dorange, dorange_num = mul_orange_layer.backward(dorange_price)  # (2)\n",
    "dapple, dapple_num = mul_apple_layer.backward(dapple_price)  # (1)\n",
    "\n",
    "print(\"price:\", int(price))\n",
    "print(\"dApple:\", dapple)\n",
    "print(\"dApple_num:\", int(dapple_num))\n",
    "print(\"dOrange:\", dorange)\n",
    "print(\"dOrange_num:\", int(dorange_num))\n",
    "print(\"dTax:\", dtax)"
   ]
  },
  {
   "cell_type": "markdown",
   "id": "bfc19821",
   "metadata": {},
   "source": [
    "## 活性化関数レイヤ"
   ]
  },
  {
   "cell_type": "markdown",
   "id": "e8b7d281",
   "metadata": {},
   "source": [
    "ニューラルネットワークを構成する「層（レイヤ）」を実装する。"
   ]
  },
  {
   "cell_type": "markdown",
   "id": "be82052c",
   "metadata": {},
   "source": [
    "### ReLUレイヤ"
   ]
  },
  {
   "cell_type": "markdown",
   "id": "4baaca8b",
   "metadata": {},
   "source": [
    "ReLU（Rectified Linear Unit）\n",
    "$$y=\\begin{cases}\n",
    "    x & (x > 0) \\\\\n",
    "    0 & (x \\leqq 0)\n",
    "  \\end{cases}$$\n",
    "$x$に関する$y$の微分は以下のようになる。\n",
    "$$\\dfrac{\\partial y}{\\partial x}=\\begin{cases}\n",
    "    1 & (x > 0) \\\\\n",
    "    0 & (x \\leqq 0)\n",
    "  \\end{cases}$$"
   ]
  },
  {
   "cell_type": "markdown",
   "id": "bccbfe20",
   "metadata": {},
   "source": [
    "順伝播時に、$x$ が0以下であれば、逆伝播では、下流への信号はストップする。<br>\n",
    "つまりReLUレイヤは、回路における「**スイッチ**」のように機能する。"
   ]
  },
  {
   "cell_type": "code",
   "execution_count": 4,
   "id": "363422e0",
   "metadata": {},
   "outputs": [],
   "source": [
    "class Relu:\n",
    "    def __init__(self):\n",
    "        self.mask = None\n",
    "        \n",
    "    def forward(self, x):\n",
    "        self.mask = (x <= 0)\n",
    "        out = x.copy()\n",
    "        out[self.mask] = 0\n",
    "        return out\n",
    "    \n",
    "    def backward(self, dout):\n",
    "        dout[self.mask] = 0\n",
    "        dx = dout\n",
    "        return dx"
   ]
  },
  {
   "cell_type": "markdown",
   "id": "18de478f",
   "metadata": {},
   "source": [
    "逆伝播では、順伝播時に保持した`mask`を使って、逆伝播された`dout`に対し、`mask`の要素が`True`（すなわち負の値）の場所を`0`に設定する。"
   ]
  },
  {
   "cell_type": "markdown",
   "id": "6b51e35e",
   "metadata": {},
   "source": [
    "### Sigmoidレイヤ"
   ]
  },
  {
   "cell_type": "markdown",
   "id": "9d45d561",
   "metadata": {},
   "source": [
    "$$y=\\dfrac{1}{1+\\exp \\left( -x\\right) }$$"
   ]
  },
  {
   "cell_type": "markdown",
   "id": "4710aeac",
   "metadata": {},
   "source": [
    "step5「 $x$ 」　→　　step4「 $-x$ 」　→　　step3「 $\\exp(-x)$ 」　→　　step2「 $1+\\exp(-x)$ 」　→　　step1「 $\\dfrac{1}{1+\\exp \\left( -x\\right) }(=y)$ 」"
   ]
  },
  {
   "cell_type": "markdown",
   "id": "92afc5df",
   "metadata": {},
   "source": [
    "> **導出**\n",
    "\n",
    ">**step1**\n",
    ">\n",
    ">最終的な値$L$を、シグモイド間数の出力 $y$ で微分する。\n",
    ">$$\\dfrac{\\partial L}{\\partial y}\\tag{1}$$\n",
    "\n",
    ">**step2**\n",
    ">\n",
    ">逆数を返す $b=\\dfrac{1}{a}$ この式の微分は、次の式で表される。\n",
    ">$\\dfrac{\\partial b}{\\partial a} = -a^{-2} =-b^{2}$\n",
    ">\n",
    ">順伝播の出力の2乗に、マイナスを付けた値を乗算。\n",
    ">$$-\\dfrac{\\partial L}{\\partial y}y^{2}\\tag{2}$$\n",
    "\n",
    ">**step3**\n",
    ">\n",
    ">1を加える加算ノードでは、値をそのまま流す。\n",
    ">$$-\\dfrac{\\partial L}{\\partial y}y^{2}\\tag{3}$$\n",
    "\n",
    ">**step4**\n",
    ">\n",
    ">$b=\\exp(a)$ この式の微分は、次の式で表される。$\\dfrac{\\partial b}{\\partial a}=\\exp \\left( a\\right)$\n",
    ">\n",
    ">ネイピア数の、順伝播時の入力の値乗（順伝播時の出力値）を乗算。\n",
    ">$$-\\dfrac{\\partial L}{\\partial y}y^{2}\\exp \\left( -x\\right) \\tag{4}$$\n",
    "\n",
    ">**step5**\n",
    ">\n",
    ">順伝播の際の入力信号のうち、自分の値を除いた値の積（-1）を乗算し、変形。<br><br>\n",
    ">$$\\begin{align}\n",
    "\\dfrac{\\partial L}{\\partial y}y^{2}\\exp \\left( -x\\right)\n",
    "&= \\dfrac{\\partial L}{\\partial y}\\dfrac{1}{\\lbrace(1+\\exp \\left( -x\\right)\\rbrace^{2}} \\exp \\left( -x\\right)\\\\\\\\\n",
    "&= \\dfrac{\\partial L}{\\partial y}\\dfrac{1}{1+\\exp \\left( -x\\right)} \\dfrac{\\exp \\left( -x\\right)}{1+\\exp \\left( -x\\right)}\\\\\\\\\n",
    "&= \\dfrac{\\partial L}{\\partial y}y\\left( 1-y\\right) \\tag{5} \n",
    "\\end{align}$$<br>\n",
    ">Sigmoidレイヤの逆伝播は、順伝播の出力だけ（`x`を使わずに`y`のみ）から、シンプルに計算できる。"
   ]
  },
  {
   "cell_type": "code",
   "execution_count": 21,
   "id": "8d76eacc",
   "metadata": {},
   "outputs": [],
   "source": [
    "class Sigmoid:\n",
    "    def __init__(self):\n",
    "        self.out = None\n",
    "        \n",
    "    def forward(self, x):\n",
    "        out = 1 / (1 + np.exp(-x))\n",
    "        self.out = out\n",
    "        return out\n",
    "    \n",
    "    def backward(self, dout):\n",
    "        dx = dout * (1.0 - self.out) * self.out\n",
    "        return dx"
   ]
  },
  {
   "cell_type": "markdown",
   "id": "768e775a",
   "metadata": {},
   "source": [
    "順伝播時の出力を`out`に保持し、逆伝播時に`out`を使って計算する。"
   ]
  },
  {
   "cell_type": "markdown",
   "id": "ba029f9d",
   "metadata": {},
   "source": [
    "## Affineレイヤ"
   ]
  },
  {
   "cell_type": "markdown",
   "id": "630e4e67",
   "metadata": {},
   "source": [
    "$\\mathrm{X}\\cdot \\mathrm{W}=\\mathrm{Y}$（多次元配列）について\n",
    "$$\\dfrac{\\partial L}{\\partial \\mathrm{X}}=\\dfrac{\\partial L}{\\partial \\mathrm{Y}} \\cdot \\mathrm{W}^\\mathsf{T},\\quad \n",
    "\\dfrac{\\partial L}{\\partial \\mathrm{W}}=\\mathrm{X}^\\mathsf{T} \\cdot \\dfrac{\\partial L}{\\partial \\mathrm{Y}}$$\n",
    "$\\mathsf{T}$は転置を表し、次元数を揃えるために転置を行う。"
   ]
  },
  {
   "cell_type": "code",
   "execution_count": 6,
   "id": "5f9f0c2a",
   "metadata": {
    "code_folding": []
   },
   "outputs": [],
   "source": [
    "class Affine:\n",
    "    def __init__(self, W, b):\n",
    "        self.W = W\n",
    "        self.b = b\n",
    "        self.x = None\n",
    "        self.dW = None\n",
    "        self.db = None\n",
    "        \n",
    "    def forward(self, x):\n",
    "        self.x = x\n",
    "        out = np.dot(x, self.W) + self.b\n",
    "        return out\n",
    "    \n",
    "    def backward(self, dout):\n",
    "        dx = np.dot(dout, self.W.T)\n",
    "        self.dW = np.dot(self.x.T, dout)\n",
    "        self.db = np.sum(dout, axis=0)\n",
    "        return dx"
   ]
  },
  {
   "cell_type": "markdown",
   "id": "0a47313e",
   "metadata": {},
   "source": [
    "## Softmax-with-Lossレイヤ"
   ]
  },
  {
   "cell_type": "markdown",
   "id": "833c170b",
   "metadata": {},
   "source": [
    "ここでは、交差エントロピー誤差も含めて実装する。"
   ]
  },
  {
   "cell_type": "markdown",
   "id": "1ebc01e6",
   "metadata": {},
   "source": [
    "![画像を表示できません。](image2.jpeg)"
   ]
  },
  {
   "cell_type": "markdown",
   "id": "0f4cc7b0",
   "metadata": {},
   "source": [
    "分類問題において<br>\n",
    "「**ソフトマックス関数**」の損失関数に「**交差エントロピー誤差**」を用いると、逆伝播が $(y_1-t_1, \\quad y_2-t_2, \\quad y_3-t_3)$ とキレイな結果になる。<br><br>\n",
    "回帰問題において<br>\n",
    "「**恒等関数**」の損失関数に「**二乗和誤差**」を用いると、逆伝播が $(y_1-t_1,\\quad  y_2-t_2, \\quad y_3-t_3)$ とキレイな結果になる。<br><br>\n",
    "これらは偶然ではなく、逆伝播がキレイな値になるよう誤差関数が定義されたものである。"
   ]
  },
  {
   "cell_type": "code",
   "execution_count": 13,
   "id": "b23aa38c",
   "metadata": {},
   "outputs": [],
   "source": [
    "def softmax(x):\n",
    "    x = x - np.max(x, axis=-1, keepdims=True)   # オーバーフロー対策\n",
    "    return np.exp(x) / np.sum(np.exp(x), axis=-1, keepdims=True)\n",
    "\n",
    "def cross_entropy_error(y, t):\n",
    "    if y.ndim == 1:\n",
    "        t = t.reshape(1, t.size)\n",
    "        y = y.reshape(1, y.size)\n",
    "        \n",
    "    # 教師データがone-hot-vectorの場合、正解ラベルのインデックスに変換\n",
    "    if t.size == y.size:\n",
    "        t = t.argmax(axis=1)\n",
    "             \n",
    "    batch_size = y.shape[0]\n",
    "    return -np.sum(np.log(y[np.arange(batch_size), t] + 1e-7)) / batch_size"
   ]
  },
  {
   "cell_type": "code",
   "execution_count": 7,
   "id": "37bb2ec7",
   "metadata": {},
   "outputs": [],
   "source": [
    "class SoftmaxWithLoss:\n",
    "    def __init__(self):\n",
    "        self.loss = None\n",
    "        self.y = None\n",
    "        self.t = None\n",
    "        \n",
    "    def forward(self, x, t):\n",
    "        self.t = t\n",
    "        self.y = softmax(x)\n",
    "        self.loss = cross_entropy_error(self.y, self.t)\n",
    "        return self.loss\n",
    "    \n",
    "    def backward(self, dout=1):\n",
    "        batch_size = self.t.shape[0]\n",
    "        dx = (self.y - self.t) / batch_size\n",
    "        return dx"
   ]
  },
  {
   "cell_type": "markdown",
   "id": "3b9e1f70",
   "metadata": {},
   "source": [
    "教師ラベル：$(0, 1, 0)$<br>\n",
    "1. Softmaxレイヤの出力：$(0.3, 0.2, 0.5)$<br>\n",
    "$(0.3, -0.8, 0.5)$という大きな誤差を伝播するため、これより前のレイヤが学習する内容は大きくなる。<br><br>\n",
    "2. Softmaxレイヤの出力：$(0.01, 0.99, 0)$<br>\n",
    "$(0.01, -0.01, 0)$という小さな誤差を伝播するため、これより前のレイヤが学習する内容は大きくなる。<br><br>\n",
    "誤差の大きさによって、学習する量が変わるところが特徴。"
   ]
  },
  {
   "cell_type": "markdown",
   "id": "15e24b1e",
   "metadata": {},
   "source": [
    "# 誤差逆伝播法"
   ]
  },
  {
   "cell_type": "markdown",
   "id": "8651a1dd",
   "metadata": {},
   "source": [
    "レイヤを組み合わせることで、ニューラルネットワークを構築できる。"
   ]
  },
  {
   "cell_type": "markdown",
   "id": "3ab72c9f",
   "metadata": {},
   "source": [
    "**ニューラルネットワークの全体像**\n",
    ">1. ミニバッチ<br>\n",
    ">訓練データの中からランダムに一部のデータを選び出す。<br><br>\n",
    ">2. 勾配の算出（**誤差逆伝播法が活躍**）<br>\n",
    ">各重みパラメータに関する損失関数の勾配を求める。<br><br>\n",
    ">3. パラメータの更新<br>\n",
    ">重みパラメータを勾配方向に微少量だけ更新する。<br><br>\n",
    ">4. 繰り返し<br>\n",
    ">1〜3を繰り返す。"
   ]
  },
  {
   "cell_type": "markdown",
   "id": "62d624d7",
   "metadata": {},
   "source": [
    "**TwoLayerNetクラスのメソッド**\n",
    "\n",
    "| メソッド | 説明 | 引数 |\n",
    "|:------|:----|:----|\n",
    "| `init(self, input_size, hidden_size, output_size)` |初期化|入力ニューロン数, 中間ニューロン数, 出力ニューロン数|\n",
    "| `predict(self, x)` |認識（推論）|画像データ|\n",
    "| `loss(self, x, t`) |損失関数|画像データ, 正解ラベル|\n",
    "| `accuracy(self, x, t)` |認識精度|画像データ, 正解ラベル|\n",
    "| `numerical_gradient(self, x, t)` |重みパラメータに対する勾配を求める|画像データ, 正解ラベル|\n",
    "| `gradient(self, x, t)` |誤差逆伝播法|画像データ, 正解ラベル|"
   ]
  },
  {
   "cell_type": "code",
   "execution_count": 20,
   "id": "24320407",
   "metadata": {},
   "outputs": [],
   "source": [
    "import numpy as np\n",
    "from collections import OrderedDict\n",
    "\n",
    "def numerical_gradient(f, x):\n",
    "    h = 1e-4\n",
    "    grad = np.zeros_like(x)\n",
    "    \n",
    "    it = np.nditer(x, flags=['multi_index'], op_flags=['readwrite'])\n",
    "    while not it.finished:\n",
    "        idx = it.multi_index\n",
    "        tmp_val = x[idx]\n",
    "        x[idx] = tmp_val + h\n",
    "        fxh1 = f(x) # f(x+h)\n",
    "        \n",
    "        x[idx] = tmp_val - h \n",
    "        fxh2 = f(x) # f(x-h)\n",
    "        grad[idx] = (fxh1 - fxh2) / (2*h)\n",
    "        \n",
    "        x[idx] = tmp_val # 値を元に戻す\n",
    "        it.iternext()   \n",
    "        \n",
    "    return grad"
   ]
  },
  {
   "cell_type": "code",
   "execution_count": 9,
   "id": "0a9230e6",
   "metadata": {},
   "outputs": [],
   "source": [
    "class TwoLayerNet:\n",
    "\n",
    "    def __init__(self, input_size, hidden_size, output_size, weight_init_std = 0.01):\n",
    "        # 重みの初期化\n",
    "        self.params = {}\n",
    "        self.params['W1'] = weight_init_std * np.random.randn(input_size, hidden_size)\n",
    "        self.params['b1'] = np.zeros(hidden_size)\n",
    "        self.params['W2'] = weight_init_std * np.random.randn(hidden_size, output_size) \n",
    "        self.params['b2'] = np.zeros(output_size)\n",
    "\n",
    "        # レイヤの生成\n",
    "        self.layers = OrderedDict()\n",
    "        self.layers['Affine1'] = Affine(self.params['W1'], self.params['b1'])\n",
    "        self.layers['Relu1'] = Relu()\n",
    "        self.layers['Affine2'] = Affine(self.params['W2'], self.params['b2'])\n",
    "\n",
    "        self.lastLayer = SoftmaxWithLoss()\n",
    "        \n",
    "    def predict(self, x):\n",
    "        for layer in self.layers.values():\n",
    "            x = layer.forward(x)\n",
    "        \n",
    "        return x\n",
    "        \n",
    "    # x:入力データ, t:教師データ\n",
    "    def loss(self, x, t):\n",
    "        y = self.predict(x)\n",
    "        return self.lastLayer.forward(y, t)\n",
    "    \n",
    "    def accuracy(self, x, t):\n",
    "        y = self.predict(x)\n",
    "        y = np.argmax(y, axis=1)\n",
    "        if t.ndim != 1 : t = np.argmax(t, axis=1)\n",
    "        \n",
    "        accuracy = np.sum(y == t) / float(x.shape[0])\n",
    "        return accuracy\n",
    "        \n",
    "    # x:入力データ, t:教師データ\n",
    "    def numerical_gradient(self, x, t):\n",
    "        loss_W = lambda W: self.loss(x, t)\n",
    "        \n",
    "        grads = {}\n",
    "        grads['W1'] = numerical_gradient(loss_W, self.params['W1'])\n",
    "        grads['b1'] = numerical_gradient(loss_W, self.params['b1'])\n",
    "        grads['W2'] = numerical_gradient(loss_W, self.params['W2'])\n",
    "        grads['b2'] = numerical_gradient(loss_W, self.params['b2'])\n",
    "        \n",
    "        return grads\n",
    "        \n",
    "    def gradient(self, x, t):\n",
    "        # forward\n",
    "        self.loss(x, t)\n",
    "\n",
    "        # backward\n",
    "        dout = 1\n",
    "        dout = self.lastLayer.backward(dout)\n",
    "        \n",
    "        layers = list(self.layers.values())\n",
    "        layers.reverse()\n",
    "        for layer in layers:\n",
    "            dout = layer.backward(dout)\n",
    "\n",
    "        # 設定\n",
    "        grads = {}\n",
    "        grads['W1'], grads['b1'] = self.layers['Affine1'].dW, self.layers['Affine1'].db\n",
    "        grads['W2'], grads['b2'] = self.layers['Affine2'].dW, self.layers['Affine2'].db\n",
    "\n",
    "        return grads"
   ]
  },
  {
   "cell_type": "markdown",
   "id": "88648310",
   "metadata": {},
   "source": [
    "## 勾配確認"
   ]
  },
  {
   "cell_type": "code",
   "execution_count": 14,
   "id": "9126e711",
   "metadata": {},
   "outputs": [
    {
     "name": "stdout",
     "output_type": "stream",
     "text": [
      "W1:5.836673595936918e-10\n",
      "b1:2.7897869176655814e-09\n",
      "W2:7.1059361108538524e-09\n",
      "b2:1.4060401403725998e-07\n"
     ]
    }
   ],
   "source": [
    "from mnist import load_mnist\n",
    "\n",
    "# データの読み込み\n",
    "(x_train, t_train), (x_test, t_test) = load_mnist(normalize=True, one_hot_label=True)\n",
    "\n",
    "network = TwoLayerNet(input_size=784, hidden_size=50, output_size=10)\n",
    "\n",
    "x_batch = x_train[:3]\n",
    "t_batch = t_train[:3]\n",
    "\n",
    "grad_numerical = network.numerical_gradient(x_batch, t_batch)\n",
    "grad_backprop = network.gradient(x_batch, t_batch)\n",
    "\n",
    "# 各重みの絶対誤差の平均を求める\n",
    "for key in grad_numerical.keys():\n",
    "    diff = np.average( np.abs(grad_backprop[key] - grad_numerical[key]) )\n",
    "    print(key + \":\" + str(diff))"
   ]
  },
  {
   "cell_type": "markdown",
   "id": "21dd11ea",
   "metadata": {},
   "source": [
    "数値微分と誤差逆伝播法でそれぞれ求めた勾配の差はかなり小さいことから、誤差逆伝播法の実装に誤りがないことになる。<br>\n",
    "（コンピュータでは、有限の精度で計算（例えば32ビットの浮動小数点）が行われるため、誤差は0にならない。）"
   ]
  },
  {
   "cell_type": "markdown",
   "id": "24c527da",
   "metadata": {},
   "source": [
    "## 実装"
   ]
  },
  {
   "cell_type": "code",
   "execution_count": 17,
   "id": "58422089",
   "metadata": {},
   "outputs": [
    {
     "name": "stdout",
     "output_type": "stream",
     "text": [
      "train acc, test acc | 0.08235, 0.0837\n",
      "train acc, test acc | 0.9037166666666666, 0.9033\n",
      "train acc, test acc | 0.9223, 0.9224\n",
      "train acc, test acc | 0.9371333333333334, 0.9359\n",
      "train acc, test acc | 0.9449666666666666, 0.941\n",
      "train acc, test acc | 0.95195, 0.9491\n",
      "train acc, test acc | 0.9569833333333333, 0.9524\n",
      "train acc, test acc | 0.96135, 0.9565\n",
      "train acc, test acc | 0.9642833333333334, 0.9571\n",
      "train acc, test acc | 0.9664166666666667, 0.9608\n",
      "train acc, test acc | 0.9691166666666666, 0.9638\n",
      "train acc, test acc | 0.9722, 0.9655\n",
      "train acc, test acc | 0.97325, 0.9672\n",
      "train acc, test acc | 0.9749833333333333, 0.9661\n",
      "train acc, test acc | 0.9762833333333333, 0.9678\n",
      "train acc, test acc | 0.97735, 0.9685\n",
      "train acc, test acc | 0.97905, 0.9699\n",
      "Done\n"
     ]
    }
   ],
   "source": [
    "# データの読み込み\n",
    "(x_train, t_train), (x_test, t_test) = load_mnist(normalize=True, one_hot_label=True)\n",
    "\n",
    "network = TwoLayerNet(input_size=784, hidden_size=50, output_size=10)\n",
    "\n",
    "iters_num = 10000\n",
    "train_size = x_train.shape[0]\n",
    "batch_size = 100\n",
    "learning_rate = 0.1\n",
    "\n",
    "train_loss_list = []\n",
    "train_acc_list = []\n",
    "test_acc_list = []\n",
    "\n",
    "iter_per_epoch = max(train_size / batch_size, 1)\n",
    "\n",
    "for i in range(iters_num):\n",
    "    batch_mask = np.random.choice(train_size, batch_size)\n",
    "    x_batch = x_train[batch_mask]\n",
    "    t_batch = t_train[batch_mask]\n",
    "    \n",
    "    # 勾配\n",
    "    #grad = network.numerical_gradient(x_batch, t_batch)\n",
    "    grad = network.gradient(x_batch, t_batch)\n",
    "    \n",
    "    # 更新\n",
    "    for key in ('W1', 'b1', 'W2', 'b2'):\n",
    "        network.params[key] -= learning_rate * grad[key]\n",
    "    \n",
    "    loss = network.loss(x_batch, t_batch)\n",
    "    train_loss_list.append(loss)\n",
    "    \n",
    "    if i % iter_per_epoch == 0:\n",
    "        train_acc = network.accuracy(x_train, t_train)\n",
    "        test_acc = network.accuracy(x_test, t_test)\n",
    "        train_acc_list.append(train_acc)\n",
    "        test_acc_list.append(test_acc)\n",
    "        print(\"train acc, test acc | \" + str(train_acc) + \", \" + str(test_acc))\n",
    "        \n",
    "print(\"Done\")"
   ]
  },
  {
   "cell_type": "code",
   "execution_count": 19,
   "id": "b6e0d9b6",
   "metadata": {},
   "outputs": [
    {
     "data": {
      "image/png": "[encoded data removed]",
      "text/plain": [
       "<Figure size 432x288 with 1 Axes>"
      ]
     },
     "metadata": {
      "needs_background": "light"
     },
     "output_type": "display_data"
    }
   ],
   "source": [
    "import matplotlib.pyplot as plt\n",
    "\n",
    "# グラフの描画\n",
    "markers = {'train': 'o', 'test': 's'}\n",
    "x = np.arange(len(train_acc_list))\n",
    "plt.plot(x, train_acc_list, label='train acc')\n",
    "plt.plot(x, test_acc_list, label='test acc', linestyle='--')\n",
    "plt.xlabel(\"epochs\")\n",
    "plt.ylabel(\"accuracy\")\n",
    "plt.ylim(0, 1.0)\n",
    "plt.legend(loc='lower right')\n",
    "plt.show()"
   ]
  },
  {
   "cell_type": "markdown",
   "id": "50d1b741",
   "metadata": {},
   "source": [
    "エポックが進むにつれて、認識精度は向上している。<br>\n",
    "また訓練データとテストデータの精度には差がほとんどなく、過学習が起きていない。"
   ]
  },
  {
   "cell_type": "code",
   "execution_count": null,
   "id": "8beda50c",
   "metadata": {},
   "outputs": [],
   "source": []
  }
 ],
 "metadata": {
  "kernelspec": {
   "display_name": "Python 3",
   "language": "python",
   "name": "python3"
  },
  "language_info": {
   "codemirror_mode": {
    "name": "ipython",
    "version": 3
   },
   "file_extension": ".py",
   "mimetype": "text/x-python",
   "name": "python",
   "nbconvert_exporter": "python",
   "pygments_lexer": "ipython3",
   "version": "3.8.8"
  },
  "toc": {
   "base_numbering": 1,
   "nav_menu": {},
   "number_sections": true,
   "sideBar": true,
   "skip_h1_title": false,
   "title_cell": "Table of Contents",
   "title_sidebar": "Contents",
   "toc_cell": false,
   "toc_position": {
    "height": "820px",
    "left": "97px",
    "top": "164px",
    "width": "288px"
   },
   "toc_section_display": true,
   "toc_window_display": true
  }
 },
 "nbformat": 4,
 "nbformat_minor": 5
}
