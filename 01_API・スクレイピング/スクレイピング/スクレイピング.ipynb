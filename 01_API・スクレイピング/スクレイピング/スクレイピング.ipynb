{
 "cells": [
  {
   "cell_type": "markdown",
   "id": "a6ad5840",
   "metadata": {},
   "source": [
    "# スクレイピングとは"
   ]
  },
  {
   "cell_type": "markdown",
   "id": "9e3ff0ba",
   "metadata": {},
   "source": [
    "ウェブページに記載されている情報の中から，必要部分だけを自動抽出すること。Web スクレイピング。Web スクレーピング。"
   ]
  },
  {
   "cell_type": "markdown",
   "id": "3841bbf7",
   "metadata": {},
   "source": [
    "## スクレイピングの流れ"
   ]
  },
  {
   "cell_type": "markdown",
   "id": "e521c65a",
   "metadata": {},
   "source": [
    "1. スクレイピングが禁止されていないか確認する\n",
    "1. 小さく情報取得してみる\n",
    "    1. `requests`でHTMLを取得する\n",
    "    1. 取得したいHTMLを解析する(`BeautifulSoup`)\n",
    "    1. 欲しい情報を取得する\n",
    "1. forループする\n",
    "1. 出力する"
   ]
  },
  {
   "cell_type": "markdown",
   "id": "dd6aacc4",
   "metadata": {},
   "source": [
    "## 基本構文"
   ]
  },
  {
   "cell_type": "markdown",
   "id": "ff666163",
   "metadata": {},
   "source": [
    "- `requests.get('URL')`でHTMLを取得する\n",
    "- `find_all(タグ名,class_='クラス名')`で全てのタグ情報をクラス付きで指定する。"
   ]
  },
  {
   "cell_type": "markdown",
   "id": "43c4e98b",
   "metadata": {},
   "source": [
    "# suumoの情報を小さく取得する"
   ]
  },
  {
   "cell_type": "markdown",
   "id": "4961a679",
   "metadata": {},
   "source": [
    "## `requests`でURLにアクセスする"
   ]
  },
  {
   "cell_type": "markdown",
   "id": "5d5c1b20",
   "metadata": {},
   "source": [
    "ライブラリをインポートする。"
   ]
  },
  {
   "cell_type": "code",
   "execution_count": 1,
   "id": "da35ac73",
   "metadata": {},
   "outputs": [],
   "source": [
    "from bs4 import BeautifulSoup\n",
    "import requests"
   ]
  },
  {
   "cell_type": "markdown",
   "id": "ab46e95e",
   "metadata": {},
   "source": [
    "URLを指定する。"
   ]
  },
  {
   "cell_type": "code",
   "execution_count": 3,
   "id": "2d1e6198",
   "metadata": {},
   "outputs": [
    {
     "name": "stdout",
     "output_type": "stream",
     "text": [
      "https://suumo.jp/chintai/tokyo/sc_shinjuku/?page=1\n"
     ]
    }
   ],
   "source": [
    "url = 'https://suumo.jp/chintai/tokyo/sc_shinjuku/?page={}'\n",
    "target_url = url.format(1)\n",
    "print(target_url)"
   ]
  },
  {
   "cell_type": "code",
   "execution_count": 3,
   "id": "0e591624",
   "metadata": {},
   "outputs": [],
   "source": [
    "r = requests.get(target_url)\n",
    "soup = BeautifulSoup(r.text)"
   ]
  },
  {
   "cell_type": "markdown",
   "id": "7309ac94",
   "metadata": {},
   "source": [
    "## `soup`から情報を抽出する"
   ]
  },
  {
   "cell_type": "markdown",
   "id": "ab265f20",
   "metadata": {},
   "source": [
    "`find_all(タグ名,class_='')`で全てのタグ情報をクラス付きで指定する。"
   ]
  },
  {
   "cell_type": "code",
   "execution_count": 4,
   "id": "dd20cfdb",
   "metadata": {},
   "outputs": [],
   "source": [
    "#cassetteクラスを持ったdivタグをすべて取得\n",
    "contents = soup.find_all('div',class_='cassetteitem')"
   ]
  },
  {
   "cell_type": "markdown",
   "id": "8a2f2bc5",
   "metadata": {},
   "source": [
    "`find_all()`で取得した情報はリスト形式。`len()`で要素数を確認する。"
   ]
  },
  {
   "cell_type": "code",
   "execution_count": 5,
   "id": "0b3eb175",
   "metadata": {
    "scrolled": true
   },
   "outputs": [
    {
     "data": {
      "text/plain": [
       "20"
      ]
     },
     "execution_count": 5,
     "metadata": {},
     "output_type": "execute_result"
    }
   ],
   "source": [
    "len(contents)"
   ]
  },
  {
   "cell_type": "markdown",
   "id": "ed09d705",
   "metadata": {},
   "source": [
    "`content`に最初の要素を格納する。"
   ]
  },
  {
   "cell_type": "code",
   "execution_count": 6,
   "id": "c39cce5b",
   "metadata": {},
   "outputs": [],
   "source": [
    "content = contents[0]"
   ]
  },
  {
   "cell_type": "markdown",
   "id": "fb7e4249",
   "metadata": {},
   "source": [
    "以下の項目を取得する。\n",
    "\n",
    "- 物件情報\n",
    "    - 物件名\n",
    "    - 住所\n",
    "    - アクセス\n",
    "    - 築年数\n",
    "- 部屋情報\n",
    "    - 階数\n",
    "    - 賃料・管理費\n",
    "    - 敷金・礼金\n",
    "    - 間取り・面積"
   ]
  },
  {
   "cell_type": "markdown",
   "id": "a4758a88",
   "metadata": {},
   "source": [
    "### 物件情報・部屋情報が入ったブロックを取得する"
   ]
  },
  {
   "cell_type": "code",
   "execution_count": 7,
   "id": "56e6010e",
   "metadata": {},
   "outputs": [],
   "source": [
    "#物件情報を変数detailに格納する\n",
    "detail = content.find('div',class_='cassetteitem-detail')\n",
    "#物件情報を変数detailに格納する\n",
    "table = content.find('table',class_='cassetteitem_other')"
   ]
  },
  {
   "cell_type": "markdown",
   "id": "8b2c761d",
   "metadata": {},
   "source": [
    "### 物件情報を抽出する"
   ]
  },
  {
   "cell_type": "code",
   "execution_count": 8,
   "id": "d9b85d58",
   "metadata": {},
   "outputs": [],
   "source": [
    "#物件名を変数titleに格納する\n",
    "title = detail.find('div',class_='cassetteitem_content-title').text\n",
    "#住所を変数addressに格納する\n",
    "address = detail.find('li',class_='cassetteitem_detail-col1').text\n",
    "#アクセスを変数accessに格納する\n",
    "access = detail.find('li',class_='cassetteitem_detail-col2').text\n",
    "#築年数を変数ageに格納する\n",
    "age = detail.find('li',class_='cassetteitem_detail-col3').text"
   ]
  },
  {
   "cell_type": "markdown",
   "id": "06348570",
   "metadata": {},
   "source": [
    "中身を確認する。"
   ]
  },
  {
   "cell_type": "code",
   "execution_count": 9,
   "id": "22cf9fab",
   "metadata": {},
   "outputs": [
    {
     "data": {
      "text/plain": [
       "('西新宿戸建',\n",
       " '東京都新宿区西新宿４',\n",
       " '\\n都営大江戸線/西新宿五丁目駅 歩6分\\n都営大江戸線/都庁前駅 歩12分\\n京王新線/初台駅 歩12分\\n',\n",
       " '\\n築26年\\n地下1地上3階建\\n')"
      ]
     },
     "execution_count": 9,
     "metadata": {},
     "output_type": "execute_result"
    }
   ],
   "source": [
    "title,address,access,age"
   ]
  },
  {
   "cell_type": "markdown",
   "id": "1862fc8b",
   "metadata": {},
   "source": [
    "### 部屋情報を抽出する"
   ]
  },
  {
   "cell_type": "markdown",
   "id": "3d17a844",
   "metadata": {},
   "source": [
    "`<tr>`はtable rowの略で`<table>`タグの行（横一列）のこと。複数の`<tr>`タグを抽出し、ここでは最初の1つを取得する。"
   ]
  },
  {
   "cell_type": "code",
   "execution_count": 10,
   "id": "812e9974",
   "metadata": {},
   "outputs": [],
   "source": [
    "#全ての<tr>タグを変数tr_tagsに格納する\n",
    "tr_tags = table.find_all('tr',class_='js-cassette_link')\n",
    "#tr_tagsの中から最初の1つだけtr_tagに格納する\n",
    "tr_tag = tr_tags[0]"
   ]
  },
  {
   "cell_type": "markdown",
   "id": "8a11b04b",
   "metadata": {},
   "source": [
    "`<tr>`は9つの`<td>`で構成されている。欲しい部屋情報は3〜6番目の`<td>`に入っている。"
   ]
  },
  {
   "cell_type": "markdown",
   "id": "467dafb4",
   "metadata": {},
   "source": [
    "~~~python\n",
    "#unpackと呼ばれる操作\n",
    "\n",
    "list = [1, 2, 3, 4, 5]\n",
    "a, b = list[2:4]\n",
    "print(a, b)\n",
    "\n",
    ">>> 3, 4\n",
    "~~~"
   ]
  },
  {
   "cell_type": "code",
   "execution_count": 11,
   "id": "77686a4f",
   "metadata": {},
   "outputs": [],
   "source": [
    "#floor、price、first_fee、capacityに4つの情報を格納する\n",
    "floor,price,first_fee,capacity = tr_tag.find_all('td')[2:6]"
   ]
  },
  {
   "cell_type": "markdown",
   "id": "13a5460f",
   "metadata": {},
   "source": [
    "中身を確認する。"
   ]
  },
  {
   "cell_type": "code",
   "execution_count": 12,
   "id": "6680a2d1",
   "metadata": {},
   "outputs": [
    {
     "data": {
      "text/plain": [
       "(<td>\n",
       " \t\t\t\t\t\t\t\t\t\t\t1-3階</td>,\n",
       " <td>\n",
       " <ul>\n",
       " <li><span class=\"cassetteitem_price cassetteitem_price--rent\"><span class=\"cassetteitem_other-emphasis ui-text--bold\">48万円</span></span></li>\n",
       " <li><span class=\"cassetteitem_price cassetteitem_price--administration\">-</span></li>\n",
       " </ul>\n",
       " </td>,\n",
       " <td>\n",
       " <ul>\n",
       " <li><span class=\"cassetteitem_price cassetteitem_price--deposit\">48万円</span></li>\n",
       " <li><span class=\"cassetteitem_price cassetteitem_price--gratuity\">24万円</span></li>\n",
       " </ul>\n",
       " </td>,\n",
       " <td>\n",
       " <ul>\n",
       " <li><span class=\"cassetteitem_madori\">7LDK</span></li>\n",
       " <li><span class=\"cassetteitem_menseki\">130.47m<sup>2</sup></span></li>\n",
       " </ul>\n",
       " </td>)"
      ]
     },
     "execution_count": 12,
     "metadata": {},
     "output_type": "execute_result"
    }
   ],
   "source": [
    "floor,price,first_fee,capacity"
   ]
  },
  {
   "cell_type": "markdown",
   "id": "94f101d8",
   "metadata": {},
   "source": [
    "それぞれの変数に分割する。"
   ]
  },
  {
   "cell_type": "code",
   "execution_count": 13,
   "id": "3f188140",
   "metadata": {},
   "outputs": [],
   "source": [
    "#賃料と管理費を変数feeとmanagement_feeに格納する\n",
    "fee,management_fee = price.find_all('li')\n",
    "#敷金と礼金を変数depositとgratuityに格納する\n",
    "deposit,gratuity = first_fee.find_all('li')\n",
    "#間取りと面積を変数floor_planとareaに格納する\n",
    "floor_plan,area = capacity.find_all('li')"
   ]
  },
  {
   "cell_type": "markdown",
   "id": "5e2aeac2",
   "metadata": {},
   "source": [
    "中身を確認する。"
   ]
  },
  {
   "cell_type": "code",
   "execution_count": 14,
   "id": "95a3d00b",
   "metadata": {},
   "outputs": [
    {
     "name": "stdout",
     "output_type": "stream",
     "text": [
      "<td>\r\n",
      "\t\t\t\t\t\t\t\t\t\t\t1-3階</td>\n",
      "<li><span class=\"cassetteitem_price cassetteitem_price--rent\"><span class=\"cassetteitem_other-emphasis ui-text--bold\">48万円</span></span></li>\n",
      "<li><span class=\"cassetteitem_price cassetteitem_price--administration\">-</span></li>\n",
      "<li><span class=\"cassetteitem_price cassetteitem_price--deposit\">48万円</span></li>\n",
      "<li><span class=\"cassetteitem_price cassetteitem_price--gratuity\">24万円</span></li>\n",
      "<li><span class=\"cassetteitem_madori\">7LDK</span></li>\n",
      "<li><span class=\"cassetteitem_menseki\">130.47m<sup>2</sup></span></li>\n"
     ]
    }
   ],
   "source": [
    "print(floor)\n",
    "print(fee)\n",
    "print(management_fee)\n",
    "print(deposit)\n",
    "print(gratuity)\n",
    "print(floor_plan)\n",
    "print(area)"
   ]
  },
  {
   "cell_type": "markdown",
   "id": "f09e7b81",
   "metadata": {},
   "source": [
    "## 情報を辞書に格納する"
   ]
  },
  {
   "cell_type": "markdown",
   "id": "174c3551",
   "metadata": {},
   "source": [
    "変数dに、11項目を格納する。必要に応じて`.text`をつける。"
   ]
  },
  {
   "cell_type": "code",
   "execution_count": 15,
   "id": "aec408c6",
   "metadata": {},
   "outputs": [],
   "source": [
    "d = {\n",
    "    'title':title,\n",
    "    'address':address,\n",
    "    'access':access,\n",
    "    'age':age,\n",
    "    'floor':floor.text,\n",
    "    'fee':fee.text,\n",
    "    'management_fee':management_fee.text,\n",
    "    'deposit':deposit.text,\n",
    "    'gratuity':gratuity.text,\n",
    "    'floor_plan':floor_plan.text,\n",
    "    'area':area.text\n",
    "}"
   ]
  },
  {
   "cell_type": "markdown",
   "id": "35250609",
   "metadata": {},
   "source": [
    "中身を確認する。"
   ]
  },
  {
   "cell_type": "code",
   "execution_count": 16,
   "id": "6614789e",
   "metadata": {},
   "outputs": [
    {
     "data": {
      "text/plain": [
       "{'title': '西新宿戸建',\n",
       " 'address': '東京都新宿区西新宿４',\n",
       " 'access': '\\n都営大江戸線/西新宿五丁目駅 歩6分\\n都営大江戸線/都庁前駅 歩12分\\n京王新線/初台駅 歩12分\\n',\n",
       " 'age': '\\n築26年\\n地下1地上3階建\\n',\n",
       " 'floor': '\\r\\n\\t\\t\\t\\t\\t\\t\\t\\t\\t\\t\\t1-3階',\n",
       " 'fee': '48万円',\n",
       " 'management_fee': '-',\n",
       " 'deposit': '48万円',\n",
       " 'gratuity': '24万円',\n",
       " 'floor_plan': '7LDK',\n",
       " 'area': '130.47m2'}"
      ]
     },
     "execution_count": 16,
     "metadata": {},
     "output_type": "execute_result"
    }
   ],
   "source": [
    "d"
   ]
  },
  {
   "cell_type": "markdown",
   "id": "b84ff49e",
   "metadata": {},
   "source": [
    "# 1ページ目の全ての情報を取得する"
   ]
  },
  {
   "cell_type": "code",
   "execution_count": 17,
   "id": "95768f1c",
   "metadata": {},
   "outputs": [],
   "source": [
    "#変数d_listに空のリストを作成する\n",
    "d_list = []\n",
    "\n",
    "#cassetteクラスを持ったdivタグをすべて取得\n",
    "contents = soup.find_all('div',class_='cassetteitem')\n",
    "\n",
    "#全ての物件情報をforループで取得する\n",
    "for content in contents:\n",
    "    \n",
    "    #物件情報と部屋情報を取得する\n",
    "    detail = content.find('div',class_='cassetteitem-detail')\n",
    "    table = content.find('table',class_='cassetteitem_other')\n",
    "    \n",
    "    #物件情報から必要な情報を取得する\n",
    "    title = detail.find('div',class_='cassetteitem_content-title').text\n",
    "    address = detail.find('li',class_='cassetteitem_detail-col1').text\n",
    "    access = detail.find('li',class_='cassetteitem_detail-col2').text\n",
    "    age = detail.find('li',class_='cassetteitem_detail-col3').text\n",
    "    \n",
    "    #部屋情報のブロックから、各部屋情報を取得する\n",
    "    tr_tags = table.find_all('tr',class_='js-cassette_link')\n",
    "    \n",
    "    #各部屋情報をforループで取得する\n",
    "    for tr_tag in tr_tags:\n",
    "        \n",
    "        #欲しい情報を取得する\n",
    "        floor,price,first_fee,capacity = tr_tag.find_all('td')[2:6]\n",
    "        \n",
    "        #さらに細かい情報を取得する\n",
    "        fee,management_fee = price.find_all('li')\n",
    "        deposit,gratuity = first_fee.find_all('li')\n",
    "        floor_plan,area = capacity.find_all('li')\n",
    "        \n",
    "        #取得した全ての情報を辞書に格納する\n",
    "        d = {\n",
    "            'title':title,\n",
    "            'address':address,\n",
    "            'access':access,\n",
    "            'age':age,\n",
    "            'floor':floor.text,\n",
    "            'fee':fee.text,\n",
    "            'management_fee':management_fee.text,\n",
    "            'deposit':deposit.text,\n",
    "            'gratuity':gratuity.text,\n",
    "            'floor_plan':floor_plan.text,\n",
    "            'area':area.text\n",
    "        }\n",
    "        \n",
    "        #取得した辞書をd_listに格納する\n",
    "        d_list.append(d)"
   ]
  },
  {
   "cell_type": "markdown",
   "id": "6c77b13e",
   "metadata": {},
   "source": [
    "中身の最初の2件を確認する。体裁を綺麗にしたまま表示できる`pprint()`を使うと便利。"
   ]
  },
  {
   "cell_type": "code",
   "execution_count": 18,
   "id": "c555378e",
   "metadata": {},
   "outputs": [
    {
     "name": "stdout",
     "output_type": "stream",
     "text": [
      "{'access': '\\n都営大江戸線/西新宿五丁目駅 歩6分\\n都営大江戸線/都庁前駅 歩12分\\n京王新線/初台駅 歩12分\\n',\n",
      " 'address': '東京都新宿区西新宿４',\n",
      " 'age': '\\n築26年\\n地下1地上3階建\\n',\n",
      " 'area': '130.47m2',\n",
      " 'deposit': '48万円',\n",
      " 'fee': '48万円',\n",
      " 'floor': '\\r\\n\\t\\t\\t\\t\\t\\t\\t\\t\\t\\t\\t1-3階',\n",
      " 'floor_plan': '7LDK',\n",
      " 'gratuity': '24万円',\n",
      " 'management_fee': '-',\n",
      " 'title': '西新宿戸建'}\n",
      "\n",
      "{'access': '\\n都営大江戸線/西新宿五丁目駅 歩6分\\n都営大江戸線/都庁前駅 歩12分\\n京王新線/初台駅 歩12分\\n',\n",
      " 'address': '東京都新宿区西新宿４',\n",
      " 'age': '\\n築26年\\n地下1地上3階建\\n',\n",
      " 'area': '130.47m2',\n",
      " 'deposit': '48万円',\n",
      " 'fee': '48万円',\n",
      " 'floor': '\\r\\n\\t\\t\\t\\t\\t\\t\\t\\t\\t\\t\\t-',\n",
      " 'floor_plan': '7LDK',\n",
      " 'gratuity': '24万円',\n",
      " 'management_fee': '-',\n",
      " 'title': '西新宿戸建'}\n"
     ]
    }
   ],
   "source": [
    "from pprint import pprint\n",
    "pprint(d_list[0])\n",
    "print() #空白一行を作る\n",
    "pprint(d_list[1])"
   ]
  },
  {
   "cell_type": "markdown",
   "id": "210809d1",
   "metadata": {},
   "source": [
    "# 複数ページの全ての情報を取得する"
   ]
  },
  {
   "cell_type": "markdown",
   "id": "c327532e",
   "metadata": {},
   "source": [
    "複数ページにアクセスするときはサーバーに負荷をかけすぎないようにするために、処理を一時停止する。<br>`sleep(秒数)`で指定した秒数だけ休止する。"
   ]
  },
  {
   "cell_type": "markdown",
   "id": "57388ce1",
   "metadata": {},
   "source": [
    "~~~python\n",
    "from time import sleep\n",
    "~~~"
   ]
  },
  {
   "cell_type": "markdown",
   "id": "0e8a8ca6",
   "metadata": {},
   "source": [
    "改めて頭から記述する。"
   ]
  },
  {
   "cell_type": "code",
   "execution_count": 19,
   "id": "1c1f59ac",
   "metadata": {},
   "outputs": [
    {
     "name": "stdout",
     "output_type": "stream",
     "text": [
      "d_listの大きさ: 0\n",
      "https://suumo.jp/chintai/tokyo/sc_shinjuku/?page=1\n",
      "d_listの大きさ: 227\n",
      "https://suumo.jp/chintai/tokyo/sc_shinjuku/?page=2\n",
      "d_listの大きさ: 381\n",
      "https://suumo.jp/chintai/tokyo/sc_shinjuku/?page=3\n"
     ]
    }
   ],
   "source": [
    "#ライブラリのインポート\n",
    "from time import sleep\n",
    "from bs4 import BeautifulSoup\n",
    "import requests\n",
    "\n",
    "#空のリストを作成する\n",
    "d_list = []\n",
    "\n",
    "#URLにアクセスし、HTMLを解析する\n",
    "url = 'https://suumo.jp/chintai/tokyo/sc_shinjuku/?page={}'\n",
    "#1ページ目から3ページ目まで\n",
    "for i in range(1, 4):\n",
    "    print('d_listの大きさ:',len(d_list))\n",
    "    target_url = url.format(i)\n",
    "    print(target_url)\n",
    "    r = requests.get(target_url)\n",
    "    #sleepで一時停止する\n",
    "    sleep(1)\n",
    "    soup = BeautifulSoup(r.text)\n",
    "    \n",
    "    #cassetteクラスを持ったdivタグをすべて取得\n",
    "    contents = soup.find_all('div',class_='cassetteitem')\n",
    "\n",
    "    #全ての物件情報をforループで取得する\n",
    "    for content in contents:\n",
    "    \n",
    "        #物件情報と部屋情報を取得する\n",
    "        detail = content.find('div',class_='cassetteitem-detail')\n",
    "        table = content.find('table',class_='cassetteitem_other')\n",
    "        \n",
    "        #物件情報から必要な情報を取得する\n",
    "        title = detail.find('div',class_='cassetteitem_content-title').text\n",
    "        address = detail.find('li',class_='cassetteitem_detail-col1').text\n",
    "        access = detail.find('li',class_='cassetteitem_detail-col2').text\n",
    "        age = detail.find('li',class_='cassetteitem_detail-col3').text\n",
    "        \n",
    "        #部屋情報のブロックから、各部屋情報を取得する\n",
    "        tr_tags = table.find_all('tr',class_='js-cassette_link')\n",
    "        \n",
    "        #各部屋情報をforループで取得する\n",
    "        for tr_tag in tr_tags:\n",
    "        \n",
    "            #欲しい情報を取得する\n",
    "            floor,price,first_fee,capacity = tr_tag.find_all('td')[2:6]\n",
    "        \n",
    "            #さらに細かい情報を取得する\n",
    "            fee,management_fee = price.find_all('li')\n",
    "            deposit,gratuity = first_fee.find_all('li')\n",
    "            floor_plan,area = capacity.find_all('li')\n",
    "            \n",
    "            #取得した全ての情報を辞書に格納する\n",
    "            d = {\n",
    "                'title':title,\n",
    "                'address':address,\n",
    "                'access':access,\n",
    "                'age':age,\n",
    "                'floor':floor.text,\n",
    "                'fee':fee.text,\n",
    "                'management_fee':management_fee.text,\n",
    "                'deposit':deposit.text,\n",
    "                'gratuity':gratuity.text,\n",
    "                'floor_plan':floor_plan.text,\n",
    "                'area':area.text\n",
    "            }\n",
    "        \n",
    "            #取得した辞書をd_listに格納する\n",
    "            d_list.append(d)"
   ]
  },
  {
   "cell_type": "markdown",
   "id": "466c70dc",
   "metadata": {},
   "source": [
    "最後の一件の内容を確認する。"
   ]
  },
  {
   "cell_type": "code",
   "execution_count": 20,
   "id": "cec40c08",
   "metadata": {},
   "outputs": [
    {
     "data": {
      "text/plain": [
       "{'title': 'スカイコート早稲田第２',\n",
       " 'address': '東京都新宿区若松町',\n",
       " 'access': '\\n都営大江戸線/若松河田駅 歩5分\\n東京メトロ東西線/早稲田駅 歩12分\\n都営大江戸線/東新宿駅 歩10分\\n',\n",
       " 'age': '\\n築24年\\n9階建\\n',\n",
       " 'floor': '\\r\\n\\t\\t\\t\\t\\t\\t\\t\\t\\t\\t\\t4階',\n",
       " 'fee': '7万円',\n",
       " 'management_fee': '10000円',\n",
       " 'deposit': '-',\n",
       " 'gratuity': '7万円',\n",
       " 'floor_plan': 'ワンルーム',\n",
       " 'area': '18m2'}"
      ]
     },
     "execution_count": 20,
     "metadata": {},
     "output_type": "execute_result"
    }
   ],
   "source": [
    "d_list[-1]"
   ]
  },
  {
   "cell_type": "markdown",
   "id": "00aaea77",
   "metadata": {},
   "source": [
    "# CSVファイルに出力する"
   ]
  },
  {
   "cell_type": "markdown",
   "id": "24bf69be",
   "metadata": {},
   "source": [
    "- 取得したデータを表形式にする\n",
    "- 表形式のデータをCSVに出力する"
   ]
  },
  {
   "cell_type": "markdown",
   "id": "eb63649f",
   "metadata": {},
   "source": [
    "## データを表形式にする"
   ]
  },
  {
   "cell_type": "markdown",
   "id": "9766563f",
   "metadata": {},
   "source": [
    "`pandas`でデータフレームに変換する"
   ]
  },
  {
   "cell_type": "code",
   "execution_count": 21,
   "id": "292c7d35",
   "metadata": {},
   "outputs": [
    {
     "data": {
      "text/html": [
       "<div>\n",
       "<style scoped>\n",
       "    .dataframe tbody tr th:only-of-type {\n",
       "        vertical-align: middle;\n",
       "    }\n",
       "\n",
       "    .dataframe tbody tr th {\n",
       "        vertical-align: top;\n",
       "    }\n",
       "\n",
       "    .dataframe thead th {\n",
       "        text-align: right;\n",
       "    }\n",
       "</style>\n",
       "<table border=\"1\" class=\"dataframe\">\n",
       "  <thead>\n",
       "    <tr style=\"text-align: right;\">\n",
       "      <th></th>\n",
       "      <th>title</th>\n",
       "      <th>address</th>\n",
       "      <th>access</th>\n",
       "      <th>age</th>\n",
       "      <th>floor</th>\n",
       "      <th>fee</th>\n",
       "      <th>management_fee</th>\n",
       "      <th>deposit</th>\n",
       "      <th>gratuity</th>\n",
       "      <th>floor_plan</th>\n",
       "      <th>area</th>\n",
       "    </tr>\n",
       "  </thead>\n",
       "  <tbody>\n",
       "    <tr>\n",
       "      <th>0</th>\n",
       "      <td>西新宿戸建</td>\n",
       "      <td>東京都新宿区西新宿４</td>\n",
       "      <td>\\n都営大江戸線/西新宿五丁目駅 歩6分\\n都営大江戸線/都庁前駅 歩12分\\n京王新線/初...</td>\n",
       "      <td>\\n築26年\\n地下1地上3階建\\n</td>\n",
       "      <td>\\r\\n\\t\\t\\t\\t\\t\\t\\t\\t\\t\\t\\t1-3階</td>\n",
       "      <td>48万円</td>\n",
       "      <td>-</td>\n",
       "      <td>48万円</td>\n",
       "      <td>24万円</td>\n",
       "      <td>7LDK</td>\n",
       "      <td>130.47m2</td>\n",
       "    </tr>\n",
       "    <tr>\n",
       "      <th>1</th>\n",
       "      <td>西新宿戸建</td>\n",
       "      <td>東京都新宿区西新宿４</td>\n",
       "      <td>\\n都営大江戸線/西新宿五丁目駅 歩6分\\n都営大江戸線/都庁前駅 歩12分\\n京王新線/初...</td>\n",
       "      <td>\\n築26年\\n地下1地上3階建\\n</td>\n",
       "      <td>\\r\\n\\t\\t\\t\\t\\t\\t\\t\\t\\t\\t\\t-</td>\n",
       "      <td>48万円</td>\n",
       "      <td>-</td>\n",
       "      <td>48万円</td>\n",
       "      <td>24万円</td>\n",
       "      <td>7LDK</td>\n",
       "      <td>130.47m2</td>\n",
       "    </tr>\n",
       "    <tr>\n",
       "      <th>2</th>\n",
       "      <td>パークスフィア牛込神楽坂</td>\n",
       "      <td>東京都新宿区南山伏町</td>\n",
       "      <td>\\n都営大江戸線/牛込柳町駅 歩4分\\n東京メトロ東西線/神楽坂駅 歩10分\\n都営新宿線/...</td>\n",
       "      <td>\\n新築\\n地下1地上13階建\\n</td>\n",
       "      <td>\\r\\n\\t\\t\\t\\t\\t\\t\\t\\t\\t\\t\\t2階</td>\n",
       "      <td>19.7万円</td>\n",
       "      <td>12000円</td>\n",
       "      <td>19.7万円</td>\n",
       "      <td>-</td>\n",
       "      <td>1SLDK</td>\n",
       "      <td>40.01m2</td>\n",
       "    </tr>\n",
       "    <tr>\n",
       "      <th>3</th>\n",
       "      <td>パークスフィア牛込神楽坂</td>\n",
       "      <td>東京都新宿区南山伏町</td>\n",
       "      <td>\\n都営大江戸線/牛込柳町駅 歩4分\\n東京メトロ東西線/神楽坂駅 歩10分\\n都営新宿線/...</td>\n",
       "      <td>\\n新築\\n地下1地上13階建\\n</td>\n",
       "      <td>\\r\\n\\t\\t\\t\\t\\t\\t\\t\\t\\t\\t\\t2階</td>\n",
       "      <td>19.7万円</td>\n",
       "      <td>12000円</td>\n",
       "      <td>19.7万円</td>\n",
       "      <td>-</td>\n",
       "      <td>1LDK</td>\n",
       "      <td>40.01m2</td>\n",
       "    </tr>\n",
       "    <tr>\n",
       "      <th>4</th>\n",
       "      <td>パークスフィア牛込神楽坂</td>\n",
       "      <td>東京都新宿区南山伏町</td>\n",
       "      <td>\\n都営大江戸線/牛込柳町駅 歩4分\\n東京メトロ東西線/神楽坂駅 歩10分\\n都営新宿線/...</td>\n",
       "      <td>\\n新築\\n地下1地上13階建\\n</td>\n",
       "      <td>\\r\\n\\t\\t\\t\\t\\t\\t\\t\\t\\t\\t\\t2階</td>\n",
       "      <td>19.7万円</td>\n",
       "      <td>12000円</td>\n",
       "      <td>19.7万円</td>\n",
       "      <td>-</td>\n",
       "      <td>1LDK</td>\n",
       "      <td>40.01m2</td>\n",
       "    </tr>\n",
       "  </tbody>\n",
       "</table>\n",
       "</div>"
      ],
      "text/plain": [
       "          title     address  \\\n",
       "0         西新宿戸建  東京都新宿区西新宿４   \n",
       "1         西新宿戸建  東京都新宿区西新宿４   \n",
       "2  パークスフィア牛込神楽坂  東京都新宿区南山伏町   \n",
       "3  パークスフィア牛込神楽坂  東京都新宿区南山伏町   \n",
       "4  パークスフィア牛込神楽坂  東京都新宿区南山伏町   \n",
       "\n",
       "                                              access                 age  \\\n",
       "0  \\n都営大江戸線/西新宿五丁目駅 歩6分\\n都営大江戸線/都庁前駅 歩12分\\n京王新線/初...  \\n築26年\\n地下1地上3階建\\n   \n",
       "1  \\n都営大江戸線/西新宿五丁目駅 歩6分\\n都営大江戸線/都庁前駅 歩12分\\n京王新線/初...  \\n築26年\\n地下1地上3階建\\n   \n",
       "2  \\n都営大江戸線/牛込柳町駅 歩4分\\n東京メトロ東西線/神楽坂駅 歩10分\\n都営新宿線/...   \\n新築\\n地下1地上13階建\\n   \n",
       "3  \\n都営大江戸線/牛込柳町駅 歩4分\\n東京メトロ東西線/神楽坂駅 歩10分\\n都営新宿線/...   \\n新築\\n地下1地上13階建\\n   \n",
       "4  \\n都営大江戸線/牛込柳町駅 歩4分\\n東京メトロ東西線/神楽坂駅 歩10分\\n都営新宿線/...   \\n新築\\n地下1地上13階建\\n   \n",
       "\n",
       "                            floor     fee management_fee deposit gratuity  \\\n",
       "0  \\r\\n\\t\\t\\t\\t\\t\\t\\t\\t\\t\\t\\t1-3階    48万円              -    48万円     24万円   \n",
       "1     \\r\\n\\t\\t\\t\\t\\t\\t\\t\\t\\t\\t\\t-    48万円              -    48万円     24万円   \n",
       "2    \\r\\n\\t\\t\\t\\t\\t\\t\\t\\t\\t\\t\\t2階  19.7万円         12000円  19.7万円        -   \n",
       "3    \\r\\n\\t\\t\\t\\t\\t\\t\\t\\t\\t\\t\\t2階  19.7万円         12000円  19.7万円        -   \n",
       "4    \\r\\n\\t\\t\\t\\t\\t\\t\\t\\t\\t\\t\\t2階  19.7万円         12000円  19.7万円        -   \n",
       "\n",
       "  floor_plan      area  \n",
       "0       7LDK  130.47m2  \n",
       "1       7LDK  130.47m2  \n",
       "2      1SLDK   40.01m2  \n",
       "3       1LDK   40.01m2  \n",
       "4       1LDK   40.01m2  "
      ]
     },
     "execution_count": 21,
     "metadata": {},
     "output_type": "execute_result"
    }
   ],
   "source": [
    "import pandas as pd\n",
    "df = pd.DataFrame(d_list)\n",
    "df.head() #先頭5行を表示する"
   ]
  },
  {
   "cell_type": "code",
   "execution_count": 22,
   "id": "f3f6d52a",
   "metadata": {},
   "outputs": [
    {
     "data": {
      "text/plain": [
       "(501, 11)"
      ]
     },
     "execution_count": 22,
     "metadata": {},
     "output_type": "execute_result"
    }
   ],
   "source": [
    "df.shape #dfの大きさを確認する"
   ]
  },
  {
   "cell_type": "code",
   "execution_count": 23,
   "id": "f8bc32e6",
   "metadata": {},
   "outputs": [
    {
     "data": {
      "text/plain": [
       "60"
      ]
     },
     "execution_count": 23,
     "metadata": {},
     "output_type": "execute_result"
    }
   ],
   "source": [
    "#物件名の重複を削除して、大きさを確認する\n",
    "len(df.title.unique())"
   ]
  },
  {
   "cell_type": "markdown",
   "id": "eb245909",
   "metadata": {},
   "source": [
    "## 表形式の取得結果をCSVに出力する"
   ]
  },
  {
   "cell_type": "markdown",
   "id": "a5240366",
   "metadata": {},
   "source": [
    "`df.to_csv('出力するファイル名')`でCSV出力する"
   ]
  },
  {
   "cell_type": "code",
   "execution_count": 24,
   "id": "167740b0",
   "metadata": {},
   "outputs": [],
   "source": [
    "df.to_csv('スクレイピング.csv',index=None,encoding='utf-8-sig') #indexは上の表の左の数字列"
   ]
  },
  {
   "cell_type": "code",
   "execution_count": null,
   "id": "365cd701",
   "metadata": {},
   "outputs": [],
   "source": []
  }
 ],
 "metadata": {
  "kernelspec": {
   "display_name": "Python 3",
   "language": "python",
   "name": "python3"
  },
  "language_info": {
   "codemirror_mode": {
    "name": "ipython",
    "version": 3
   },
   "file_extension": ".py",
   "mimetype": "text/x-python",
   "name": "python",
   "nbconvert_exporter": "python",
   "pygments_lexer": "ipython3",
   "version": "3.8.8"
  },
  "toc": {
   "base_numbering": 1,
   "nav_menu": {},
   "number_sections": true,
   "sideBar": true,
   "skip_h1_title": false,
   "title_cell": "Table of Contents",
   "title_sidebar": "Contents",
   "toc_cell": false,
   "toc_position": {
    "height": "996.4705810546875px",
    "left": "470px",
    "top": "110.4779052734375px",
    "width": "224.46690368652344px"
   },
   "toc_section_display": true,
   "toc_window_display": true
  }
 },
 "nbformat": 4,
 "nbformat_minor": 5
}
