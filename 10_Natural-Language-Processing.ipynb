{
 "cells": [
  {
   "cell_type": "markdown",
   "id": "620d9555",
   "metadata": {},
   "source": [
    "# シソーラス"
   ]
  },
  {
   "cell_type": "markdown",
   "id": "db1565d3",
   "metadata": {},
   "source": [
    "同義語や類義語が同じグループに分類されたり（car：automobile、motorcarなど）、単語間の上位と下位、全体と部分（carの上位：motor vehicle、下位：SUVなど）が分類された**類語辞書**。<br>\n",
    "これは人の手によって作られるもので、コンピュータに単語間の関連性を教えることができる。"
   ]
  },
  {
   "cell_type": "markdown",
   "id": "d52e38b4",
   "metadata": {},
   "source": [
    "## WordNet"
   ]
  },
  {
   "cell_type": "markdown",
   "id": "63db1678",
   "metadata": {},
   "source": [
    "例として、最も有名なシソーラスであるWordNetを挙げる。<br>\n",
    "WordNetには、単語の定義・同義語・意味のネットワークが定められている。"
   ]
  },
  {
   "cell_type": "code",
   "execution_count": 1,
   "id": "73adb998",
   "metadata": {},
   "outputs": [
    {
     "name": "stdout",
     "output_type": "stream",
     "text": [
      "Requirement already satisfied: nltk in /opt/anaconda3/lib/python3.8/site-packages (3.6.1)\r\n",
      "Requirement already satisfied: regex in /opt/anaconda3/lib/python3.8/site-packages (from nltk) (2021.4.4)\r\n",
      "Requirement already satisfied: click in /opt/anaconda3/lib/python3.8/site-packages (from nltk) (7.1.2)\r\n",
      "Requirement already satisfied: joblib in /opt/anaconda3/lib/python3.8/site-packages (from nltk) (1.0.1)\r\n",
      "Requirement already satisfied: tqdm in /opt/anaconda3/lib/python3.8/site-packages (from nltk) (4.59.0)\r\n"
     ]
    }
   ],
   "source": [
    "!pip install nltk"
   ]
  },
  {
   "cell_type": "code",
   "execution_count": 2,
   "id": "8c0b66a4",
   "metadata": {
    "scrolled": true
   },
   "outputs": [
    {
     "name": "stderr",
     "output_type": "stream",
     "text": [
      "[nltk_data] Downloading collection 'all'\n",
      "[nltk_data]    | \n",
      "[nltk_data]    | Downloading package abc to\n",
      "[nltk_data]    |     /Users/sasakishunsuke1/nltk_data...\n",
      "[nltk_data]    |   Package abc is already up-to-date!\n",
      "[nltk_data]    | Downloading package alpino to\n",
      "[nltk_data]    |     /Users/sasakishunsuke1/nltk_data...\n",
      "[nltk_data]    |   Package alpino is already up-to-date!\n",
      "[nltk_data]    | Downloading package averaged_perceptron_tagger to\n",
      "[nltk_data]    |     /Users/sasakishunsuke1/nltk_data...\n",
      "[nltk_data]    |   Package averaged_perceptron_tagger is already up-\n",
      "[nltk_data]    |       to-date!\n",
      "[nltk_data]    | Downloading package averaged_perceptron_tagger_ru to\n",
      "[nltk_data]    |     /Users/sasakishunsuke1/nltk_data...\n",
      "[nltk_data]    |   Package averaged_perceptron_tagger_ru is already\n",
      "[nltk_data]    |       up-to-date!\n",
      "[nltk_data]    | Downloading package basque_grammars to\n",
      "[nltk_data]    |     /Users/sasakishunsuke1/nltk_data...\n",
      "[nltk_data]    |   Package basque_grammars is already up-to-date!\n",
      "[nltk_data]    | Downloading package biocreative_ppi to\n",
      "[nltk_data]    |     /Users/sasakishunsuke1/nltk_data...\n",
      "[nltk_data]    |   Package biocreative_ppi is already up-to-date!\n",
      "[nltk_data]    | Downloading package bllip_wsj_no_aux to\n",
      "[nltk_data]    |     /Users/sasakishunsuke1/nltk_data...\n",
      "[nltk_data]    |   Package bllip_wsj_no_aux is already up-to-date!\n",
      "[nltk_data]    | Downloading package book_grammars to\n",
      "[nltk_data]    |     /Users/sasakishunsuke1/nltk_data...\n",
      "[nltk_data]    |   Package book_grammars is already up-to-date!\n",
      "[nltk_data]    | Downloading package brown to\n",
      "[nltk_data]    |     /Users/sasakishunsuke1/nltk_data...\n",
      "[nltk_data]    |   Package brown is already up-to-date!\n",
      "[nltk_data]    | Downloading package brown_tei to\n",
      "[nltk_data]    |     /Users/sasakishunsuke1/nltk_data...\n",
      "[nltk_data]    |   Package brown_tei is already up-to-date!\n",
      "[nltk_data]    | Downloading package cess_cat to\n",
      "[nltk_data]    |     /Users/sasakishunsuke1/nltk_data...\n",
      "[nltk_data]    |   Package cess_cat is already up-to-date!\n",
      "[nltk_data]    | Downloading package cess_esp to\n",
      "[nltk_data]    |     /Users/sasakishunsuke1/nltk_data...\n",
      "[nltk_data]    |   Package cess_esp is already up-to-date!\n",
      "[nltk_data]    | Downloading package chat80 to\n",
      "[nltk_data]    |     /Users/sasakishunsuke1/nltk_data...\n",
      "[nltk_data]    |   Package chat80 is already up-to-date!\n",
      "[nltk_data]    | Downloading package city_database to\n",
      "[nltk_data]    |     /Users/sasakishunsuke1/nltk_data...\n",
      "[nltk_data]    |   Package city_database is already up-to-date!\n",
      "[nltk_data]    | Downloading package cmudict to\n",
      "[nltk_data]    |     /Users/sasakishunsuke1/nltk_data...\n",
      "[nltk_data]    |   Package cmudict is already up-to-date!\n",
      "[nltk_data]    | Downloading package comparative_sentences to\n",
      "[nltk_data]    |     /Users/sasakishunsuke1/nltk_data...\n",
      "[nltk_data]    |   Package comparative_sentences is already up-to-\n",
      "[nltk_data]    |       date!\n",
      "[nltk_data]    | Downloading package comtrans to\n",
      "[nltk_data]    |     /Users/sasakishunsuke1/nltk_data...\n",
      "[nltk_data]    |   Package comtrans is already up-to-date!\n",
      "[nltk_data]    | Downloading package conll2000 to\n",
      "[nltk_data]    |     /Users/sasakishunsuke1/nltk_data...\n",
      "[nltk_data]    |   Package conll2000 is already up-to-date!\n",
      "[nltk_data]    | Downloading package conll2002 to\n",
      "[nltk_data]    |     /Users/sasakishunsuke1/nltk_data...\n",
      "[nltk_data]    |   Package conll2002 is already up-to-date!\n",
      "[nltk_data]    | Downloading package conll2007 to\n",
      "[nltk_data]    |     /Users/sasakishunsuke1/nltk_data...\n",
      "[nltk_data]    |   Package conll2007 is already up-to-date!\n",
      "[nltk_data]    | Downloading package crubadan to\n",
      "[nltk_data]    |     /Users/sasakishunsuke1/nltk_data...\n",
      "[nltk_data]    |   Package crubadan is already up-to-date!\n",
      "[nltk_data]    | Downloading package dependency_treebank to\n",
      "[nltk_data]    |     /Users/sasakishunsuke1/nltk_data...\n",
      "[nltk_data]    |   Package dependency_treebank is already up-to-date!\n",
      "[nltk_data]    | Downloading package dolch to\n",
      "[nltk_data]    |     /Users/sasakishunsuke1/nltk_data...\n",
      "[nltk_data]    |   Package dolch is already up-to-date!\n",
      "[nltk_data]    | Downloading package europarl_raw to\n",
      "[nltk_data]    |     /Users/sasakishunsuke1/nltk_data...\n",
      "[nltk_data]    |   Package europarl_raw is already up-to-date!\n",
      "[nltk_data]    | Downloading package extended_omw to\n",
      "[nltk_data]    |     /Users/sasakishunsuke1/nltk_data...\n",
      "[nltk_data]    |   Package extended_omw is already up-to-date!\n",
      "[nltk_data]    | Downloading package floresta to\n",
      "[nltk_data]    |     /Users/sasakishunsuke1/nltk_data...\n",
      "[nltk_data]    |   Package floresta is already up-to-date!\n",
      "[nltk_data]    | Downloading package framenet_v15 to\n",
      "[nltk_data]    |     /Users/sasakishunsuke1/nltk_data...\n",
      "[nltk_data]    |   Package framenet_v15 is already up-to-date!\n",
      "[nltk_data]    | Downloading package framenet_v17 to\n",
      "[nltk_data]    |     /Users/sasakishunsuke1/nltk_data...\n",
      "[nltk_data]    |   Package framenet_v17 is already up-to-date!\n",
      "[nltk_data]    | Downloading package gazetteers to\n",
      "[nltk_data]    |     /Users/sasakishunsuke1/nltk_data...\n",
      "[nltk_data]    |   Package gazetteers is already up-to-date!\n",
      "[nltk_data]    | Downloading package genesis to\n",
      "[nltk_data]    |     /Users/sasakishunsuke1/nltk_data...\n",
      "[nltk_data]    |   Package genesis is already up-to-date!\n",
      "[nltk_data]    | Downloading package gutenberg to\n",
      "[nltk_data]    |     /Users/sasakishunsuke1/nltk_data...\n",
      "[nltk_data]    |   Package gutenberg is already up-to-date!\n",
      "[nltk_data]    | Downloading package ieer to\n",
      "[nltk_data]    |     /Users/sasakishunsuke1/nltk_data...\n",
      "[nltk_data]    |   Package ieer is already up-to-date!\n",
      "[nltk_data]    | Downloading package inaugural to\n",
      "[nltk_data]    |     /Users/sasakishunsuke1/nltk_data...\n",
      "[nltk_data]    |   Package inaugural is already up-to-date!\n",
      "[nltk_data]    | Downloading package indian to\n",
      "[nltk_data]    |     /Users/sasakishunsuke1/nltk_data...\n",
      "[nltk_data]    |   Package indian is already up-to-date!\n",
      "[nltk_data]    | Downloading package jeita to\n",
      "[nltk_data]    |     /Users/sasakishunsuke1/nltk_data...\n",
      "[nltk_data]    |   Package jeita is already up-to-date!\n",
      "[nltk_data]    | Downloading package kimmo to\n",
      "[nltk_data]    |     /Users/sasakishunsuke1/nltk_data...\n",
      "[nltk_data]    |   Package kimmo is already up-to-date!\n",
      "[nltk_data]    | Downloading package knbc to\n",
      "[nltk_data]    |     /Users/sasakishunsuke1/nltk_data...\n",
      "[nltk_data]    |   Package knbc is already up-to-date!\n",
      "[nltk_data]    | Downloading package large_grammars to\n",
      "[nltk_data]    |     /Users/sasakishunsuke1/nltk_data...\n",
      "[nltk_data]    |   Package large_grammars is already up-to-date!\n",
      "[nltk_data]    | Downloading package lin_thesaurus to\n",
      "[nltk_data]    |     /Users/sasakishunsuke1/nltk_data...\n",
      "[nltk_data]    |   Package lin_thesaurus is already up-to-date!\n",
      "[nltk_data]    | Downloading package mac_morpho to\n",
      "[nltk_data]    |     /Users/sasakishunsuke1/nltk_data...\n",
      "[nltk_data]    |   Package mac_morpho is already up-to-date!\n",
      "[nltk_data]    | Downloading package machado to\n",
      "[nltk_data]    |     /Users/sasakishunsuke1/nltk_data...\n",
      "[nltk_data]    |   Package machado is already up-to-date!\n",
      "[nltk_data]    | Downloading package masc_tagged to\n",
      "[nltk_data]    |     /Users/sasakishunsuke1/nltk_data...\n",
      "[nltk_data]    |   Package masc_tagged is already up-to-date!\n",
      "[nltk_data]    | Downloading package maxent_ne_chunker to\n",
      "[nltk_data]    |     /Users/sasakishunsuke1/nltk_data...\n",
      "[nltk_data]    |   Package maxent_ne_chunker is already up-to-date!\n",
      "[nltk_data]    | Downloading package maxent_treebank_pos_tagger to\n",
      "[nltk_data]    |     /Users/sasakishunsuke1/nltk_data...\n",
      "[nltk_data]    |   Package maxent_treebank_pos_tagger is already up-\n",
      "[nltk_data]    |       to-date!\n",
      "[nltk_data]    | Downloading package moses_sample to\n",
      "[nltk_data]    |     /Users/sasakishunsuke1/nltk_data...\n",
      "[nltk_data]    |   Package moses_sample is already up-to-date!\n",
      "[nltk_data]    | Downloading package movie_reviews to\n",
      "[nltk_data]    |     /Users/sasakishunsuke1/nltk_data...\n",
      "[nltk_data]    |   Package movie_reviews is already up-to-date!\n",
      "[nltk_data]    | Downloading package mte_teip5 to\n",
      "[nltk_data]    |     /Users/sasakishunsuke1/nltk_data...\n",
      "[nltk_data]    |   Package mte_teip5 is already up-to-date!\n",
      "[nltk_data]    | Downloading package mwa_ppdb to\n",
      "[nltk_data]    |     /Users/sasakishunsuke1/nltk_data...\n",
      "[nltk_data]    |   Package mwa_ppdb is already up-to-date!\n",
      "[nltk_data]    | Downloading package names to\n",
      "[nltk_data]    |     /Users/sasakishunsuke1/nltk_data...\n",
      "[nltk_data]    |   Package names is already up-to-date!\n",
      "[nltk_data]    | Downloading package nombank.1.0 to\n",
      "[nltk_data]    |     /Users/sasakishunsuke1/nltk_data...\n",
      "[nltk_data]    |   Package nombank.1.0 is already up-to-date!\n",
      "[nltk_data]    | Downloading package nonbreaking_prefixes to\n",
      "[nltk_data]    |     /Users/sasakishunsuke1/nltk_data...\n",
      "[nltk_data]    |   Package nonbreaking_prefixes is already up-to-date!\n",
      "[nltk_data]    | Downloading package nps_chat to\n",
      "[nltk_data]    |     /Users/sasakishunsuke1/nltk_data...\n",
      "[nltk_data]    |   Package nps_chat is already up-to-date!\n",
      "[nltk_data]    | Downloading package omw to\n",
      "[nltk_data]    |     /Users/sasakishunsuke1/nltk_data...\n"
     ]
    },
    {
     "name": "stderr",
     "output_type": "stream",
     "text": [
      "[nltk_data]    |   Package omw is already up-to-date!\n",
      "[nltk_data]    | Downloading package omw-1.4 to\n",
      "[nltk_data]    |     /Users/sasakishunsuke1/nltk_data...\n",
      "[nltk_data]    |   Package omw-1.4 is already up-to-date!\n",
      "[nltk_data]    | Downloading package opinion_lexicon to\n",
      "[nltk_data]    |     /Users/sasakishunsuke1/nltk_data...\n",
      "[nltk_data]    |   Package opinion_lexicon is already up-to-date!\n",
      "[nltk_data]    | Downloading package panlex_swadesh to\n",
      "[nltk_data]    |     /Users/sasakishunsuke1/nltk_data...\n",
      "[nltk_data]    |   Package panlex_swadesh is already up-to-date!\n",
      "[nltk_data]    | Downloading package paradigms to\n",
      "[nltk_data]    |     /Users/sasakishunsuke1/nltk_data...\n",
      "[nltk_data]    |   Package paradigms is already up-to-date!\n",
      "[nltk_data]    | Downloading package pe08 to\n",
      "[nltk_data]    |     /Users/sasakishunsuke1/nltk_data...\n",
      "[nltk_data]    |   Package pe08 is already up-to-date!\n",
      "[nltk_data]    | Downloading package perluniprops to\n",
      "[nltk_data]    |     /Users/sasakishunsuke1/nltk_data...\n",
      "[nltk_data]    |   Package perluniprops is already up-to-date!\n",
      "[nltk_data]    | Downloading package pil to\n",
      "[nltk_data]    |     /Users/sasakishunsuke1/nltk_data...\n",
      "[nltk_data]    |   Package pil is already up-to-date!\n",
      "[nltk_data]    | Downloading package pl196x to\n",
      "[nltk_data]    |     /Users/sasakishunsuke1/nltk_data...\n",
      "[nltk_data]    |   Package pl196x is already up-to-date!\n",
      "[nltk_data]    | Downloading package porter_test to\n",
      "[nltk_data]    |     /Users/sasakishunsuke1/nltk_data...\n",
      "[nltk_data]    |   Package porter_test is already up-to-date!\n",
      "[nltk_data]    | Downloading package ppattach to\n",
      "[nltk_data]    |     /Users/sasakishunsuke1/nltk_data...\n",
      "[nltk_data]    |   Package ppattach is already up-to-date!\n",
      "[nltk_data]    | Downloading package problem_reports to\n",
      "[nltk_data]    |     /Users/sasakishunsuke1/nltk_data...\n",
      "[nltk_data]    |   Package problem_reports is already up-to-date!\n",
      "[nltk_data]    | Downloading package product_reviews_1 to\n",
      "[nltk_data]    |     /Users/sasakishunsuke1/nltk_data...\n",
      "[nltk_data]    |   Package product_reviews_1 is already up-to-date!\n",
      "[nltk_data]    | Downloading package product_reviews_2 to\n",
      "[nltk_data]    |     /Users/sasakishunsuke1/nltk_data...\n",
      "[nltk_data]    |   Package product_reviews_2 is already up-to-date!\n",
      "[nltk_data]    | Downloading package propbank to\n",
      "[nltk_data]    |     /Users/sasakishunsuke1/nltk_data...\n",
      "[nltk_data]    |   Package propbank is already up-to-date!\n",
      "[nltk_data]    | Downloading package pros_cons to\n",
      "[nltk_data]    |     /Users/sasakishunsuke1/nltk_data...\n",
      "[nltk_data]    |   Package pros_cons is already up-to-date!\n",
      "[nltk_data]    | Downloading package ptb to\n",
      "[nltk_data]    |     /Users/sasakishunsuke1/nltk_data...\n",
      "[nltk_data]    |   Package ptb is already up-to-date!\n",
      "[nltk_data]    | Downloading package punkt to\n",
      "[nltk_data]    |     /Users/sasakishunsuke1/nltk_data...\n",
      "[nltk_data]    |   Package punkt is already up-to-date!\n",
      "[nltk_data]    | Downloading package qc to\n",
      "[nltk_data]    |     /Users/sasakishunsuke1/nltk_data...\n",
      "[nltk_data]    |   Package qc is already up-to-date!\n",
      "[nltk_data]    | Downloading package reuters to\n",
      "[nltk_data]    |     /Users/sasakishunsuke1/nltk_data...\n",
      "[nltk_data]    |   Package reuters is already up-to-date!\n",
      "[nltk_data]    | Downloading package rslp to\n",
      "[nltk_data]    |     /Users/sasakishunsuke1/nltk_data...\n",
      "[nltk_data]    |   Package rslp is already up-to-date!\n",
      "[nltk_data]    | Downloading package rte to\n",
      "[nltk_data]    |     /Users/sasakishunsuke1/nltk_data...\n",
      "[nltk_data]    |   Package rte is already up-to-date!\n",
      "[nltk_data]    | Downloading package sample_grammars to\n",
      "[nltk_data]    |     /Users/sasakishunsuke1/nltk_data...\n",
      "[nltk_data]    |   Package sample_grammars is already up-to-date!\n",
      "[nltk_data]    | Downloading package semcor to\n",
      "[nltk_data]    |     /Users/sasakishunsuke1/nltk_data...\n",
      "[nltk_data]    |   Package semcor is already up-to-date!\n",
      "[nltk_data]    | Downloading package senseval to\n",
      "[nltk_data]    |     /Users/sasakishunsuke1/nltk_data...\n",
      "[nltk_data]    |   Package senseval is already up-to-date!\n",
      "[nltk_data]    | Downloading package sentence_polarity to\n",
      "[nltk_data]    |     /Users/sasakishunsuke1/nltk_data...\n",
      "[nltk_data]    |   Package sentence_polarity is already up-to-date!\n",
      "[nltk_data]    | Downloading package sentiwordnet to\n",
      "[nltk_data]    |     /Users/sasakishunsuke1/nltk_data...\n",
      "[nltk_data]    |   Package sentiwordnet is already up-to-date!\n",
      "[nltk_data]    | Downloading package shakespeare to\n",
      "[nltk_data]    |     /Users/sasakishunsuke1/nltk_data...\n",
      "[nltk_data]    |   Package shakespeare is already up-to-date!\n",
      "[nltk_data]    | Downloading package sinica_treebank to\n",
      "[nltk_data]    |     /Users/sasakishunsuke1/nltk_data...\n",
      "[nltk_data]    |   Package sinica_treebank is already up-to-date!\n",
      "[nltk_data]    | Downloading package smultron to\n",
      "[nltk_data]    |     /Users/sasakishunsuke1/nltk_data...\n",
      "[nltk_data]    |   Package smultron is already up-to-date!\n",
      "[nltk_data]    | Downloading package snowball_data to\n",
      "[nltk_data]    |     /Users/sasakishunsuke1/nltk_data...\n",
      "[nltk_data]    |   Package snowball_data is already up-to-date!\n",
      "[nltk_data]    | Downloading package spanish_grammars to\n",
      "[nltk_data]    |     /Users/sasakishunsuke1/nltk_data...\n",
      "[nltk_data]    |   Package spanish_grammars is already up-to-date!\n",
      "[nltk_data]    | Downloading package state_union to\n",
      "[nltk_data]    |     /Users/sasakishunsuke1/nltk_data...\n",
      "[nltk_data]    |   Package state_union is already up-to-date!\n",
      "[nltk_data]    | Downloading package stopwords to\n",
      "[nltk_data]    |     /Users/sasakishunsuke1/nltk_data...\n",
      "[nltk_data]    |   Package stopwords is already up-to-date!\n",
      "[nltk_data]    | Downloading package subjectivity to\n",
      "[nltk_data]    |     /Users/sasakishunsuke1/nltk_data...\n",
      "[nltk_data]    |   Package subjectivity is already up-to-date!\n",
      "[nltk_data]    | Downloading package swadesh to\n",
      "[nltk_data]    |     /Users/sasakishunsuke1/nltk_data...\n",
      "[nltk_data]    |   Package swadesh is already up-to-date!\n",
      "[nltk_data]    | Downloading package switchboard to\n",
      "[nltk_data]    |     /Users/sasakishunsuke1/nltk_data...\n",
      "[nltk_data]    |   Package switchboard is already up-to-date!\n",
      "[nltk_data]    | Downloading package tagsets to\n",
      "[nltk_data]    |     /Users/sasakishunsuke1/nltk_data...\n",
      "[nltk_data]    |   Package tagsets is already up-to-date!\n",
      "[nltk_data]    | Downloading package timit to\n",
      "[nltk_data]    |     /Users/sasakishunsuke1/nltk_data...\n",
      "[nltk_data]    |   Package timit is already up-to-date!\n",
      "[nltk_data]    | Downloading package toolbox to\n",
      "[nltk_data]    |     /Users/sasakishunsuke1/nltk_data...\n",
      "[nltk_data]    |   Package toolbox is already up-to-date!\n",
      "[nltk_data]    | Downloading package treebank to\n",
      "[nltk_data]    |     /Users/sasakishunsuke1/nltk_data...\n",
      "[nltk_data]    |   Package treebank is already up-to-date!\n",
      "[nltk_data]    | Downloading package twitter_samples to\n",
      "[nltk_data]    |     /Users/sasakishunsuke1/nltk_data...\n",
      "[nltk_data]    |   Package twitter_samples is already up-to-date!\n",
      "[nltk_data]    | Downloading package udhr to\n",
      "[nltk_data]    |     /Users/sasakishunsuke1/nltk_data...\n",
      "[nltk_data]    |   Package udhr is already up-to-date!\n",
      "[nltk_data]    | Downloading package udhr2 to\n",
      "[nltk_data]    |     /Users/sasakishunsuke1/nltk_data...\n",
      "[nltk_data]    |   Package udhr2 is already up-to-date!\n",
      "[nltk_data]    | Downloading package unicode_samples to\n",
      "[nltk_data]    |     /Users/sasakishunsuke1/nltk_data...\n",
      "[nltk_data]    |   Package unicode_samples is already up-to-date!\n",
      "[nltk_data]    | Downloading package universal_tagset to\n",
      "[nltk_data]    |     /Users/sasakishunsuke1/nltk_data...\n",
      "[nltk_data]    |   Package universal_tagset is already up-to-date!\n",
      "[nltk_data]    | Downloading package universal_treebanks_v20 to\n",
      "[nltk_data]    |     /Users/sasakishunsuke1/nltk_data...\n",
      "[nltk_data]    |   Package universal_treebanks_v20 is already up-to-\n",
      "[nltk_data]    |       date!\n",
      "[nltk_data]    | Downloading package vader_lexicon to\n",
      "[nltk_data]    |     /Users/sasakishunsuke1/nltk_data...\n",
      "[nltk_data]    |   Package vader_lexicon is already up-to-date!\n",
      "[nltk_data]    | Downloading package verbnet to\n",
      "[nltk_data]    |     /Users/sasakishunsuke1/nltk_data...\n",
      "[nltk_data]    |   Package verbnet is already up-to-date!\n",
      "[nltk_data]    | Downloading package verbnet3 to\n",
      "[nltk_data]    |     /Users/sasakishunsuke1/nltk_data...\n",
      "[nltk_data]    |   Package verbnet3 is already up-to-date!\n",
      "[nltk_data]    | Downloading package webtext to\n",
      "[nltk_data]    |     /Users/sasakishunsuke1/nltk_data...\n",
      "[nltk_data]    |   Package webtext is already up-to-date!\n",
      "[nltk_data]    | Downloading package wmt15_eval to\n",
      "[nltk_data]    |     /Users/sasakishunsuke1/nltk_data...\n",
      "[nltk_data]    |   Package wmt15_eval is already up-to-date!\n",
      "[nltk_data]    | Downloading package word2vec_sample to\n",
      "[nltk_data]    |     /Users/sasakishunsuke1/nltk_data...\n",
      "[nltk_data]    |   Package word2vec_sample is already up-to-date!\n",
      "[nltk_data]    | Downloading package wordnet to\n",
      "[nltk_data]    |     /Users/sasakishunsuke1/nltk_data...\n",
      "[nltk_data]    |   Package wordnet is already up-to-date!\n",
      "[nltk_data]    | Downloading package wordnet2021 to\n",
      "[nltk_data]    |     /Users/sasakishunsuke1/nltk_data...\n",
      "[nltk_data]    |   Package wordnet2021 is already up-to-date!\n",
      "[nltk_data]    | Downloading package wordnet31 to\n",
      "[nltk_data]    |     /Users/sasakishunsuke1/nltk_data...\n"
     ]
    },
    {
     "name": "stderr",
     "output_type": "stream",
     "text": [
      "[nltk_data]    |   Package wordnet31 is already up-to-date!\n",
      "[nltk_data]    | Downloading package wordnet_ic to\n",
      "[nltk_data]    |     /Users/sasakishunsuke1/nltk_data...\n",
      "[nltk_data]    |   Package wordnet_ic is already up-to-date!\n",
      "[nltk_data]    | Downloading package words to\n",
      "[nltk_data]    |     /Users/sasakishunsuke1/nltk_data...\n",
      "[nltk_data]    |   Package words is already up-to-date!\n",
      "[nltk_data]    | Downloading package ycoe to\n",
      "[nltk_data]    |     /Users/sasakishunsuke1/nltk_data...\n",
      "[nltk_data]    |   Package ycoe is already up-to-date!\n",
      "[nltk_data]    | \n",
      "[nltk_data]  Done downloading collection all\n"
     ]
    },
    {
     "data": {
      "text/plain": [
       "True"
      ]
     },
     "execution_count": 2,
     "metadata": {},
     "output_type": "execute_result"
    }
   ],
   "source": [
    "import nltk\n",
    "from nltk.corpus import wordnet\n",
    "nltk.download('all')"
   ]
  },
  {
   "cell_type": "code",
   "execution_count": 3,
   "id": "73711957",
   "metadata": {},
   "outputs": [
    {
     "data": {
      "text/plain": [
       "[Synset('car.n.01'),\n",
       " Synset('car.n.02'),\n",
       " Synset('car.n.03'),\n",
       " Synset('car.n.04'),\n",
       " Synset('cable_car.n.01')]"
      ]
     },
     "execution_count": 3,
     "metadata": {},
     "output_type": "execute_result"
    }
   ],
   "source": [
    "wordnet.synsets('car')"
   ]
  },
  {
   "cell_type": "markdown",
   "id": "c6dbde50",
   "metadata": {},
   "source": [
    "「car」には5つの異なる意味が定義されているため、どの意味に該当するのかを指定する必要がある。"
   ]
  },
  {
   "cell_type": "code",
   "execution_count": 4,
   "id": "3bed27fe",
   "metadata": {},
   "outputs": [
    {
     "data": {
      "text/plain": [
       "'a motor vehicle with four wheels; usually propelled by an internal combustion engine'"
      ]
     },
     "execution_count": 4,
     "metadata": {},
     "output_type": "execute_result"
    }
   ],
   "source": [
    "car = wordnet.synset('car.n.01')\n",
    "car.definition() # carの定義"
   ]
  },
  {
   "cell_type": "code",
   "execution_count": 5,
   "id": "e85fb974",
   "metadata": {},
   "outputs": [
    {
     "data": {
      "text/plain": [
       "['car', 'auto', 'automobile', 'machine', 'motorcar']"
      ]
     },
     "execution_count": 5,
     "metadata": {},
     "output_type": "execute_result"
    }
   ],
   "source": [
    "car.lemma_names() # carの同義語"
   ]
  },
  {
   "cell_type": "code",
   "execution_count": 6,
   "id": "3c08685a",
   "metadata": {},
   "outputs": [
    {
     "data": {
      "text/plain": [
       "[Synset('entity.n.01'),\n",
       " Synset('physical_entity.n.01'),\n",
       " Synset('object.n.01'),\n",
       " Synset('whole.n.02'),\n",
       " Synset('artifact.n.01'),\n",
       " Synset('instrumentality.n.03'),\n",
       " Synset('container.n.01'),\n",
       " Synset('wheeled_vehicle.n.01'),\n",
       " Synset('self-propelled_vehicle.n.01'),\n",
       " Synset('motor_vehicle.n.01'),\n",
       " Synset('car.n.01')]"
      ]
     },
     "execution_count": 6,
     "metadata": {},
     "output_type": "execute_result"
    }
   ],
   "source": [
    "car.hypernym_paths()[0] # 上位・下位の関係性"
   ]
  },
  {
   "cell_type": "markdown",
   "id": "6c3ac490",
   "metadata": {},
   "source": [
    "`path_similarity`では、単語ネットワークの共通する経路を元に、単語間の類似度が計算されている。"
   ]
  },
  {
   "cell_type": "code",
   "execution_count": 7,
   "id": "1d54b565",
   "metadata": {},
   "outputs": [
    {
     "name": "stdout",
     "output_type": "stream",
     "text": [
      "0.05555555555555555\n",
      "0.07692307692307693\n",
      "0.3333333333333333\n"
     ]
    }
   ],
   "source": [
    "# carとの意味の類似度\n",
    "novel = wordnet.synset('novel.n.01')\n",
    "dog = wordnet.synset('dog.n.01')\n",
    "motorcycle = wordnet.synset('motorcycle.n.01')\n",
    "print(car.path_similarity(novel))\n",
    "print(car.path_similarity(dog))\n",
    "print(car.path_similarity(motorcycle))"
   ]
  },
  {
   "cell_type": "markdown",
   "id": "37191012",
   "metadata": {},
   "source": [
    "## 問題点"
   ]
  },
  {
   "cell_type": "markdown",
   "id": "74e478bb",
   "metadata": {},
   "source": [
    "シソーラス作成は**人の作業コスト**が高く、また単語の細かなニュアンスやスラング表現に対応するのが困難であるという問題点がある。"
   ]
  },
  {
   "cell_type": "markdown",
   "id": "f7347604",
   "metadata": {},
   "source": [
    "# カウントベースの手法"
   ]
  },
  {
   "cell_type": "markdown",
   "id": "89bd33d6",
   "metadata": {},
   "source": [
    "カウントベースの手法は、人の知識（単語の選び方・文章の書き方など）が多く含まれたテキストデータである**コーパス**を利用し、自動的に効率良くエッセンスを抽出する。<br>\n",
    "コーパスとして有名なものは、**Wikipedia**やGoogle News、偉大な作家の作品群などのテキストデータ。"
   ]
  },
  {
   "cell_type": "markdown",
   "id": "b28add98",
   "metadata": {},
   "source": [
    "## コーパスの下準備"
   ]
  },
  {
   "cell_type": "code",
   "execution_count": 8,
   "id": "55006383",
   "metadata": {},
   "outputs": [
    {
     "name": "stdout",
     "output_type": "stream",
     "text": [
      "you say googbye and i say hello .\n",
      "['you', 'say', 'googbye', 'and', 'i', 'say', 'hello', '.']\n"
     ]
    }
   ],
   "source": [
    "text = 'You say googbye and I say hello.'\n",
    "text = text.lower() # 小文字に変換\n",
    "text = text.replace('.', ' .') # 「.」を「 .」に置換（下の分割のため）\n",
    "print(text)\n",
    "\n",
    "words = text.split(' ') # スペースを区切り文字として分割（上の置換はこのため）\n",
    "print(words)"
   ]
  },
  {
   "cell_type": "markdown",
   "id": "4be71c2d",
   "metadata": {},
   "source": [
    "単語を扱いやすくするため、単語にIDを振る。"
   ]
  },
  {
   "cell_type": "code",
   "execution_count": 9,
   "id": "8b157a7f",
   "metadata": {},
   "outputs": [
    {
     "name": "stdout",
     "output_type": "stream",
     "text": [
      "say\n",
      "5\n"
     ]
    }
   ],
   "source": [
    "word_to_id = {}\n",
    "id_to_word = {}\n",
    "\n",
    "for word in words:\n",
    "    if word not in word_to_id:\n",
    "        new_id = len(word_to_id)\n",
    "        word_to_id[word] = new_id\n",
    "        id_to_word[new_id] = word\n",
    "        \n",
    "print(id_to_word[1])\n",
    "print(word_to_id['hello'])"
   ]
  },
  {
   "cell_type": "markdown",
   "id": "39cd84f4",
   "metadata": {},
   "source": [
    "「単語リスト」を「単語IDのリスト」に変換する。"
   ]
  },
  {
   "cell_type": "code",
   "execution_count": 10,
   "id": "3dbdb86f",
   "metadata": {},
   "outputs": [
    {
     "data": {
      "text/plain": [
       "array([0, 1, 2, 3, 4, 1, 5, 6])"
      ]
     },
     "execution_count": 10,
     "metadata": {},
     "output_type": "execute_result"
    }
   ],
   "source": [
    "import numpy as np\n",
    "corpus = [word_to_id[w] for w in words]\n",
    "corpus = np.array(corpus)\n",
    "corpus"
   ]
  },
  {
   "cell_type": "markdown",
   "id": "acebd592",
   "metadata": {},
   "source": [
    "以上の処理を関数にしたものが以下。"
   ]
  },
  {
   "cell_type": "code",
   "execution_count": 11,
   "id": "dd7ff9a6",
   "metadata": {},
   "outputs": [],
   "source": [
    "def preprocess(text):\n",
    "    text = text.lower()\n",
    "    text = text.replace('.', ' .')\n",
    "    words = text.split(' ')\n",
    "\n",
    "    word_to_id = {}\n",
    "    id_to_word = {}\n",
    "    for word in words:\n",
    "        if word not in word_to_id:\n",
    "            new_id = len(word_to_id)\n",
    "            word_to_id[word] = new_id\n",
    "            id_to_word[new_id] = word\n",
    "\n",
    "    corpus = np.array([word_to_id[w] for w in words])\n",
    "\n",
    "    return corpus, word_to_id, id_to_word"
   ]
  },
  {
   "cell_type": "markdown",
   "id": "4c26768d",
   "metadata": {},
   "source": [
    "コーパスの前処理は以下で行う。"
   ]
  },
  {
   "cell_type": "code",
   "execution_count": 12,
   "id": "cb9648a0",
   "metadata": {},
   "outputs": [],
   "source": [
    "text = 'You say goodbye and I say hello.'\n",
    "corpus, word_to_id, id_to_word = preprocess(text)"
   ]
  },
  {
   "cell_type": "markdown",
   "id": "931fc787",
   "metadata": {},
   "source": [
    "## 共起行列"
   ]
  },
  {
   "cell_type": "markdown",
   "id": "bf1f71c6",
   "metadata": {},
   "source": [
    "「単語」におけるベクトル表現を、**単語の分散表現**といい、判断や定量化を容易に行うことができる。<br>\n",
    "単語の分散表現に関する多くの研究は、**コンテキスト**（周囲に存在する単語）によって単語の意味が形成されるという**分布仮説**に基づいている。<br><br>\n",
    "大きなコーパス（Wikipediaなど）で先に学習済みの単語の分散表現を、テキスト分類や文書クラスタリング、品詞タグ付け、感情分析などの自然言語のタスクに利用することができる（**転移学習**）点で、単語の分散表現を得ることは重要である。<br><br>\n",
    "ここでは、単語の周囲にどの単語がどれだけあるかカウントする方法（統計的手法）をとる。"
   ]
  },
  {
   "cell_type": "markdown",
   "id": "f1dfbb3b",
   "metadata": {},
   "source": [
    "|  | you | say | goodbye | and | i | hello | . |\n",
    "|:--:|:--:|:--:|:--:|:--:|:--:|:--:|:--:|\n",
    "| **you** | 0 | 1 | 0 | 0 | 0 | 0 | 0 |\n",
    "| **say** | 1 | 0 | 1 | 0 | 1 | 1 | 0 |\n",
    "| **goodbye** | 0 | 1 | 0 | 1 | 0 | 0 | 0 |\n",
    "| **and** | 0 | 0 | 1 | 0 | 1 | 0 | 0 |\n",
    "| **i** | 0 | 1 | 0 | 1 | 0 | 0 | 0 |\n",
    "| **hello** | 0 | 1 | 0 | 0 | 0 | 0 | 1 |\n",
    "| **.** | 0 | 0 | 0 | 0 | 0 | 1 | 0 |\n",
    "\n",
    "これは、共起する単語を表にまとめたもの。以下で、**共起行列**を手動で実装。"
   ]
  },
  {
   "cell_type": "code",
   "execution_count": 13,
   "id": "4a3f3582",
   "metadata": {
    "scrolled": true
   },
   "outputs": [
    {
     "name": "stdout",
     "output_type": "stream",
     "text": [
      "[0 1 0 1 0 0 0]\n",
      "[0 1 0 1 0 0 0]\n"
     ]
    }
   ],
   "source": [
    " C = np.array([\n",
    "     [0, 1, 0, 0, 0, 0, 0],\n",
    "     [1, 0, 1, 0, 1, 1, 0],\n",
    "     [0, 1, 0, 1, 0, 0, 0],\n",
    "     [0, 0, 1, 0, 1, 0, 0],\n",
    "     [0, 1, 0, 1, 0, 0, 0],\n",
    "     [0, 1, 0, 0, 0, 0, 1],\n",
    "     [0, 0, 0, 0, 0, 1, 0],\n",
    " ], dtype=np.int32)\n",
    "    \n",
    "print(C[4]) # 単語IDが4のベクトル\n",
    "print(C[word_to_id['goodbye']]) # 「goodbye」のベクトル"
   ]
  },
  {
   "cell_type": "markdown",
   "id": "524d4dd3",
   "metadata": {},
   "source": [
    "以上の共起行列の作成を自動で行うものが以下。"
   ]
  },
  {
   "cell_type": "code",
   "execution_count": 14,
   "id": "70d2af56",
   "metadata": {},
   "outputs": [],
   "source": [
    "def create_co_matrix(corpus, vocab_size, window_size=1):\n",
    "    '''共起行列の作成\n",
    "\n",
    "    :param corpus: コーパス（単語IDのリスト）\n",
    "    :param vocab_size:語彙数\n",
    "    :param window_size:ウィンドウサイズ（ウィンドウサイズが1のときは、単語の左右1単語がコンテキスト）\n",
    "    :return: 共起行列\n",
    "    '''\n",
    "    corpus_size = len(corpus)\n",
    "    co_matrix = np.zeros((vocab_size, vocab_size), dtype=np.int32)\n",
    "\n",
    "    for idx, word_id in enumerate(corpus):\n",
    "        for i in range(1, window_size + 1):\n",
    "            left_idx = idx - i\n",
    "            right_idx = idx + i\n",
    "\n",
    "            if left_idx >= 0:\n",
    "                left_word_id = corpus[left_idx]\n",
    "                co_matrix[word_id, left_word_id] += 1\n",
    "\n",
    "            if right_idx < corpus_size:\n",
    "                right_word_id = corpus[right_idx]\n",
    "                co_matrix[word_id, right_word_id] += 1\n",
    "\n",
    "    return co_matrix"
   ]
  },
  {
   "cell_type": "markdown",
   "id": "8dae098b",
   "metadata": {},
   "source": [
    "## ベクトル間の類似表現"
   ]
  },
  {
   "cell_type": "markdown",
   "id": "7a6f5685",
   "metadata": {},
   "source": [
    "### コサイン類似度"
   ]
  },
  {
   "cell_type": "markdown",
   "id": "ebd5ac2d",
   "metadata": {},
   "source": [
    "ベクトル間の類似度の計測には、ベクトルの**内積**や**ユークリッド距離**などがあるが、単語ベクトルには以下の**コサイン類似度**が多く用いられる。\n",
    "\n",
    "$$\\mathrm{similarity}\\left(\\mathrm{x},\\mathrm{y}\\right) =\\dfrac{\\mathrm{x}\\cdot \\mathrm{y}}{\\left\\| \\mathrm{x}\\right\\| \\left\\| \\mathrm{y}\\right\\| }=\\dfrac{x_{1}y_{1}+\\cdots +x_{n}y_{n}}{{\\sqrt{x_1^2+\\cdots +x_{n}^{2}}}{\\sqrt{y_1^{2}+\\cdots +y_{n}^{2}}}}$$\n",
    "分子：内積、分母：L2ノルム"
   ]
  },
  {
   "cell_type": "code",
   "execution_count": 15,
   "id": "66c0645e",
   "metadata": {},
   "outputs": [],
   "source": [
    "def cos_similarity(x, y, eps=1e-8): # 微小値で0割り防止\n",
    "    nx = x / (np.sqrt(np.sum(x ** 2)) + eps) # ベクトルxを正規化\n",
    "    ny = y / (np.sqrt(np.sum(y ** 2)) + eps) # ベクトルyを正規化\n",
    "    return np.dot(nx, ny)"
   ]
  },
  {
   "cell_type": "code",
   "execution_count": 16,
   "id": "6eab8af7",
   "metadata": {},
   "outputs": [
    {
     "name": "stdout",
     "output_type": "stream",
     "text": [
      "0.7071067691154799\n"
     ]
    }
   ],
   "source": [
    "vocab_size = len(word_to_id)\n",
    "C = create_co_matrix(corpus, vocab_size)\n",
    "\n",
    "c0 = C[word_to_id['you']] # 「you」の単語ベクトル\n",
    "c1 = C[word_to_id['i']] # 「i」の単語ベクトル\n",
    "print(cos_similarity(c0, c1))"
   ]
  },
  {
   "cell_type": "markdown",
   "id": "4881a307",
   "metadata": {},
   "source": [
    "ベクトルが同じ向きだとコサイン類似度は1、反対向きだと-1の値を取る。「you」と「i」は類似性があるといえる。"
   ]
  },
  {
   "cell_type": "markdown",
   "id": "95ce99e7",
   "metadata": {},
   "source": [
    "以下で、クエリとして与えられた単語に類似した単語を、上位から順に表示する。\n",
    "\n",
    "| 引数名 | 説明 |\n",
    "|:------|:----|\n",
    "| `query` |クエリ（単語）|\n",
    "| `word_to_id` |単語から単語IDへのディクショナリ|\n",
    "| `id_to_word` |単語IDから単語へのディクショナリ|\n",
    "| `word_matrix` |単語ベクトルをまとめた行列。各行に対応する単語のベクトルが格納されていることを想定する|\n",
    "| `top` |上位何位まで表示するか|"
   ]
  },
  {
   "cell_type": "code",
   "execution_count": 17,
   "id": "029b6dcc",
   "metadata": {
    "scrolled": true
   },
   "outputs": [
    {
     "name": "stdout",
     "output_type": "stream",
     "text": [
      "\n",
      "[query] you\n",
      " goodbye: 0.7071067691154799\n",
      " i: 0.7071067691154799\n",
      " hello: 0.7071067691154799\n",
      " say: 0.0\n",
      " and: 0.0\n"
     ]
    }
   ],
   "source": [
    "def most_similar(query, word_to_id, id_to_word, word_matrix, top=5):\n",
    "    # クエリを取り出す\n",
    "    if query not in word_to_id:\n",
    "        print('%s is not found' % query)\n",
    "        return\n",
    "\n",
    "    print('\\n[query] ' + query)\n",
    "    query_id = word_to_id[query]\n",
    "    query_vec = word_matrix[query_id]\n",
    "\n",
    "    # コサイン類似度算出\n",
    "    vocab_size = len(id_to_word)\n",
    "    similarity = np.zeros(vocab_size)\n",
    "    for i in range(vocab_size):\n",
    "        similarity[i] = cos_similarity(word_matrix[i], query_vec)\n",
    "\n",
    "    # コサイン類似度の高い順に\n",
    "    count = 0\n",
    "    for i in (-1 * similarity).argsort(): # argsort()はNumpy配列の要素を小さい順にソートし、そのインデックスを返す。\n",
    "        if id_to_word[i] == query:\n",
    "            continue\n",
    "        print(' %s: %s' % (id_to_word[i], similarity[i]))\n",
    "\n",
    "        count += 1\n",
    "        if count >= top:\n",
    "            return\n",
    "        \n",
    "most_similar('you', word_to_id, id_to_word, C, top=5)"
   ]
  },
  {
   "cell_type": "markdown",
   "id": "5c24687e",
   "metadata": {},
   "source": [
    "コサイン類似度の値と人間の感覚に大きな乖離が生じているのは、コーパスが非常に小さいため。"
   ]
  },
  {
   "cell_type": "markdown",
   "id": "826347bb",
   "metadata": {},
   "source": [
    "### 相互情報量"
   ]
  },
  {
   "cell_type": "markdown",
   "id": "55d94834",
   "metadata": {},
   "source": [
    "単に単語が共起する場合のみに注目すると、出現頻度の高い単語のコサイン類似度が高くなってしまう。<br>\n",
    "そのため、**相互情報量**（Pointwise Mutual Information）という指標が使われる。<br>\n",
    "共起する回数が0の場合、$\\log _2=-\\infty$となるが実践上では**正の相互情報量**（Positive PMI）が使われる。\n",
    "\n",
    "$$\\mathrm{PMI}\\left( x,y\\right) =\\log _{2}\\dfrac{P\\left( x\\cap y\\right) }{P\\left( x\\right) P\\left( y\\right)}=\\log _{2}\\dfrac{\\dfrac{C\\left( x\\cap y\\right) }{N}}{\\dfrac{C\\left( x\\right) }{N}\\dfrac{C\\left( y\\right) }{N}}=\\log _{2}\\dfrac{C\\left( x\\cap y\\right) \\cdot N}{C\\left( x\\right)C\\left( y\\right)}$$\n",
    "\n",
    "$$\\mathrm{PPMI}\\left( x,y\\right) =\\mathrm{max}\\left( 0,\\mathrm{PMI}\\left(x,y\\right)\\right)$$\n",
    "\n",
    "$P(x)$：$x$が起こる確率、$C(x)$：$x$の出現回数、$N$：コーパスに含まれる全単語数"
   ]
  },
  {
   "cell_type": "code",
   "execution_count": 18,
   "id": "c8469412",
   "metadata": {},
   "outputs": [
    {
     "name": "stdout",
     "output_type": "stream",
     "text": [
      "covariance matrix\n",
      "[[0 1 0 0 0 0 0]\n",
      " [1 0 1 0 1 1 0]\n",
      " [0 1 0 1 0 0 0]\n",
      " [0 0 1 0 1 0 0]\n",
      " [0 1 0 1 0 0 0]\n",
      " [0 1 0 0 0 0 1]\n",
      " [0 0 0 0 0 1 0]]\n",
      "--------------------------------------------------\n",
      "PPMI\n",
      "[[0.    1.807 0.    0.    0.    0.    0.   ]\n",
      " [1.807 0.    0.807 0.    0.807 0.807 0.   ]\n",
      " [0.    0.807 0.    1.807 0.    0.    0.   ]\n",
      " [0.    0.    1.807 0.    1.807 0.    0.   ]\n",
      " [0.    0.807 0.    1.807 0.    0.    0.   ]\n",
      " [0.    0.807 0.    0.    0.    0.    2.807]\n",
      " [0.    0.    0.    0.    0.    2.807 0.   ]]\n"
     ]
    }
   ],
   "source": [
    "def ppmi(C, verbose=False, eps = 1e-8):\n",
    "    '''\n",
    "    :C: 共起行列\n",
    "    :verbose: 進行状況を出力するかどうか\n",
    "    '''\n",
    "    M = np.zeros_like(C, dtype=np.float32)\n",
    "    N = np.sum(C)\n",
    "    S = np.sum(C, axis=0)\n",
    "    total = C.shape[0] * C.shape[1]\n",
    "    cnt = 0\n",
    "\n",
    "    for i in range(C.shape[0]):\n",
    "        for j in range(C.shape[1]):\n",
    "            pmi = np.log2(C[i, j] * N / (S[j]*S[i]) + eps)\n",
    "            M[i, j] = max(0, pmi)\n",
    "\n",
    "            if verbose:\n",
    "                cnt += 1\n",
    "                if cnt % (total//100 + 1) == 0:\n",
    "                    print('%.1f%% done' % (100*cnt/total))\n",
    "    return M\n",
    "\n",
    "W = ppmi(C)\n",
    "np.set_printoptions(precision=3)\n",
    "print(\"covariance matrix\")\n",
    "print(C)\n",
    "print(\"-\"*50)\n",
    "print(\"PPMI\")\n",
    "print(W)"
   ]
  },
  {
   "cell_type": "markdown",
   "id": "ce842d8e",
   "metadata": {},
   "source": [
    "コサイン類似度の変化を確認する。"
   ]
  },
  {
   "cell_type": "code",
   "execution_count": 19,
   "id": "06438173",
   "metadata": {},
   "outputs": [
    {
     "name": "stdout",
     "output_type": "stream",
     "text": [
      "\n",
      "[query] you\n",
      " goodbye: 0.40786147117614746\n",
      " i: 0.40786147117614746\n",
      " hello: 0.2763834297657013\n",
      " say: 0.0\n",
      " and: 0.0\n"
     ]
    }
   ],
   "source": [
    "most_similar('you', word_to_id, id_to_word, W, top=5)"
   ]
  },
  {
   "cell_type": "markdown",
   "id": "6faa76c1",
   "metadata": {},
   "source": [
    "## SVDによる次元削減"
   ]
  },
  {
   "cell_type": "markdown",
   "id": "4feef5a9",
   "metadata": {},
   "source": [
    "コーパスに含まれる単語数が多い場合、ベクトルの次元数も単語数と等しくなり、これを扱うのは現実的でない。<br>\n",
    "また行列の要素のほとんどが0で重要度が低く、このようなベクトルはノイズに弱く、頑健性に乏しい。<br><br>\n",
    "**特異値分解**（SVD）では、任意の行列を3つの行列の積に分解する。"
   ]
  },
  {
   "cell_type": "markdown",
   "id": "d73b7c31",
   "metadata": {},
   "source": [
    "$$\\mathrm{X}=\\mathrm{U}\\mathrm{S}\\mathrm{V}^{\\mathsf{T}}$$\n",
    "\n",
    "$$\\begin{pmatrix} x_{11} & \\cdots & x_{1n} \\\\ \n",
    "\\vdots & \\ddots & \\vdots \\\\ \n",
    "x_{m1} & \\cdots & x_{mn} \\end{pmatrix}\n",
    "=\\begin{pmatrix} \n",
    "u_{11} & \\cdots & u_{1t} & \\cdots & u_{1m} \\\\ \n",
    "\\vdots & \\ddots & \\vdots & \\ddots & \\vdots \\\\ \n",
    "u_{m1} & \\cdots & u_{mt} & \\cdots & u_{mm} \n",
    "\\end{pmatrix}\n",
    "\\begin{pmatrix} \n",
    "\\sigma_1 & \\cdots & 0 & \\cdots & 0 \\\\ \n",
    "\\vdots & \\ddots & \\vdots & \\ddots & \\vdots \\\\ \n",
    "0 & \\cdots & \\sigma _{t} & \\cdots & 0 \\\\ \n",
    "\\vdots & \\ddots & \\vdots & \\ddots & \\vdots \\\\ \n",
    "0 & \\cdots & 0 & \\cdots & \\sigma _{n} \\\\ \n",
    "\\vdots & \\ddots & \\vdots & \\ddots & \\vdots \\\\ \n",
    "0 & \\cdots & 0 & \\cdots & 0\n",
    "\\end{pmatrix}\n",
    "\\begin{pmatrix} \n",
    "v_{11} & \\cdots & v_{1n} \\\\ \n",
    "\\vdots & \\ddots & \\vdots \\\\ \n",
    "v_{t1} & \\cdots & v_{tn} \\\\ \n",
    "\\vdots & \\ddots & \\vdots \\\\ \n",
    "v_{n1} & \\cdots & v_{nn} \n",
    "\\end{pmatrix}$$"
   ]
  },
  {
   "cell_type": "markdown",
   "id": "92448020",
   "metadata": {},
   "source": [
    "対角行列$\\mathrm{S}$には$\\mathrm{X}$の**特異値**が大きい順に並んでいる。\n",
    "（$\\sigma _{1}\\geqq \\sigma_{2} \\geqq \\cdots \\geqq \\sigma _{t} \\geqq \\cdots \\geqq \\sigma _{n}$）<br>\n",
    "小さい特異値は重要度は重要度が低いと解釈することができ、それを削ることで次元削減ができる。"
   ]
  },
  {
   "cell_type": "markdown",
   "id": "5f037281",
   "metadata": {},
   "source": [
    "$$\\mathrm{X'}=\\mathrm{U'}\\mathrm{S'}\\mathrm{V'}^{\\mathsf{T}}$$\n",
    "\n",
    "$$\\begin{pmatrix} x'_{11} & \\cdots & x'_{1t} \\\\ \n",
    "\\vdots & \\ddots & \\vdots \\\\ \n",
    "x'_{m1} & \\cdots & x'_{mt} \\end{pmatrix}\n",
    "=\\begin{pmatrix} \n",
    "u_{11} & \\cdots & u_{1t} \\\\ \n",
    "\\vdots & \\ddots & \\vdots \\\\ \n",
    "u_{m1} & \\cdots & u_{mt} \n",
    "\\end{pmatrix}\n",
    "\\begin{pmatrix} \n",
    "\\sigma_1 & \\cdots & 0 \\\\ \n",
    "\\vdots & \\ddots & \\vdots \\\\ \n",
    "0 & \\cdots & \\sigma _{t} \n",
    "\\end{pmatrix}\n",
    "\\begin{pmatrix} \n",
    "v_{11} & \\cdots & v_{1n} \\\\ \n",
    "\\vdots & \\ddots & \\vdots \\\\ \n",
    "v_{t1} & \\cdots & v_{tn} \n",
    "\\end{pmatrix}$$"
   ]
  },
  {
   "cell_type": "code",
   "execution_count": 20,
   "id": "8731337a",
   "metadata": {},
   "outputs": [
    {
     "name": "stdout",
     "output_type": "stream",
     "text": [
      "[0 1 0 0 0 0 0]\n",
      "[0.    1.807 0.    0.    0.    0.    0.   ]\n",
      "[ 3.409e-01  0.000e+00 -3.886e-16 -1.205e-01 -9.323e-01 -1.110e-16\n",
      "  1.958e-17]\n"
     ]
    },
    {
     "data": {
      "image/png": "[encoded data removed]",
      "text/plain": [
       "<Figure size 1800x1200 with 1 Axes>"
      ]
     },
     "metadata": {
      "needs_background": "light"
     },
     "output_type": "display_data"
    }
   ],
   "source": [
    "import matplotlib.pyplot as plt\n",
    "\n",
    "# SVD\n",
    "U, S, V = np.linalg.svd(W)\n",
    "\n",
    "np.set_printoptions(precision=3)  # 有効桁３桁で表示\n",
    "print(C[0]) # 共起行列\n",
    "print(W[0]) # PPMI\n",
    "print(U[0]) # SVD\n",
    "\n",
    "# plot\n",
    "plt.figure(dpi=300)\n",
    "for word, word_id in word_to_id.items():\n",
    "    plt.annotate(word, (U[word_id, 0], U[word_id, 1]))\n",
    "plt.scatter(U[:,0], U[:,1], alpha=0.5) # 2次元でプロット\n",
    "plt.show()"
   ]
  },
  {
   "cell_type": "markdown",
   "id": "4f8f8bb2",
   "metadata": {},
   "source": [
    "元は疎ベクトルであった`W[0]`が、SVDにより密ベクトル`U[0]`に変換された。なお「i」と「goodbye」は重なっている。<br>\n",
    "「you」と「i」、「hello」と「goodbye」は近い位置にあるが、コーパスが小さいため、完全なものではない。"
   ]
  },
  {
   "cell_type": "markdown",
   "id": "a4b2f609",
   "metadata": {},
   "source": [
    "## PTBデータセット"
   ]
  },
  {
   "cell_type": "markdown",
   "id": "ceeca49a",
   "metadata": {},
   "source": [
    "PTBコーパスは、大きなテキストデータに前処理を施したもの。"
   ]
  },
  {
   "cell_type": "code",
   "execution_count": 21,
   "id": "cca3884c",
   "metadata": {},
   "outputs": [
    {
     "name": "stdout",
     "output_type": "stream",
     "text": [
      "corpus size: 929589\n",
      "corpus[:30]: [ 0  1  2  3  4  5  6  7  8  9 10 11 12 13 14 15 16 17 18 19 20 21 22 23\n",
      " 24 25 26 27 28 29]\n",
      "\n",
      "id_to_word[0]: aer\n",
      "id_to_word[1]: banknote\n",
      "id_to_word[2]: berlitz\n",
      "\n",
      "word_to_id['car']: 3856\n",
      "word_to_id['happy']: 4428\n",
      "word_to_id['lexus']: 7426\n"
     ]
    }
   ],
   "source": [
    "from source.dataset02 import ptb\n",
    "\n",
    "\n",
    "corpus, word_to_id, id_to_word = ptb.load_data('train')\n",
    "\n",
    "print('corpus size:', len(corpus))\n",
    "print('corpus[:30]:', corpus[:30])\n",
    "print()\n",
    "print('id_to_word[0]:', id_to_word[0])\n",
    "print('id_to_word[1]:', id_to_word[1])\n",
    "print('id_to_word[2]:', id_to_word[2])\n",
    "print()\n",
    "print(\"word_to_id['car']:\", word_to_id['car'])\n",
    "print(\"word_to_id['happy']:\", word_to_id['happy'])\n",
    "print(\"word_to_id['lexus']:\", word_to_id['lexus'])\n"
   ]
  },
  {
   "cell_type": "markdown",
   "id": "b599d475",
   "metadata": {},
   "source": [
    "以下に関して、行列サイズを$N$とすると、SVDの計算は$O(N^3)$のオーダーになり、現実にこの計算は手に負えない。<br>\n",
    "乱数を使った**Truncated SVD**は、特異値の小さなものは切り捨てることで高速に処理する。"
   ]
  },
  {
   "cell_type": "code",
   "execution_count": 22,
   "id": "c631453c",
   "metadata": {},
   "outputs": [
    {
     "name": "stdout",
     "output_type": "stream",
     "text": [
      "counting  co-occurrence ...\n",
      "calculating PPMI ...\n",
      "calculating SVD ...\n",
      "\n",
      "[query] you\n",
      " i: 0.6654896140098572\n",
      " we: 0.6224803924560547\n",
      " 'll: 0.5646223425865173\n",
      " do: 0.49408894777297974\n",
      " 've: 0.4865986406803131\n",
      "\n",
      "[query] year\n",
      " month: 0.7092610597610474\n",
      " quarter: 0.6521949172019958\n",
      " last: 0.647617518901825\n",
      " next: 0.6154731512069702\n",
      " june: 0.6127574443817139\n",
      "\n",
      "[query] car\n",
      " auto: 0.6516356468200684\n",
      " luxury: 0.5925614237785339\n",
      " truck: 0.5495944619178772\n",
      " corsica: 0.5286393761634827\n",
      " cars: 0.507549524307251\n",
      "\n",
      "[query] toyota\n",
      " motor: 0.7405067682266235\n",
      " nissan: 0.7035253643989563\n",
      " lexus: 0.6457705497741699\n",
      " motors: 0.6235275268554688\n",
      " honda: 0.5970719456672668\n",
      "CPU times: user 7min 37s, sys: 8.18 s, total: 7min 45s\n",
      "Wall time: 7min 26s\n"
     ]
    }
   ],
   "source": [
    "%%time\n",
    "\n",
    "window_size = 2\n",
    "wordvec_size = 100\n",
    "\n",
    "corpus, word_to_id, id_to_word = ptb.load_data('train')\n",
    "vocab_size = len(word_to_id)\n",
    "print('counting  co-occurrence ...')\n",
    "C = create_co_matrix(corpus, vocab_size, window_size)\n",
    "print('calculating PPMI ...')\n",
    "W = ppmi(C)\n",
    "\n",
    "print('calculating SVD ...')\n",
    "try:\n",
    "    # truncated SVD (fast!)\n",
    "    from sklearn.utils.extmath import randomized_svd\n",
    "    U, S, V = randomized_svd(W, n_components=wordvec_size, n_iter=5,\n",
    "                             random_state=None)\n",
    "except ImportError:\n",
    "    # SVD (slow)\n",
    "    U, S, V = np.linalg.svd(W)\n",
    "\n",
    "word_vecs = U[:, :wordvec_size]\n",
    "\n",
    "querys = ['you', 'year', 'car', 'toyota']\n",
    "for query in querys:\n",
    "    most_similar(query, word_to_id, id_to_word, word_vecs, top=5)"
   ]
  },
  {
   "cell_type": "markdown",
   "id": "98d62e9f",
   "metadata": {},
   "source": [
    "人間の感覚に近い結果になり、単語の意味をベクトルにエンコードできたことになる。"
   ]
  },
  {
   "cell_type": "markdown",
   "id": "a09dbb3e",
   "metadata": {},
   "source": [
    "## 問題点"
   ]
  },
  {
   "cell_type": "markdown",
   "id": "0ab1b7c0",
   "metadata": {},
   "source": [
    "SVDは、$n\\times n$の行列に対し、$O(N^3)$の計算コストがかかる。<br>\n",
    "近似的な手法や、疎な行列の性質などの利用により、ある程度処理速度を向上させられたとしても、上のように多くの計算リソースと時間が必要。"
   ]
  },
  {
   "cell_type": "markdown",
   "id": "8f7b663e",
   "metadata": {},
   "source": [
    "# 推論ベースの手法"
   ]
  },
  {
   "cell_type": "markdown",
   "id": "db4282a9",
   "metadata": {},
   "source": [
    "学習データを一度にまとめて処理するカウントベースの手法と異なり、推論ベースの手法では、学習データの一部を逐次的に学習するため、ニューラルネットワークにおいてデータを小分けに学習したり、複数GPUの利用による並列計算も可能であり、学習を高速化できる。<br><br>\n",
    "単語をベクトルで表すと、ニューラルネットワークにおいて、さまざまなレイヤで処理ができるようになる。<br>\n",
    "ニューラルネットワークで、出現する単語を推測することを目的とし、副産物として単語の分散表現を得る。<br><br>\n",
    "word2veecには、**CBOWモデル**と**skip-gramモデル**の2つがある。"
   ]
  },
  {
   "cell_type": "markdown",
   "id": "2b0c4b1b",
   "metadata": {},
   "source": [
    "## CBOWモデルの仕組み"
   ]
  },
  {
   "cell_type": "markdown",
   "id": "15d5ff61",
   "metadata": {},
   "source": [
    "![](image/10_cbow.png)\n",
    "\n",
    "図のように、continuous bag-of-wordsと呼ばれるモデルは、複数の単語（コンテキスト）から一つの単語（ターゲット）を推測する。<br>\n",
    "$\\mathrm{W}_{\\mathrm{in}}$を単語の分散表現として利用する。"
   ]
  },
  {
   "cell_type": "markdown",
   "id": "f85f0df0",
   "metadata": {},
   "source": [
    "$w_{t-1}$と$w_{t+1}$が与えられたときに$w_t$が起こる確率は\n",
    "\n",
    "$$P\\left( w_t| w_{t-1},w_{t+1} \\right)$$\n",
    "\n",
    "これを交差エントロピー誤差に適用して\n",
    "\n",
    "$$L= -\\log P\\left( w_t| w_{t-1},w_{t+1} \\right)$$\n",
    "\n",
    "コーパス全体に拡張して（**負の対数尤度**）\n",
    "\n",
    "$$L=-\\dfrac{1}{T}\\sum ^{T}_{t=1}\\log P\\left( w_t| w_{t-1},w_{t+1} \\right) $$"
   ]
  },
  {
   "cell_type": "markdown",
   "id": "68b21151",
   "metadata": {},
   "source": [
    "### Embeddingレイヤ"
   ]
  },
  {
   "cell_type": "markdown",
   "id": "03d81d2b",
   "metadata": {},
   "source": [
    "以下は、全結合層による変換。"
   ]
  },
  {
   "cell_type": "code",
   "execution_count": 23,
   "id": "be5460ea",
   "metadata": {},
   "outputs": [
    {
     "data": {
      "text/plain": [
       "array([[-0.397, -0.058,  0.836]])"
      ]
     },
     "execution_count": 23,
     "metadata": {},
     "output_type": "execute_result"
    }
   ],
   "source": [
    "import numpy as np\n",
    "from source.common02.layers import MatMul\n",
    "\n",
    "c = np.array([[1, 0, 0, 0, 0, 0, 0]])\n",
    "W = np.random.randn(7, 3)\n",
    "layer = MatMul(W)\n",
    "h = layer.forward(c)\n",
    "h"
   ]
  },
  {
   "cell_type": "markdown",
   "id": "bfcb01ff",
   "metadata": {},
   "source": [
    "![](image/10_affine-embedding.png)\n",
    "\n",
    "この操作は、重みから行ベクトルを抜き出すだけであるから、行列計算をするのは非効率である。<br>\n",
    "以下のように、行列から行を抜き出す処理を簡単に行うレイヤを実装する。"
   ]
  },
  {
   "cell_type": "markdown",
   "id": "52f946da",
   "metadata": {},
   "source": [
    "**順伝播処理**<br>"
   ]
  },
  {
   "cell_type": "code",
   "execution_count": 24,
   "id": "d9fee4dc",
   "metadata": {},
   "outputs": [
    {
     "name": "stdout",
     "output_type": "stream",
     "text": [
      "[[ 0  1  2]\n",
      " [ 3  4  5]\n",
      " [ 6  7  8]\n",
      " [ 9 10 11]\n",
      " [12 13 14]\n",
      " [15 16 17]\n",
      " [18 19 20]]\n",
      "\n",
      "[[ 3  4  5]\n",
      " [ 0  1  2]\n",
      " [ 9 10 11]\n",
      " [ 0  1  2]]\n"
     ]
    }
   ],
   "source": [
    "W = np.arange(21).reshape(7, 3)\n",
    "idx = np.array([1, 0, 3, 0])\n",
    "print(W)\n",
    "print()\n",
    "print(W[idx])"
   ]
  },
  {
   "cell_type": "markdown",
   "id": "fbee42fc",
   "metadata": {},
   "source": [
    "**逆伝播処理**"
   ]
  },
  {
   "cell_type": "markdown",
   "id": "f51c816e",
   "metadata": {},
   "source": [
    "1. 重みの勾配を`dW`として取り出し、`dW`の形状を保ったまま要素を0で上書きする。\n",
    "2. 前層から伝わる勾配`dout`を、`idx`で指定された行に代入する。\n",
    "3. `idx`の要素が重複する場合、重複するどちらかの値が上書きされてしまうことを防ぐため、`dh`の各行の値を`dW`の対応する行に加算。"
   ]
  },
  {
   "cell_type": "code",
   "execution_count": 25,
   "id": "b293cdf8",
   "metadata": {},
   "outputs": [],
   "source": [
    "class Embedding:\n",
    "    def __init__(self, W):\n",
    "        self.params = [W]\n",
    "        self.grads = [np.zeros_like(W)]\n",
    "        self.idx = None\n",
    "\n",
    "    def forward(self, idx):\n",
    "        W, = self.params\n",
    "        self.idx = idx\n",
    "        out = W[idx]\n",
    "        return out\n",
    "\n",
    "    def backward(self, dout):\n",
    "        dW, = self.grads\n",
    "        dW[...] = 0\n",
    "        np.add.at(dW, self.idx, dout)\n",
    "        return None"
   ]
  },
  {
   "cell_type": "markdown",
   "id": "71ad1cbe",
   "metadata": {},
   "source": [
    "### Embedding Dotレイヤ"
   ]
  },
  {
   "cell_type": "markdown",
   "id": "f0df5b63",
   "metadata": {},
   "source": [
    "出力層において、すべての単語を対象に確率を求める計算を行う（多値分類）と、計算が多くなる。<br>\n",
    "そのため、正解の単語には正解ラベル1を設定し、間違いの単語には正解ラベル0を与え、計算量を減らす（二値分類）。"
   ]
  },
  {
   "cell_type": "code",
   "execution_count": 26,
   "id": "51cb4cfb",
   "metadata": {},
   "outputs": [],
   "source": [
    "class EmbeddingDot:\n",
    "    def __init__(self, W):\n",
    "        self.embed = Embedding(W)\n",
    "        self.params = self.embed.params\n",
    "        self.grads = self.embed.grads\n",
    "        self.cache = None\n",
    "\n",
    "    def forward(self, h, idx):\n",
    "        target_W = self.embed.forward(idx) # idxを呼ぶ\n",
    "        out = np.sum(target_W * h, axis=1) # 内積計算\n",
    "\n",
    "        self.cache = (h, target_W)\n",
    "        return out\n",
    "\n",
    "    def backward(self, dout):\n",
    "        h, target_W = self.cache\n",
    "        dout = dout.reshape(dout.shape[0], 1)\n",
    "\n",
    "        dtarget_W = dout * h\n",
    "        self.embed.backward(dtarget_W)\n",
    "        dh = dout * target_W\n",
    "        return dh"
   ]
  },
  {
   "cell_type": "markdown",
   "id": "75fa1e01",
   "metadata": {},
   "source": [
    "### Negative Sampling"
   ]
  },
  {
   "cell_type": "markdown",
   "id": "f21980b3",
   "metadata": {},
   "source": [
    "計算量を減らすため、間違った単語の例を少数サンプリングし、それには正解ラベルとして0を与え学習させる。<br>\n",
    "その際、コーパスの単語の出現頻度を確立分布で表し、多く登場する単語をカバーする。"
   ]
  },
  {
   "cell_type": "markdown",
   "id": "d65308fb",
   "metadata": {},
   "source": [
    "#### 確立分布の作成"
   ]
  },
  {
   "cell_type": "markdown",
   "id": "acdc53fe",
   "metadata": {},
   "source": [
    "$$P'\\left( w_{i}\\right) =\\dfrac{P\\left( w_{i}\\right) ^{0.75}}{\\sum ^{n}_{j}P\\left( w_{i}\\right) ^{0.75}}$$\n",
    "$P(w_i)$は、$i$番目の単語の確率"
   ]
  },
  {
   "cell_type": "code",
   "execution_count": 27,
   "id": "efe24b64",
   "metadata": {},
   "outputs": [
    {
     "name": "stdout",
     "output_type": "stream",
     "text": [
      "[0.642 0.332 0.027]\n"
     ]
    }
   ],
   "source": [
    "p = [0.7, 0.29, 0.01]\n",
    "new_p = np.power(p, 0.75)\n",
    "new_p /= np.sum(new_p)\n",
    "print(new_p)"
   ]
  },
  {
   "cell_type": "markdown",
   "id": "527e6442",
   "metadata": {},
   "source": [
    "0.75乗をすることで、確率の低い単語が少しサンプリングされやすくなる。以下で、負例のサンプリングを行うクラスを実装する。"
   ]
  },
  {
   "cell_type": "code",
   "execution_count": 28,
   "id": "746e80e8",
   "metadata": {},
   "outputs": [],
   "source": [
    "from source.common02.np import *  # import numpy as np\n",
    "import collections\n",
    "\n",
    "class UnigramSampler:\n",
    "    def __init__(self, corpus, power, sample_size):\n",
    "        self.sample_size = sample_size\n",
    "        self.vocab_size = None\n",
    "        self.word_p = None\n",
    "\n",
    "        counts = collections.Counter()\n",
    "        for word_id in corpus:\n",
    "            counts[word_id] += 1\n",
    "\n",
    "        vocab_size = len(counts)\n",
    "        self.vocab_size = vocab_size\n",
    "\n",
    "        self.word_p = np.zeros(vocab_size)\n",
    "        for i in range(vocab_size):\n",
    "            self.word_p[i] = counts[i]\n",
    "\n",
    "        self.word_p = np.power(self.word_p, power)\n",
    "        self.word_p /= np.sum(self.word_p)\n",
    "\n",
    "    def get_negative_sample(self, target):\n",
    "        batch_size = target.shape[0]\n",
    "\n",
    "        if not GPU:\n",
    "            negative_sample = np.zeros((batch_size, self.sample_size), dtype=np.int32)\n",
    "\n",
    "            for i in range(batch_size):\n",
    "                p = self.word_p.copy()\n",
    "                target_idx = target[i]\n",
    "                p[target_idx] = 0\n",
    "                p /= p.sum()\n",
    "                negative_sample[i, :] = np.random.choice(self.vocab_size, size=self.sample_size, replace=False, p=p)\n",
    "        else:\n",
    "            # GPU(cupy）で計算するときは、速度を優先\n",
    "            # 負例にターゲットが含まれるケースがある\n",
    "            negative_sample = np.random.choice(self.vocab_size, size=(batch_size, self.sample_size),\n",
    "                                               replace=True, p=self.word_p)\n",
    "\n",
    "        return negative_sample"
   ]
  },
  {
   "cell_type": "markdown",
   "id": "e273a213",
   "metadata": {},
   "source": [
    "以下は、それぞれのデータに対し、負例として2つのサンプリングを行う例。"
   ]
  },
  {
   "cell_type": "code",
   "execution_count": 29,
   "id": "b8752679",
   "metadata": {},
   "outputs": [
    {
     "name": "stdout",
     "output_type": "stream",
     "text": [
      "[[0 4]\n",
      " [2 4]\n",
      " [4 2]]\n"
     ]
    }
   ],
   "source": [
    "corpus = np.array([0, 1, 2, 3, 4, 1, 2, 3])\n",
    "power = 0.75\n",
    "sample_size = 2\n",
    "\n",
    "sampler = UnigramSampler(corpus, power, sample_size)\n",
    "target = np.array([1, 3, 0])\n",
    "negative_sample = sampler.get_negative_sample(target)\n",
    "print(negative_sample)"
   ]
  },
  {
   "cell_type": "markdown",
   "id": "70b6000b",
   "metadata": {},
   "source": [
    "#### 実装"
   ]
  },
  {
   "cell_type": "code",
   "execution_count": 30,
   "id": "b4d8fd62",
   "metadata": {},
   "outputs": [],
   "source": [
    "from source.common02.layers import SigmoidWithLoss\n",
    "\n",
    "class NegativeSamplingLoss:\n",
    "    def __init__(self, W, corpus, power=0.75, sample_size=5):\n",
    "        self.sample_size = sample_size\n",
    "        self.sampler = UnigramSampler(corpus, power, sample_size)\n",
    "        self.loss_layers = [SigmoidWithLoss() for _ in range(sample_size + 1)] # 正例用レイヤを1つ、負例用をsample_size個\n",
    "        self.embed_dot_layers = [EmbeddingDot(W) for _ in range(sample_size + 1)]\n",
    "\n",
    "        self.params, self.grads = [], []\n",
    "        for layer in self.embed_dot_layers:\n",
    "            self.params += layer.params\n",
    "            self.grads += layer.grads\n",
    "\n",
    "    def forward(self, h, target): # 中間層のニューロンh、正例ターゲットtarget\n",
    "        batch_size = target.shape[0]\n",
    "        negative_sample = self.sampler.get_negative_sample(target) # 負例のサンプリング\n",
    "\n",
    "        # 正例のフォワード\n",
    "        score = self.embed_dot_layers[0].forward(h, target)\n",
    "        correct_label = np.ones(batch_size, dtype=np.int32)\n",
    "        loss = self.loss_layers[0].forward(score, correct_label)\n",
    "\n",
    "        # 負例のフォワード\n",
    "        negative_label = np.zeros(batch_size, dtype=np.int32)\n",
    "        for i in range(self.sample_size):\n",
    "            negative_target = negative_sample[:, i]\n",
    "            score = self.embed_dot_layers[1 + i].forward(h, negative_target)\n",
    "            loss += self.loss_layers[1 + i].forward(score, negative_label)\n",
    "\n",
    "        return loss\n",
    "\n",
    "    def backward(self, dout=1):\n",
    "        dh = 0\n",
    "        for l0, l1 in zip(self.loss_layers, self.embed_dot_layers):\n",
    "            dscore = l0.backward(dout)\n",
    "            dh += l1.backward(dscore)\n",
    "\n",
    "        return dh"
   ]
  },
  {
   "cell_type": "markdown",
   "id": "36544bfb",
   "metadata": {},
   "source": [
    "## CBOWモデルの実装"
   ]
  },
  {
   "cell_type": "markdown",
   "id": "e5687ec5",
   "metadata": {},
   "source": [
    "### 学習データの準備"
   ]
  },
  {
   "cell_type": "markdown",
   "id": "e9020386",
   "metadata": {},
   "source": [
    "コーパス（corpus）を与えると、コンテキスト（contexts）とターゲット（target）を返し、one-hot表現に変換する処理を実装する。"
   ]
  },
  {
   "cell_type": "code",
   "execution_count": 31,
   "id": "868fbab4",
   "metadata": {},
   "outputs": [],
   "source": [
    "def create_contexts_target(corpus, window_size=1):\n",
    "    \n",
    "    target = corpus[window_size:-window_size]\n",
    "    contexts = []\n",
    "\n",
    "    for idx in range(window_size, len(corpus)-window_size):\n",
    "        cs = []\n",
    "        for t in range(-window_size, window_size + 1):\n",
    "            if t == 0:\n",
    "                continue\n",
    "            cs.append(corpus[idx + t])\n",
    "        contexts.append(cs)\n",
    "\n",
    "    return np.array(contexts), np.array(target)"
   ]
  },
  {
   "cell_type": "code",
   "execution_count": 32,
   "id": "f7823a1e",
   "metadata": {},
   "outputs": [],
   "source": [
    "def convert_one_hot(corpus, vocab_size):\n",
    "  \n",
    "    N = corpus.shape[0]\n",
    "\n",
    "    if corpus.ndim == 1:\n",
    "        one_hot = np.zeros((N, vocab_size), dtype=np.int32)\n",
    "        for idx, word_id in enumerate(corpus):\n",
    "            one_hot[idx, word_id] = 1\n",
    "\n",
    "    elif corpus.ndim == 2:\n",
    "        C = corpus.shape[1]\n",
    "        one_hot = np.zeros((N, C, vocab_size), dtype=np.int32)\n",
    "        for idx_0, word_ids in enumerate(corpus):\n",
    "            for idx_1, word_id in enumerate(word_ids):\n",
    "                one_hot[idx_0, idx_1, word_id] = 1\n",
    "\n",
    "    return one_hot"
   ]
  },
  {
   "cell_type": "code",
   "execution_count": 33,
   "id": "e2266a09",
   "metadata": {},
   "outputs": [],
   "source": [
    "contexts, target = create_contexts_target(corpus, window_size=1)\n",
    "vocab_size = len(word_to_id)\n",
    "target = convert_one_hot(target, vocab_size)\n",
    "contexts = convert_one_hot(contexts, vocab_size)"
   ]
  },
  {
   "cell_type": "markdown",
   "id": "0236dc9b",
   "metadata": {},
   "source": [
    "### CBOWクラスの実装"
   ]
  },
  {
   "cell_type": "code",
   "execution_count": 34,
   "id": "ed98580c",
   "metadata": {
    "code_folding": []
   },
   "outputs": [],
   "source": [
    "class CBOW:\n",
    "    def __init__(self, vocab_size, hidden_size, window_size, corpus):\n",
    "        V, H = vocab_size, hidden_size\n",
    "\n",
    "        # 重みの初期化\n",
    "        W_in = 0.01 * np.random.randn(V, H).astype('f')\n",
    "        W_out = 0.01 * np.random.randn(V, H).astype('f')\n",
    "\n",
    "        # レイヤの生成\n",
    "        self.in_layers = []\n",
    "        for i in range(2 * window_size):\n",
    "            layer = Embedding(W_in)  # Embeddingレイヤを使用\n",
    "            self.in_layers.append(layer)\n",
    "        self.ns_loss = NegativeSamplingLoss(W_out, corpus, power=0.75, sample_size=5)\n",
    "\n",
    "        # すべての重みと勾配をリストにまとめる\n",
    "        layers = self.in_layers + [self.ns_loss]\n",
    "        self.params, self.grads = [], []\n",
    "        for layer in layers:\n",
    "            self.params += layer.params\n",
    "            self.grads += layer.grads\n",
    "\n",
    "        # メンバ変数に単語の分散表現を設定\n",
    "        self.word_vecs = W_in\n",
    "\n",
    "    def forward(self, contexts, target):\n",
    "        h = 0\n",
    "        for i, layer in enumerate(self.in_layers):\n",
    "            h += layer.forward(contexts[:, i])\n",
    "        h *= 1 / len(self.in_layers)\n",
    "        loss = self.ns_loss.forward(h, target)\n",
    "        return loss\n",
    "\n",
    "    def backward(self, dout=1):\n",
    "        dout = self.ns_loss.backward(dout)\n",
    "        dout *= 1 / len(self.in_layers)\n",
    "        for layer in self.in_layers:\n",
    "            layer.backward(dout)\n",
    "        return None"
   ]
  },
  {
   "cell_type": "markdown",
   "id": "b1444cb7",
   "metadata": {},
   "source": [
    "### 学習の実装"
   ]
  },
  {
   "cell_type": "code",
   "execution_count": 44,
   "id": "32d86301",
   "metadata": {
    "scrolled": false
   },
   "outputs": [
    {
     "data": {
      "image/png": "[encoded data removed]",
      "text/plain": [
       "<Figure size 432x288 with 1 Axes>"
      ]
     },
     "metadata": {
      "needs_background": "light"
     },
     "output_type": "display_data"
    }
   ],
   "source": [
    "import pickle\n",
    "from source.common02 import config\n",
    "from source.common02.np import *\n",
    "from source.common02.trainer2 import Trainer2\n",
    "from source.common02.optimizer import Adam\n",
    "from source.common02.util import to_cpu\n",
    "from source.dataset02 import ptb\n",
    "\n",
    "\n",
    "# ハイパーパラメータの設定\n",
    "window_size = 5\n",
    "hidden_size = 100\n",
    "batch_size = 100\n",
    "max_epoch = 10\n",
    "\n",
    "# データの読み込み\n",
    "corpus, word_to_id, id_to_word = ptb.load_data('train')\n",
    "vocab_size = len(word_to_id)\n",
    "\n",
    "contexts, target = create_contexts_target(corpus, window_size)\n",
    "\n",
    "# モデルなどの生成\n",
    "model = CBOW(vocab_size, hidden_size, window_size, corpus)\n",
    "optimizer = Adam()\n",
    "trainer = Trainer2(model, optimizer)\n",
    "\n",
    "# 学習開始\n",
    "trainer.fit(contexts, target, max_epoch, batch_size)\n",
    "trainer.plot()\n",
    "\n",
    "# 後ほど利用できるように、必要なデータを保存\n",
    "word_vecs = model.word_vecs\n",
    "\n",
    "params = {}\n",
    "params['word_vecs'] = word_vecs.astype(np.float16)\n",
    "params['word_to_id'] = word_to_id\n",
    "params['id_to_word'] = id_to_word\n",
    "pkl_file = 'pickle/cbow_params.pkl'\n",
    "with open(pkl_file, 'wb') as f:\n",
    "    pickle.dump(params, f, -1)"
   ]
  },
  {
   "cell_type": "markdown",
   "id": "535238fc",
   "metadata": {},
   "source": [
    "学習ごとに損失が小さくなっている。"
   ]
  },
  {
   "cell_type": "markdown",
   "id": "593b22dd",
   "metadata": {},
   "source": [
    "### モデルの評価"
   ]
  },
  {
   "cell_type": "code",
   "execution_count": 45,
   "id": "25bdd33a",
   "metadata": {},
   "outputs": [
    {
     "name": "stdout",
     "output_type": "stream",
     "text": [
      "\n",
      "[query] you\n",
      " we: 0.7314453125\n",
      " i: 0.71533203125\n",
      " your: 0.61181640625\n",
      " they: 0.6044921875\n",
      " anything: 0.556640625\n",
      "\n",
      "[query] year\n",
      " month: 0.86279296875\n",
      " week: 0.7783203125\n",
      " spring: 0.76708984375\n",
      " summer: 0.76123046875\n",
      " decade: 0.7041015625\n",
      "\n",
      "[query] car\n",
      " truck: 0.615234375\n",
      " luxury: 0.60498046875\n",
      " auto: 0.5986328125\n",
      " window: 0.59375\n",
      " cars: 0.54736328125\n",
      "\n",
      "[query] toyota\n",
      " honda: 0.6396484375\n",
      " mazda: 0.6142578125\n",
      " seita: 0.6083984375\n",
      " nissan: 0.6005859375\n",
      " motor: 0.6005859375\n"
     ]
    }
   ],
   "source": [
    "pkl_file = 'pickle/cbow_params.pkl'\n",
    "\n",
    "with open(pkl_file, 'rb') as f:\n",
    "    params = pickle.load(f)\n",
    "    word_vecs = params['word_vecs']\n",
    "    word_to_id = params['word_to_id']\n",
    "    id_to_word = params['id_to_word']\n",
    "    \n",
    "querys = ['you', 'year', 'car', 'toyota']\n",
    "for query in querys:\n",
    "    most_similar(query, word_to_id, id_to_word, word_vecs, top=5)"
   ]
  },
  {
   "cell_type": "markdown",
   "id": "19dfb9b2",
   "metadata": {},
   "source": [
    "ベクトルの類似度が高い単語が、人間の感覚とほぼ合っている。"
   ]
  },
  {
   "cell_type": "code",
   "execution_count": 46,
   "id": "ab5a74ba",
   "metadata": {},
   "outputs": [],
   "source": [
    "def normalize(x):\n",
    "    if x.ndim == 2:\n",
    "        s = np.sqrt((x * x).sum(1))\n",
    "        x /= s.reshape((s.shape[0], 1))\n",
    "    elif x.ndim == 1:\n",
    "        s = np.sqrt((x * x).sum())\n",
    "        x /= s\n",
    "    return x"
   ]
  },
  {
   "cell_type": "code",
   "execution_count": 47,
   "id": "afe1b93d",
   "metadata": {},
   "outputs": [],
   "source": [
    "def analogy(a, b, c, word_to_id, id_to_word, word_matrix, top=5, answer=None):\n",
    "    for word in (a, b, c):\n",
    "        if word not in word_to_id:\n",
    "            print('%s is not found' % word)\n",
    "            return\n",
    "\n",
    "    print('\\n[analogy] ' + a + ':' + b + ' = ' + c + ':?')\n",
    "    a_vec, b_vec, c_vec = word_matrix[word_to_id[a]], word_matrix[word_to_id[b]], word_matrix[word_to_id[c]]\n",
    "    query_vec = b_vec - a_vec + c_vec\n",
    "    query_vec = normalize(query_vec)\n",
    "\n",
    "    similarity = np.dot(word_matrix, query_vec)\n",
    "\n",
    "    if answer is not None:\n",
    "        print(\"==>\" + answer + \":\" + str(np.dot(word_matrix[word_to_id[answer]], query_vec)))\n",
    "\n",
    "    count = 0\n",
    "    for i in (-1 * similarity).argsort():\n",
    "        if np.isnan(similarity[i]):\n",
    "            continue\n",
    "        if id_to_word[i] in (a, b, c):\n",
    "            continue\n",
    "        print(' {0}: {1}'.format(id_to_word[i], similarity[i]))\n",
    "\n",
    "        count += 1\n",
    "        if count >= top:\n",
    "            return"
   ]
  },
  {
   "cell_type": "code",
   "execution_count": 48,
   "id": "627e12ce",
   "metadata": {},
   "outputs": [
    {
     "name": "stdout",
     "output_type": "stream",
     "text": [
      "\n",
      "[analogy] king:man = queen:?\n",
      " woman: 5.375\n",
      " a.m: 5.14453125\n",
      " naczelnik: 4.96484375\n",
      " kid: 4.9140625\n",
      " hacker: 4.8359375\n",
      "\n",
      "[analogy] take:took = go:?\n",
      " went: 4.65234375\n",
      " eurodollars: 4.53125\n",
      " 're: 4.38671875\n",
      " came: 4.28515625\n",
      " a.m: 4.01171875\n",
      "\n",
      "[analogy] car:cars = child:?\n",
      " a.m: 6.3828125\n",
      " children: 5.62109375\n",
      " rape: 5.578125\n",
      " incest: 5.08984375\n",
      " adults: 4.71484375\n",
      "\n",
      "[analogy] good:better = bad:?\n",
      " rather: 6.1171875\n",
      " more: 5.6640625\n",
      " less: 5.5703125\n",
      " greater: 4.1171875\n",
      " worse: 3.814453125\n"
     ]
    }
   ],
   "source": [
    "analogy('king', 'man', 'queen',  word_to_id, id_to_word, word_vecs)\n",
    "analogy('take', 'took', 'go',  word_to_id, id_to_word, word_vecs)\n",
    "analogy('car', 'cars', 'child',  word_to_id, id_to_word, word_vecs)\n",
    "analogy('good', 'better', 'bad',  word_to_id, id_to_word, word_vecs)"
   ]
  },
  {
   "cell_type": "markdown",
   "id": "5b5d859f",
   "metadata": {},
   "source": [
    "ベクトルの加減算で、類推問題（アナロジー問題）を完璧ではないが、解くことができ、単語の性質を単語の分散表現にエンコードできたといえる。<br>\n",
    "この類推問題の結果を、人間の感覚に基づいて採点し、単語の分散表現の精度とするのが一般的。"
   ]
  },
  {
   "cell_type": "markdown",
   "id": "be507428",
   "metadata": {},
   "source": [
    "## skip-gramモデルの仕組み"
   ]
  },
  {
   "cell_type": "markdown",
   "id": "f6bb767f",
   "metadata": {},
   "source": [
    "![](image/10_skip-gram.png)\n",
    "\n",
    "skip-gramモデルはCBOWとは反対に、1つのターゲットから周りのコンテキストを推測する。<br>\n",
    "一般に、単語の分散表現の精度については、CBOWモデルよりもskip-gramモデルの方が優れている。一方学習速度はCBOWの方が高速。"
   ]
  },
  {
   "cell_type": "markdown",
   "id": "973df9d0",
   "metadata": {},
   "source": [
    "$w_t$が与えられたときに$w_{t-1}$と$w_{t+1}$が同時に起こる確率は\n",
    "\n",
    "$$P\\left( w_{t-1},w_{t+1}| w_t\\right)=P\\left( w_{t-1}| w_t\\right)P\\left( w_{t+1}| w_t\\right)$$\n",
    "\n",
    "これを交差エントロピー誤差に適用して\n",
    "\n",
    "$$\\begin{align}\n",
    "L\n",
    "&= -\\log P\\left( w_{t-1},w_{t+1}| w_t\\right) \\\\\\\\\n",
    "&= -\\log P\\left( w_{t-1}| w_{t}\\right) P\\left( w_{t+1}| w_{t}\\right) \\\\\\\\\n",
    "&= -\\left\\{ \\log P\\left( w_{t-1}| w_{t}\\right) +\\log P\\left( w_{t+1}| w_{t}\\right) \\right\\} \n",
    "\\end{align}$$\n",
    "\n",
    "コーパス全体に拡張して\n",
    "\n",
    "$$L=-\\dfrac{1}{T}\\sum ^{T}_{t=1}\\left\\{ \\log P\\left( w_{t-1}| w_{t}\\right) +\\log P\\left( w_{t+1}| w_{t}\\right) \\right\\} $$\n",
    "\n"
   ]
  },
  {
   "cell_type": "markdown",
   "id": "1fdd9b0e",
   "metadata": {},
   "source": [
    "skip-gramモデルではコンテキストの数だけ推測するため、損失関数は各コンテキストで求めた損失の総和を計算する。"
   ]
  },
  {
   "cell_type": "markdown",
   "id": "b12bbd7c",
   "metadata": {},
   "source": [
    "## skip-gramモデルの実装"
   ]
  },
  {
   "cell_type": "markdown",
   "id": "217bc9b2",
   "metadata": {},
   "source": [
    "基本的にCBOWモデルと同じ処理フロー。"
   ]
  },
  {
   "cell_type": "code",
   "execution_count": 49,
   "id": "2d5574b6",
   "metadata": {},
   "outputs": [],
   "source": [
    "class SkipGram:\n",
    "    def __init__(self, vocab_size, hidden_size, window_size, corpus):\n",
    "        V, H = vocab_size, hidden_size\n",
    "        rn = np.random.randn\n",
    "\n",
    "        # 重みの初期化\n",
    "        W_in = 0.01 * rn(V, H).astype('f')\n",
    "        W_out = 0.01 * rn(V, H).astype('f')\n",
    "\n",
    "        # レイヤの生成\n",
    "        self.in_layer = Embedding(W_in)\n",
    "        self.loss_layers = []\n",
    "        for i in range(2 * window_size):\n",
    "            layer = NegativeSamplingLoss(W_out, corpus, power=0.75, sample_size=5)\n",
    "            self.loss_layers.append(layer)\n",
    "\n",
    "        # すべての重みと勾配をリストにまとめる\n",
    "        layers = [self.in_layer] + self.loss_layers\n",
    "        self.params, self.grads = [], []\n",
    "        for layer in layers:\n",
    "            self.params += layer.params\n",
    "            self.grads += layer.grads\n",
    "\n",
    "        # メンバ変数に単語の分散表現を設定\n",
    "        self.word_vecs = W_in\n",
    "\n",
    "    def forward(self, contexts, target):\n",
    "        h = self.in_layer.forward(target)\n",
    "\n",
    "        loss = 0\n",
    "        for i, layer in enumerate(self.loss_layers):\n",
    "            loss += layer.forward(h, contexts[:, i])\n",
    "        return loss\n",
    "\n",
    "    def backward(self, dout=1):\n",
    "        dh = 0\n",
    "        for i, layer in enumerate(self.loss_layers):\n",
    "            dh += layer.backward(dout)\n",
    "        self.in_layer.backward(dh)\n",
    "        return None"
   ]
  },
  {
   "cell_type": "code",
   "execution_count": 50,
   "id": "5c393f42",
   "metadata": {},
   "outputs": [
    {
     "data": {
      "image/png": "[encoded data removed]",
      "text/plain": [
       "<Figure size 432x288 with 1 Axes>"
      ]
     },
     "metadata": {
      "needs_background": "light"
     },
     "output_type": "display_data"
    }
   ],
   "source": [
    "import pickle\n",
    "from source.common02 import config\n",
    "from source.common02.np import *\n",
    "from source.common02.trainer2 import Trainer2\n",
    "from source.common02.optimizer import Adam\n",
    "from source.common02.util import to_cpu\n",
    "from source.dataset02 import ptb\n",
    "\n",
    "\n",
    "# ハイパーパラメータの設定\n",
    "window_size = 5\n",
    "hidden_size = 100\n",
    "batch_size = 100\n",
    "max_epoch = 10\n",
    "\n",
    "# データの読み込み\n",
    "corpus, word_to_id, id_to_word = ptb.load_data('train')\n",
    "vocab_size = len(word_to_id)\n",
    "\n",
    "contexts, target = create_contexts_target(corpus, window_size)\n",
    "\n",
    "# モデルなどの生成\n",
    "model = SkipGram(vocab_size, hidden_size, window_size, corpus)\n",
    "optimizer = Adam()\n",
    "trainer = Trainer2(model, optimizer)\n",
    "\n",
    "# 学習開始\n",
    "trainer.fit(contexts, target, max_epoch, batch_size)\n",
    "trainer.plot()\n",
    "\n",
    "# 後ほど利用できるように、必要なデータを保存\n",
    "word_vecs = model.word_vecs\n",
    "\n",
    "params = {}\n",
    "params['word_vecs'] = word_vecs.astype(np.float16)\n",
    "params['word_to_id'] = word_to_id\n",
    "params['id_to_word'] = id_to_word\n",
    "pkl_file = 'pickle/skipgram_params.pkl'\n",
    "with open(pkl_file, 'wb') as f:\n",
    "    pickle.dump(params, f, -1)"
   ]
  },
  {
   "cell_type": "code",
   "execution_count": 51,
   "id": "7de303e2",
   "metadata": {
    "scrolled": false
   },
   "outputs": [
    {
     "name": "stdout",
     "output_type": "stream",
     "text": [
      "\n",
      "[query] you\n",
      " i: 0.6748046875\n",
      " your: 0.66162109375\n",
      " somebody: 0.6337890625\n",
      " yourself: 0.625\n",
      " we: 0.62158203125\n",
      "\n",
      "[query] year\n",
      " earlier: 0.61474609375\n",
      " month: 0.5830078125\n",
      " week: 0.57958984375\n",
      " quarter: 0.5205078125\n",
      " period: 0.5048828125\n",
      "\n",
      "[query] car\n",
      " cars: 0.66357421875\n",
      " truck: 0.55712890625\n",
      " luxury: 0.55078125\n",
      " mazda: 0.5302734375\n",
      " motor: 0.5224609375\n",
      "\n",
      "[query] toyota\n",
      " motor: 0.66552734375\n",
      " honda: 0.65771484375\n",
      " lexus: 0.65185546875\n",
      " infiniti: 0.64794921875\n",
      " chevrolet: 0.640625\n"
     ]
    }
   ],
   "source": [
    "pkl_file = 'pickle/skipgram_params.pkl'\n",
    "\n",
    "with open(pkl_file, 'rb') as f:\n",
    "    params = pickle.load(f)\n",
    "    word_vecs = params['word_vecs']\n",
    "    word_to_id = params['word_to_id']\n",
    "    id_to_word = params['id_to_word']\n",
    "    \n",
    "querys = ['you', 'year', 'car', 'toyota']\n",
    "for query in querys:\n",
    "    most_similar(query, word_to_id, id_to_word, word_vecs, top=5)"
   ]
  },
  {
   "cell_type": "code",
   "execution_count": 52,
   "id": "31e348d3",
   "metadata": {
    "scrolled": false
   },
   "outputs": [
    {
     "name": "stdout",
     "output_type": "stream",
     "text": [
      "\n",
      "[analogy] king:man = queen:?\n",
      " mystery: 1.7685546875\n",
      " neglected: 1.7021484375\n",
      " murdered: 1.6962890625\n",
      " discarded: 1.6689453125\n",
      " lady: 1.638671875\n",
      "\n",
      "[analogy] take:took = eat:?\n",
      " yards: 1.8837890625\n",
      " clothes: 1.8759765625\n",
      " wore: 1.87109375\n",
      " sang: 1.703125\n",
      " tall: 1.673828125\n",
      "\n",
      "[analogy] book:books = car:?\n",
      " chevrolet: 1.78125\n",
      " mortgage: 1.73828125\n",
      " beretta: 1.732421875\n",
      " rental: 1.5703125\n",
      " honda: 1.5693359375\n",
      "\n",
      "[analogy] good:better = bad:?\n",
      " burned: 1.6591796875\n",
      " worse: 1.599609375\n",
      " comparable: 1.5927734375\n",
      " impressive: 1.48046875\n",
      " diversification: 1.478515625\n"
     ]
    }
   ],
   "source": [
    "analogy('king', 'man', 'queen',  word_to_id, id_to_word, word_vecs)\n",
    "analogy('take', 'took', 'eat',  word_to_id, id_to_word, word_vecs)\n",
    "analogy('book', 'books', 'car',  word_to_id, id_to_word, word_vecs)\n",
    "analogy('good', 'better', 'bad',  word_to_id, id_to_word, word_vecs)"
   ]
  },
  {
   "cell_type": "markdown",
   "id": "0ea64c78",
   "metadata": {},
   "source": [
    "得られた単語の分散表現はあまり正確でないと推測できる。"
   ]
  }
 ],
 "metadata": {
  "kernelspec": {
   "display_name": "Python 3",
   "language": "python",
   "name": "python3"
  },
  "language_info": {
   "codemirror_mode": {
    "name": "ipython",
    "version": 3
   },
   "file_extension": ".py",
   "mimetype": "text/x-python",
   "name": "python",
   "nbconvert_exporter": "python",
   "pygments_lexer": "ipython3",
   "version": "3.8.8"
  },
  "toc": {
   "base_numbering": 1,
   "nav_menu": {},
   "number_sections": true,
   "sideBar": true,
   "skip_h1_title": false,
   "title_cell": "Table of Contents",
   "title_sidebar": "Contents",
   "toc_cell": false,
   "toc_position": {
    "height": "calc(100% - 180px)",
    "left": "10px",
    "top": "150px",
    "width": "262px"
   },
   "toc_section_display": true,
   "toc_window_display": true
  }
 },
 "nbformat": 4,
 "nbformat_minor": 5
}
