{
 "cells": [
  {
   "cell_type": "markdown",
   "id": "017200ee",
   "metadata": {},
   "source": [
    "# ディープラーニングとは"
   ]
  },
  {
   "cell_type": "markdown",
   "id": "848fee47",
   "metadata": {},
   "source": [
    "層を深くしたニューラルネットワーク。CNNやパラメータの最適化手法などは重要な技術。<br>\n",
    "以下は、学習済みのパタメータを利用して実装したもの。"
   ]
  },
  {
   "cell_type": "code",
   "execution_count": 6,
   "id": "6dda349f",
   "metadata": {},
   "outputs": [],
   "source": [
    "import pickle\n",
    "import numpy as np\n",
    "from collections import OrderedDict\n",
    "from common.layers import *\n",
    "\n",
    "\n",
    "class DeepConvNet:\n",
    "    \"\"\"認識率99%以上の高精度なConvNet\n",
    "\n",
    "    ネットワーク構成は下記の通り\n",
    "        conv - relu - conv- relu - pool -\n",
    "        conv - relu - conv- relu - pool -\n",
    "        conv - relu - conv- relu - pool -\n",
    "        affine - relu - dropout - affine - dropout - softmax\n",
    "    \"\"\"\n",
    "    def __init__(self, input_dim=(1, 28, 28),\n",
    "                 conv_param_1 = {'filter_num':16, 'filter_size':3, 'pad':1, 'stride':1},\n",
    "                 conv_param_2 = {'filter_num':16, 'filter_size':3, 'pad':1, 'stride':1},\n",
    "                 conv_param_3 = {'filter_num':32, 'filter_size':3, 'pad':1, 'stride':1},\n",
    "                 conv_param_4 = {'filter_num':32, 'filter_size':3, 'pad':2, 'stride':1},\n",
    "                 conv_param_5 = {'filter_num':64, 'filter_size':3, 'pad':1, 'stride':1},\n",
    "                 conv_param_6 = {'filter_num':64, 'filter_size':3, 'pad':1, 'stride':1},\n",
    "                 hidden_size=50, output_size=10):\n",
    "        # 重みの初期化===========\n",
    "        # 各層のニューロンひとつあたりが、前層のニューロンといくつのつながりがあるか（TODO:自動で計算する）\n",
    "        pre_node_nums = np.array([1*3*3, 16*3*3, 16*3*3, 32*3*3, 32*3*3, 64*3*3, 64*4*4, hidden_size])\n",
    "        weight_init_scales = np.sqrt(2.0 / pre_node_nums)  # ReLUを使う場合に推奨される初期値\n",
    "        \n",
    "        self.params = {}\n",
    "        pre_channel_num = input_dim[0]\n",
    "        for idx, conv_param in enumerate([conv_param_1, conv_param_2, conv_param_3, conv_param_4, conv_param_5, conv_param_6]):\n",
    "            self.params['W' + str(idx+1)] = weight_init_scales[idx] * np.random.randn(conv_param['filter_num'], pre_channel_num, conv_param['filter_size'], conv_param['filter_size'])\n",
    "            self.params['b' + str(idx+1)] = np.zeros(conv_param['filter_num'])\n",
    "            pre_channel_num = conv_param['filter_num']\n",
    "        self.params['W7'] = weight_init_scales[6] * np.random.randn(64*4*4, hidden_size)\n",
    "        self.params['b7'] = np.zeros(hidden_size)\n",
    "        self.params['W8'] = weight_init_scales[7] * np.random.randn(hidden_size, output_size)\n",
    "        self.params['b8'] = np.zeros(output_size)\n",
    "\n",
    "        # レイヤの生成===========\n",
    "        self.layers = []\n",
    "        self.layers.append(Convolution(self.params['W1'], self.params['b1'], \n",
    "                           conv_param_1['stride'], conv_param_1['pad']))\n",
    "        self.layers.append(Relu())\n",
    "        self.layers.append(Convolution(self.params['W2'], self.params['b2'], \n",
    "                           conv_param_2['stride'], conv_param_2['pad']))\n",
    "        self.layers.append(Relu())\n",
    "        self.layers.append(Pooling(pool_h=2, pool_w=2, stride=2))\n",
    "        self.layers.append(Convolution(self.params['W3'], self.params['b3'], \n",
    "                           conv_param_3['stride'], conv_param_3['pad']))\n",
    "        self.layers.append(Relu())\n",
    "        self.layers.append(Convolution(self.params['W4'], self.params['b4'],\n",
    "                           conv_param_4['stride'], conv_param_4['pad']))\n",
    "        self.layers.append(Relu())\n",
    "        self.layers.append(Pooling(pool_h=2, pool_w=2, stride=2))\n",
    "        self.layers.append(Convolution(self.params['W5'], self.params['b5'],\n",
    "                           conv_param_5['stride'], conv_param_5['pad']))\n",
    "        self.layers.append(Relu())\n",
    "        self.layers.append(Convolution(self.params['W6'], self.params['b6'],\n",
    "                           conv_param_6['stride'], conv_param_6['pad']))\n",
    "        self.layers.append(Relu())\n",
    "        self.layers.append(Pooling(pool_h=2, pool_w=2, stride=2))\n",
    "        self.layers.append(Affine(self.params['W7'], self.params['b7']))\n",
    "        self.layers.append(Relu())\n",
    "        self.layers.append(Dropout(0.5))\n",
    "        self.layers.append(Affine(self.params['W8'], self.params['b8']))\n",
    "        self.layers.append(Dropout(0.5))\n",
    "        \n",
    "        self.last_layer = SoftmaxWithLoss()\n",
    "\n",
    "    def predict(self, x, train_flg=False):\n",
    "        for layer in self.layers:\n",
    "            if isinstance(layer, Dropout):\n",
    "                x = layer.forward(x, train_flg)\n",
    "            else:\n",
    "                x = layer.forward(x)\n",
    "        return x\n",
    "\n",
    "    def loss(self, x, t):\n",
    "        y = self.predict(x, train_flg=True)\n",
    "        return self.last_layer.forward(y, t)\n",
    "\n",
    "    def accuracy(self, x, t, batch_size=100):\n",
    "        if t.ndim != 1 : t = np.argmax(t, axis=1)\n",
    "\n",
    "        acc = 0.0\n",
    "\n",
    "        for i in range(int(x.shape[0] / batch_size)):\n",
    "            tx = x[i*batch_size:(i+1)*batch_size]\n",
    "            tt = t[i*batch_size:(i+1)*batch_size]\n",
    "            y = self.predict(tx, train_flg=False)\n",
    "            y = np.argmax(y, axis=1)\n",
    "            acc += np.sum(y == tt)\n",
    "\n",
    "        return acc / x.shape[0]\n",
    "\n",
    "    def gradient(self, x, t):\n",
    "        # forward\n",
    "        self.loss(x, t)\n",
    "\n",
    "        # backward\n",
    "        dout = 1\n",
    "        dout = self.last_layer.backward(dout)\n",
    "\n",
    "        tmp_layers = self.layers.copy()\n",
    "        tmp_layers.reverse()\n",
    "        for layer in tmp_layers:\n",
    "            dout = layer.backward(dout)\n",
    "\n",
    "        # 設定\n",
    "        grads = {}\n",
    "        for i, layer_idx in enumerate((0, 2, 5, 7, 10, 12, 15, 18)):\n",
    "            grads['W' + str(i+1)] = self.layers[layer_idx].dW\n",
    "            grads['b' + str(i+1)] = self.layers[layer_idx].db\n",
    "\n",
    "        return grads\n",
    "\n",
    "    def save_params(self, file_name=\"params.pkl\"):\n",
    "        params = {}\n",
    "        for key, val in self.params.items():\n",
    "            params[key] = val\n",
    "        with open(file_name, 'wb') as f:\n",
    "            pickle.dump(params, f)\n",
    "\n",
    "    def load_params(self, file_name=\"params.pkl\"):\n",
    "        with open(file_name, 'rb') as f:\n",
    "            params = pickle.load(f)\n",
    "        for key, val in params.items():\n",
    "            self.params[key] = val\n",
    "\n",
    "        for i, layer_idx in enumerate((0, 2, 5, 7, 10, 12, 15, 18)):\n",
    "            self.layers[layer_idx].W = self.params['W' + str(i+1)]\n",
    "            self.layers[layer_idx].b = self.params['b' + str(i+1)]"
   ]
  },
  {
   "cell_type": "code",
   "execution_count": 7,
   "id": "c0b3d7a8",
   "metadata": {},
   "outputs": [
    {
     "data": {
      "text/plain": [
       "0.9935"
      ]
     },
     "execution_count": 7,
     "metadata": {},
     "output_type": "execute_result"
    }
   ],
   "source": [
    "#学習済みデータの精度を算出\n",
    "import matplotlib.pyplot as plt\n",
    "from dataset.mnist import load_mnist\n",
    "from common.trainer import Trainer\n",
    "\n",
    "(x_train, t_train), (x_test, t_test) = load_mnist(flatten=False)\n",
    "\n",
    "network = DeepConvNet()\n",
    "\n",
    "network.load_params(file_name=\"deep_convnet_params.pkl\")\n",
    "\n",
    "network.accuracy(x_test,t_test)"
   ]
  },
  {
   "cell_type": "markdown",
   "id": "b50761c8",
   "metadata": {},
   "source": [
    "これまでのネットワークよりも高い精度である。"
   ]
  },
  {
   "cell_type": "markdown",
   "id": "390c1bb0",
   "metadata": {},
   "source": [
    "# 有名なネットワーク"
   ]
  },
  {
   "cell_type": "markdown",
   "id": "13df929e",
   "metadata": {},
   "source": [
    "ImageNetは、100万枚を超える画像のデータセット。<br>\n",
    "ILSVRCのコンペティションの「クラス分類」では、ImageNetのデータを、1000クラスに分類する。<br>"
   ]
  },
  {
   "cell_type": "markdown",
   "id": "58f4554d",
   "metadata": {},
   "source": [
    "![画像を表示できません。](image.png)\n",
    "2012年を境に、ディープラーニングによる手法が常にトップに立っている。<br>\n",
    "上のうちVGG、GoogLeNet、ResNetのモデルを見る。"
   ]
  },
  {
   "cell_type": "markdown",
   "id": "11a0b509",
   "metadata": {},
   "source": [
    "## VGG"
   ]
  },
  {
   "cell_type": "markdown",
   "id": "c242011d",
   "metadata": {},
   "source": [
    "VGGはシンプルな構造で応用性が高いため、VGGベースのネットワークは多く利用される。"
   ]
  },
  {
   "cell_type": "markdown",
   "id": "a57a115c",
   "metadata": {},
   "source": [
    "VGGは基本的なCNNの構造で、全部で16または19層まで重ねて層を深くしている。<br>\n",
    "3×3の小さなフィルターによる畳み込み層を連続して行なっていることが特徴。"
   ]
  },
  {
   "cell_type": "markdown",
   "id": "ee3c0cc9",
   "metadata": {},
   "source": [
    "## GoogLeNet"
   ]
  },
  {
   "cell_type": "markdown",
   "id": "7853c8b8",
   "metadata": {},
   "source": [
    "![](image2.2.png)"
   ]
  },
  {
   "cell_type": "markdown",
   "id": "109237c5",
   "metadata": {},
   "source": [
    "GoogLeNetは縦方向の深さだけでなく、横方向にも広がりを持つ**インセプション構造**をベースとしていることが特徴。<br>\n",
    "サイズの異なるフィルター及びプーリングを複数適用し、結果を融合する構造をひとつのブロックとしている。<br><br>\n",
    "またフィルターサイズ1×1の畳み込み層を多く使用し、チャンネル方向のサイズを減らすことで、パラメータ削減や処理の高速化をしている。"
   ]
  },
  {
   "cell_type": "markdown",
   "id": "155c30f0",
   "metadata": {},
   "source": [
    "## ResNet"
   ]
  },
  {
   "cell_type": "markdown",
   "id": "9bc6494c",
   "metadata": {},
   "source": [
    "![](image2.3.png)"
   ]
  },
  {
   "cell_type": "markdown",
   "id": "b1917883",
   "metadata": {},
   "source": [
    "ディープラーニングの学習において、層を深くしすぎると学習がうまくいかないことが多々あった。<br>\n",
    "ResNeの特徴は、この問題の回避のために「スキップ構造」を導入し、層を深くできるようにしたこと。<br>\n",
    "逆伝播の際も、信号が減衰することなく伝わっていくため、勾配消失の問題を回避することができ、高い精度を達成した。<br>"
   ]
  },
  {
   "cell_type": "markdown",
   "id": "ad37643d",
   "metadata": {},
   "source": [
    "# 精度向上の手法"
   ]
  },
  {
   "cell_type": "markdown",
   "id": "ce438adc",
   "metadata": {},
   "source": [
    "「What is the class of this image ?」のWebサイトには、論文で発表された手法の認識精度がランキング形式で紹介されている。<br>\n",
    "ほとんどの手法で、**CNN**が用いられている。<br>\n",
    "ランキング上位の手法には、ネットワークの精度を高めるために参考にできる技術がある。"
   ]
  },
  {
   "cell_type": "markdown",
   "id": "ecc3e849",
   "metadata": {},
   "source": [
    "## アンサンブル学習"
   ]
  },
  {
   "cell_type": "markdown",
   "id": "2536ed15",
   "metadata": {},
   "source": [
    "## 学習係数の減衰（learning rate decay）"
   ]
  },
  {
   "cell_type": "markdown",
   "id": "931262ad",
   "metadata": {},
   "source": [
    "## データ拡張（Data Augmentation）"
   ]
  },
  {
   "cell_type": "markdown",
   "id": "66e2908f",
   "metadata": {},
   "source": [
    "![画像を表示できません。](image2.png)\n",
    "回転や移動による「変形」、画像の一部を切り出す「crop処理」、左右を反転させる「flip処理」の他、画像の輝度の変化や、拡大・縮小のスケール変化をつけるなどし、訓練画像を増やすことは、認識精度の向上に有効。"
   ]
  },
  {
   "cell_type": "markdown",
   "id": "bbbc5fcf",
   "metadata": {},
   "source": [
    "## 層を深くすること"
   ]
  },
  {
   "cell_type": "markdown",
   "id": "4dcfcf5b",
   "metadata": {},
   "source": [
    "新たなコンピュータの技術や、ビッグデータなどの新たな環境によって、層を深くし正しく学習することができるようになった。<br>\n",
    "ILSBRCなどのコンペティションの上位を占める手法の多くはディープラーニングによる手法。<br>\n",
    "層を深くすると認識精度が向上する可能性がある。以下はそのメリット。"
   ]
  },
  {
   "cell_type": "markdown",
   "id": "fca5e062",
   "metadata": {},
   "source": [
    "### パラメータ削減"
   ]
  },
  {
   "cell_type": "markdown",
   "id": "364653e1",
   "metadata": {},
   "source": [
    "![画像を表示できません。](image3.png)\n",
    "層を深くすると、より少ないパラメータで同レベルの表現力を達成できる。<br>\n",
    "層を深くすればするほど、パラメータ数の削減の割合は高くなる（7×7と3×3×3→削減率0.45、9×9と3×3×4→削減率0.56）。<br>\n",
    "重み$m$×$m$、層の深さを$n$のモデルのパラメータ数の削減率は$\\dfrac{m^{2}n^{2}-m^{2}n-2mn^{2}+n^{2}+2nm-2n+1}{m^{2}n^{2}-2mn^{2}+n^{2}+2nm-2n+1}$で表され、"
   ]
  },
  {
   "cell_type": "markdown",
   "id": "4f233a16",
   "metadata": {},
   "source": [
    "### 表現力の向上"
   ]
  },
  {
   "cell_type": "markdown",
   "id": "dee7bbb4",
   "metadata": {},
   "source": [
    "小さなフィルターを重ねてネットワークを深くすることで、**受容野**（ニューロンに変化を生じさせる局所的な空間領域）を広くカバーできる。<br>\n",
    "また層を深くすると、畳み込み層の間に「非線形」の活性化関数を挟むことができ、ネットワークがより複雑な表現をできるようになる。"
   ]
  },
  {
   "cell_type": "markdown",
   "id": "9ed7f460",
   "metadata": {},
   "source": [
    "### 学習の階層的な分解"
   ]
  },
  {
   "cell_type": "markdown",
   "id": "89b5244b",
   "metadata": {},
   "source": [
    "CNNの畳み込み層が階層的に情報を抽出している。<br>\n",
    "例えば画像認識の場合、最初の層はエッジだけを学習し、次以降の層はそのエッジの情報を使ってテクスチャや物体のパーツなど、段階的に複雑な処理ができるようになる。<br>\n",
    "複雑な問題を、解きやすいシンプルな問題に分解すことができ、効率的に学習ができる。"
   ]
  },
  {
   "cell_type": "markdown",
   "id": "efa82a98",
   "metadata": {},
   "source": [
    "# 高速化の手法"
   ]
  },
  {
   "cell_type": "markdown",
   "id": "6265810e",
   "metadata": {},
   "source": [
    "ディープラーニングにおいて最も時間のかかる部分は、畳み込み層の計算である。<br>\n",
    "つまり、積和演算の高速化が重要な課題である。"
   ]
  },
  {
   "cell_type": "markdown",
   "id": "39359f96",
   "metadata": {},
   "source": [
    "## GPUによる高速化"
   ]
  },
  {
   "cell_type": "markdown",
   "id": "c82dd071",
   "metadata": {},
   "source": [
    "連続的で複雑な計算を得意とするCPUに対し、GPUは大量の並列的な計算を得意とする。<br>\n",
    "大量の積和演算を**GPUコンピューティング**によって高速に行うことができる。<br><br>\n",
    "NVIDIA社提供のCUDAという統合開発環境がディープラーニングのフレームワークで作られているため、ディープラーニングにおいてはNVIDIA提供のGPUから恩恵を受けられる。<br>\n",
    "CUDA上で動作するcuDNNにはディープラーニング用に最適化された関数などが実装されている。"
   ]
  },
  {
   "cell_type": "markdown",
   "id": "ec70fc54",
   "metadata": {},
   "source": [
    "## 分散学習"
   ]
  },
  {
   "cell_type": "markdown",
   "id": "551c4aa7",
   "metadata": {},
   "source": [
    "複数のマシンを使用し、使用するGPUを増やすことで学習速度向上を目指すもの。<br>\n",
    "分散学習にいおいては「マシン間での通信」、「データの同期」など多くの問題がある。<br>\n",
    "TensorFlowやCNTKなどの優れたフレームワークを利用することができる。"
   ]
  },
  {
   "cell_type": "markdown",
   "id": "8edc274b",
   "metadata": {},
   "source": [
    "## 演算精度のビット削減"
   ]
  },
  {
   "cell_type": "markdown",
   "id": "5a041358",
   "metadata": {},
   "source": [
    "ニューラルネットワークのロバスト性により、ディープラーニングでは数値精度のビット数をそこまで必要としないことが分かっている。<br>\n",
    "大量の数値処理をするディープラーニングにおいては、メモリ容量やバス帯域についても考慮する必要があるため、数値を少し劣化させる。<br><br>\n",
    "以下のように、Numpyの半精度浮動小数点数を使っても認識精度はあまり低下しない。"
   ]
  },
  {
   "cell_type": "code",
   "execution_count": 4,
   "id": "4d9961ef",
   "metadata": {},
   "outputs": [
    {
     "name": "stdout",
     "output_type": "stream",
     "text": [
      "caluculate accuracy (float64) ... \n",
      "0.9935\n",
      "caluculate accuracy (float16) ... \n",
      "0.9935\n"
     ]
    }
   ],
   "source": [
    "import numpy as np\n",
    "import matplotlib.pyplot as plt\n",
    "from deep_convnet import DeepConvNet\n",
    "from dataset.mnist import load_mnist\n",
    "\n",
    "\n",
    "(x_train, t_train), (x_test, t_test) = load_mnist(flatten=False)\n",
    "\n",
    "network = DeepConvNet()\n",
    "network.load_params(\"deep_convnet_params.pkl\")\n",
    "\n",
    "sampled = 10000 # 高速化のため\n",
    "x_test = x_test[:sampled]\n",
    "t_test = t_test[:sampled]\n",
    "\n",
    "print(\"caluculate accuracy (float64) ... \")\n",
    "print(network.accuracy(x_test, t_test))\n",
    "\n",
    "# float16に型変換\n",
    "x_test = x_test.astype(np.float16)\n",
    "for param in network.params.values():\n",
    "    param[...] = param.astype(np.float16)\n",
    "\n",
    "print(\"caluculate accuracy (float16) ... \")\n",
    "print(network.accuracy(x_test, t_test))"
   ]
  },
  {
   "cell_type": "markdown",
   "id": "08cf2548",
   "metadata": {},
   "source": [
    "Pascalアーキテクチャ（NVIDIAの次世代GPU）では16ビットの半精度浮動小数点数（half float）の演算もサポートされるため、今後は半精度浮動小数点数が標準的に用いられると考えられる。<br><br>\n",
    "最近では、重みや中間データを1ビットで表グェンする「**Binarized Neural Networks**」という手法が提案されている。"
   ]
  },
  {
   "cell_type": "markdown",
   "id": "a23415d5",
   "metadata": {},
   "source": [
    "# 実用例と展望"
   ]
  },
  {
   "cell_type": "markdown",
   "id": "02c755d4",
   "metadata": {},
   "source": [
    "ディープラーニングでは、手書き数字認識などのクラス分類に代表される**物体認識**をはじめ、画像や音声、自然言語など、多くの分野に対して優れた性能を発揮する。"
   ]
  },
  {
   "cell_type": "markdown",
   "id": "004f271d",
   "metadata": {},
   "source": [
    "## 物体検出"
   ]
  },
  {
   "cell_type": "markdown",
   "id": "efbdfed4",
   "metadata": {},
   "source": []
  },
  {
   "cell_type": "markdown",
   "id": "67f2f5d8",
   "metadata": {},
   "source": [
    "物体検出は、画像中から物体の位置と物体の種類を特定する問題であり、物体認識よりも複雑。<br>\n",
    "CNNベースの手法がいくつか提案されているが、その中でも有名な**R-CNN**の処理フローを以下に示す。"
   ]
  },
  {
   "cell_type": "markdown",
   "id": "d1d56822",
   "metadata": {},
   "source": [
    "重要なポイントは、「2. 候補領域抽出」と「3. CNN特徴の計算」。<br>\n",
    "R-CNNの論文では、候補領域抽出で**Selective Search**と呼ばれる手法が使われている。<br><br>\n",
    "最近では、候補領域抽出もCNNで行う**Faster R-CNN**が提案されている。全てをひとつのCNNで行うため、高速な処理が可能。"
   ]
  },
  {
   "cell_type": "markdown",
   "id": "4fd12bfc",
   "metadata": {},
   "source": [
    "## セグメンテーション"
   ]
  },
  {
   "cell_type": "markdown",
   "id": "eebbfbdb",
   "metadata": {},
   "source": [
    "![](image5.1.png)\n",
    "引用：Everingham, Mark, and John Winn. \"The PASCAL visual object classes challenge 2012 (VOC2012) development kit.\" Pattern Anal. Stat. Model. Comput. Learn., Tech. Rep 2007 (2012): 1-45."
   ]
  },
  {
   "cell_type": "markdown",
   "id": "e4c68c89",
   "metadata": {},
   "source": [
    "セグメンテーションは、ピクセルレベルでクラス分類を行う問題。<br>\n",
    "ピクセルごとに推論処理を行うと多くの無駄な計算が発生してしまうが、**FCN**はこれを改善する。<br>"
   ]
  },
  {
   "cell_type": "markdown",
   "id": "85842990",
   "metadata": {},
   "source": [
    "![](image5.2.1.png)\n",
    "引用：Long, Jonathan, Evan Shelhamer, and Trevor Darrell. \"Fully convolutional networks for semantic segmentation.\" Proceedings of the IEEE conference on computer vision and pattern recognition. 2015.<br><br>\n",
    "一般的なCNNは全結合層を含むのに対し、FCNはそれを同じ働きをする畳み込み層に置き換える。"
   ]
  },
  {
   "cell_type": "markdown",
   "id": "1089456e",
   "metadata": {},
   "source": [
    "## 画像キャプション生成"
   ]
  },
  {
   "cell_type": "markdown",
   "id": "0c5d3c4e",
   "metadata": {},
   "source": [
    "![](image5.3.png)\n",
    "引用：Vinyals, Oriol, et al. \"Show and tell: A neural image caption generator.\" Proceedings of the IEEE conference on computer vision and pattern recognition. 2015."
   ]
  },
  {
   "cell_type": "markdown",
   "id": "c7c1686a",
   "metadata": {},
   "source": [
    "コンピュータビジョンと自然言語を融合させた研究。<br>\n",
    "**NIC**と呼ばれる代表的なモデルは、層が深いCNNと、自然言語を扱うための**RNN**を組み合わせた**マルチモーダル処理**が行われる。<br>\n",
    "具体的には、CNNによって画像から情報を抽出し、RNNはそれを初期値として再帰的にテキストを生成していく。<br>\n",
    "RNNは、再起的なつながりを持つネットワークであり、自然言語や時系列データなど持続性があるデータに対して用いられることが多い。"
   ]
  },
  {
   "cell_type": "markdown",
   "id": "cd85712a",
   "metadata": {},
   "source": [
    "## 画像スタイル変換"
   ]
  },
  {
   "cell_type": "markdown",
   "id": "7046f7e5",
   "metadata": {},
   "source": [
    "![](image5.4.png)\n",
    "引用：neural-style \"Touch implementation of neural style algorithm\""
   ]
  },
  {
   "cell_type": "markdown",
   "id": "a5a2a80c",
   "metadata": {},
   "source": [
    "上のように、描画スタイルを指定する「スタイル画像」と元画像である「コンテンツ画像」を入力する。<br>\n",
    "ネットワークの中間データが「コンテンツ画像」の中間データに近づくように学習することで、入力画像をコンテンツ画像の形状に似せる。<br>\n",
    "「スタイル画像」からスタイルを吸収するために、スタイル行列という概念を導入し、このズレを小さくするように学習することで、スタイルを似せることができる。"
   ]
  },
  {
   "cell_type": "markdown",
   "id": "08886f9e",
   "metadata": {},
   "source": [
    "## 画像生成"
   ]
  },
  {
   "cell_type": "markdown",
   "id": "9e04363d",
   "metadata": {},
   "source": [
    "**DCGAN**はリアルな画像を新たに生成するもの。<br>\n",
    "テーマに合う画像を大量に学習し、Generator（画像を生成）とDiscriminator（生成されたものか本物かを判断）の2つのニューラルネットワークが競うように成長していく**GAN**と呼ばれる技術が用いられている。<br><br>\n",
    "これは、データと教師ラベルが対になって与えられる**教師あり学習**ではなく、教師データが与えられない**教師なし学習**である。"
   ]
  },
  {
   "cell_type": "markdown",
   "id": "80147d59",
   "metadata": {},
   "source": [
    "## 自動運転"
   ]
  },
  {
   "cell_type": "markdown",
   "id": "58e1947c",
   "metadata": {},
   "source": [
    "さまざまな環境でもロバストに走行領域を正しく認識できるようになる必要がある。<br>\n",
    "**SegNet**と呼ばれるCNNベースのネットワークでは、高精度に走路環境を認識し、入力画像に対しセグメンテーション（ピクセルレベルの判定）を行う。"
   ]
  },
  {
   "cell_type": "markdown",
   "id": "b7a5e2c0",
   "metadata": {},
   "source": [
    "## Deep Q-Network（強化学習）"
   ]
  },
  {
   "cell_type": "markdown",
   "id": "6b58bb41",
   "metadata": {},
   "source": [
    "強化学習は、試行錯誤の過程から自立的に学習させようとするもの。<br>\n",
    "基本的な枠組みは、エージェントが環境に応じて行動を選択し、行動によって報酬を得て、できるだけ多くの報酬を得られるように行動方針を決めるということ。<br><br>\n",
    "DQNはQ学習と呼ばれる最適行動価値関数を使用した強化学習のアルゴリズムをベースとする。<br>\n",
    "その関数を近似するためにCNNを用いるのがDQN。<br><br>\n",
    "囲碁のAlphaGoをはじめ、ディープラーニングや強化学習の性能が人間を上回ることが多くなってきた。"
   ]
  },
  {
   "cell_type": "code",
   "execution_count": null,
   "id": "bfd98f5a",
   "metadata": {},
   "outputs": [],
   "source": []
  }
 ],
 "metadata": {
  "kernelspec": {
   "display_name": "Python 3",
   "language": "python",
   "name": "python3"
  },
  "language_info": {
   "codemirror_mode": {
    "name": "ipython",
    "version": 3
   },
   "file_extension": ".py",
   "mimetype": "text/x-python",
   "name": "python",
   "nbconvert_exporter": "python",
   "pygments_lexer": "ipython3",
   "version": "3.8.8"
  },
  "toc": {
   "base_numbering": 1,
   "nav_menu": {},
   "number_sections": true,
   "sideBar": true,
   "skip_h1_title": false,
   "title_cell": "Table of Contents",
   "title_sidebar": "Contents",
   "toc_cell": false,
   "toc_position": {},
   "toc_section_display": true,
   "toc_window_display": true
  }
 },
 "nbformat": 4,
 "nbformat_minor": 5
}
